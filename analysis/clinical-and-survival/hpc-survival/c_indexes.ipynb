{
 "cells": [
  {
   "cell_type": "code",
   "execution_count": 1,
   "metadata": {},
   "outputs": [],
   "source": [
    "from lifelines import CoxPHFitter\n",
    "from lifelines import KaplanMeierFitter\n",
    "from lifelines.utils import concordance_index\n",
    "from lifelines.plotting import add_at_risk_counts\n",
    "from lifelines.statistics import pairwise_logrank_test\n",
    "import matplotlib.pyplot as plt\n",
    "import numpy as np\n",
    "import os\n",
    "import pandas as pd\n",
    "import pickle\n",
    "import seaborn as sns\n",
    "from skbio.stats.composition import clr\n",
    "from sklearn.preprocessing import normalize\n",
    "from sklearn.utils import resample\n",
    "import time\n",
    "\n",
    "import warnings\n",
    "warnings.filterwarnings(\"ignore\", message=\"FutureWarning\")\n",
    "\n",
    "import sys\n",
    "main_path = '/nfs/home/users/krakovic/sharedscratch/Histomorphological-Phenotype-Learning/'\n",
    "sys.path.append(main_path)\n",
    "# from models.clustering.cox_proportional_hazard_regression_leiden_clusters import *\n",
    "\n",
    "sys.path.append('/nfs/home/users/krakovic/sharedscratch/notebooks/latticea_he/libraries')\n",
    "from survival import *\n",
    "from clinical import load_clinical\n",
    "from data_processing import *\n",
    "from forest_plots import *"
   ]
  },
  {
   "cell_type": "code",
   "execution_count": 2,
   "metadata": {},
   "outputs": [],
   "source": [
    "iaslc_grade = pd.read_csv('/mnt/cephfs/sharedscratch/users/krakovic/Histomorphological-Phenotype-Learning/results/BarlowTwins_3/LATTICeA_5x/h224_w224_n3_zdim128_filtered/rapids_2p5m/rapids_2p5m_leiden_2.5_l1ratio_0_mintiles_100_os_event_ind_20241127_123050_IASLC_grade/c_indexes.csv', index_col=0)\n",
    "iaslc_grade = pd.melt(iaslc_grade, id_vars=['fold', 'alpha'], var_name='Set', value_vars=['train', 'test', 'additional'], value_name='c_index')\n",
    "iaslc_grade['model'] = 'IASLC Grade'\n",
    "# iaslc_grade = iaslc_grade[iaslc_grade['alpha'] == 0.0001]\n",
    "\n",
    "tumour = pd.read_csv('/mnt/cephfs/sharedscratch/users/krakovic/Histomorphological-Phenotype-Learning/results/BarlowTwins_3/LATTICeA_5x/h224_w224_n3_zdim128_filtered/rapids_2p5m/rapids_2p5m_leiden_2.5_l1ratio_0p2_mintiles_100_os_event_ind_20241126_17335_new_tumour_HPL_vectors/c_indexes.csv', index_col=0)\n",
    "tumour = pd.melt(tumour, id_vars=['fold', 'alpha'], var_name='Set', value_vars=['train', 'test', 'additional'], value_name='c_index')\n",
    "tumour['model'] = r'$HPL_{Tumour}$'\n",
    "# tumour = tumour[tumour['alpha'] == ]\n",
    "\n",
    "stroma = pd.read_csv('/mnt/cephfs/sharedscratch/users/krakovic/Histomorphological-Phenotype-Learning/results/BarlowTwins_3/LATTICeA_5x/h224_w224_n3_zdim128_filtered/rapids_2p5m/rapids_2p5m_leiden_2.5_l1ratio_0p2_mintiles_100_os_event_ind_20241126_174844_new_stroma_HPL_vectors/c_indexes.csv', index_col=0)\n",
    "stroma = pd.melt(stroma, id_vars=['fold', 'alpha'], var_name='Set', value_vars=['train', 'test', 'additional'], value_name='c_index')\n",
    "stroma['model'] = r'$HPL_{Stroma}$'\n",
    "\n",
    "tum_stroma = pd.read_csv('/mnt/cephfs/sharedscratch/users/krakovic/Histomorphological-Phenotype-Learning/results/BarlowTwins_3/LATTICeA_5x/h224_w224_n3_zdim128_filtered/rapids_2p5m/rapids_2p5m_leiden_2.5_l1ratio_0p2_mintiles_100_os_event_ind_20241126_155025_all_abnormal_HPL_vectors/c_indexes.csv', index_col=0)\n",
    "tum_stroma = pd.melt(tum_stroma, id_vars=['fold', 'alpha'], var_name='Set', value_vars=['train', 'test', 'additional'], value_name='c_index')\n",
    "tum_stroma['model'] = r'$HPL_{Tumour + Stroma}$'\n",
    "\n",
    "tumour_grade = pd.read_csv('/mnt/cephfs/sharedscratch/users/krakovic/Histomorphological-Phenotype-Learning/results/BarlowTwins_3/LATTICeA_5x/h224_w224_n3_zdim128_filtered/rapids_2p5m/rapids_2p5m_leiden_2.5_l1ratio_0_mintiles_100_os_event_ind_20241127_135526_grade_and_tumour/c_indexes.csv', index_col=0)\n",
    "tumour_grade = pd.melt(tumour_grade, id_vars=['fold', 'alpha'], var_name='Set', value_vars=['train', 'test', 'additional'], value_name='c_index')\n",
    "tumour_grade['model'] = r'$HPL_{Tumour}$' + f'+\\nIASLC Grade'\n",
    "# tumour_grade = tumour_grade[tumour_grade['alpha'] == 0.3906939937054613]\n",
    "\n",
    "stroma_grade = pd.read_csv('/mnt/cephfs/sharedscratch/users/krakovic/Histomorphological-Phenotype-Learning/results/BarlowTwins_3/LATTICeA_5x/h224_w224_n3_zdim128_filtered/rapids_2p5m/rapids_2p5m_leiden_2.5_l1ratio_0_mintiles_100_os_event_ind_20241127_13208_grade_and_stroma/c_indexes.csv', index_col=0)\n",
    "stroma_grade = pd.melt(stroma_grade, id_vars=['fold', 'alpha'], var_name='Set', value_vars=['train', 'test', 'additional'], value_name='c_index')\n",
    "stroma_grade['model'] = r'$HPL_{Stroma}$' + f'+\\nIASLC Grade'\n",
    "\n",
    "# all_hpl_grade = pd.read_csv('/mnt/cephfs/sharedscratch/users/krakovic/Histomorphological-Phenotype-Learning/results/BarlowTwins_3/LATTICeA_5x/h224_w224_n3_zdim128_filtered/rapids_2p5m/rapids_2p5m_leiden_2.5_l1ratio_0_mintiles_100_os_event_ind_20241121_15215_new_all_abnormal_and_grade/c_indexes.csv', index_col=0)\n",
    "# all_hpl_grade = pd.melt(all_hpl_grade, id_vars=['fold', 'alpha'], var_name='Set', value_vars=['train', 'test', 'additional'], value_name='c_index')\n",
    "# all_hpl_grade['model'] = r'$HPL_{Tumour + Stroma}$' + f'+\\nIASLC Grade'"
   ]
  },
  {
   "cell_type": "code",
   "execution_count": 3,
   "metadata": {},
   "outputs": [
    {
     "data": {
      "text/plain": [
       "0.03972900385534702"
      ]
     },
     "execution_count": 3,
     "metadata": {},
     "output_type": "execute_result"
    }
   ],
   "source": [
    "tumour_grade[tumour_grade['Set'] == 'test']['c_index'].std()"
   ]
  },
  {
   "cell_type": "code",
   "execution_count": 5,
   "metadata": {},
   "outputs": [
    {
     "data": {
      "application/vnd.microsoft.datawrangler.viewer.v0+json": {
       "columns": [
        {
         "name": "index",
         "rawType": "int64",
         "type": "integer"
        },
        {
         "name": "fold",
         "rawType": "int64",
         "type": "integer"
        },
        {
         "name": "alpha",
         "rawType": "float64",
         "type": "float"
        },
        {
         "name": "Set",
         "rawType": "object",
         "type": "string"
        },
        {
         "name": "c_index",
         "rawType": "float64",
         "type": "float"
        },
        {
         "name": "model",
         "rawType": "object",
         "type": "string"
        }
       ],
       "ref": "c847094e-918c-4e42-989a-9245c1d91532",
       "rows": [
        [
         "0",
         "0",
         "0.0001",
         "Train",
         "0.5908014623294058",
         "IASLC Grade"
        ],
        [
         "1",
         "1",
         "0.0001",
         "Train",
         "0.5814361688192607",
         "IASLC Grade"
        ],
        [
         "2",
         "2",
         "0.0001",
         "Train",
         "0.566436592595798",
         "IASLC Grade"
        ],
        [
         "3",
         "3",
         "0.0001",
         "Train",
         "0.6014476452607481",
         "IASLC Grade"
        ],
        [
         "4",
         "4",
         "0.0001",
         "Train",
         "0.5872655238624812",
         "IASLC Grade"
        ],
        [
         "5",
         "0",
         "0.0001456348477501",
         "Train",
         "0.5908014623294058",
         "IASLC Grade"
        ],
        [
         "6",
         "1",
         "0.0001456348477501",
         "Train",
         "0.5814361688192607",
         "IASLC Grade"
        ],
        [
         "7",
         "2",
         "0.0001456348477501",
         "Train",
         "0.566436592595798",
         "IASLC Grade"
        ],
        [
         "8",
         "3",
         "0.0001456348477501",
         "Train",
         "0.6014476452607481",
         "IASLC Grade"
        ],
        [
         "9",
         "4",
         "0.0001456348477501",
         "Train",
         "0.5872655238624812",
         "IASLC Grade"
        ],
        [
         "10",
         "0",
         "0.000212095088792",
         "Train",
         "0.5908014623294058",
         "IASLC Grade"
        ],
        [
         "11",
         "1",
         "0.000212095088792",
         "Train",
         "0.5814361688192607",
         "IASLC Grade"
        ],
        [
         "12",
         "2",
         "0.000212095088792",
         "Train",
         "0.566436592595798",
         "IASLC Grade"
        ],
        [
         "13",
         "3",
         "0.000212095088792",
         "Train",
         "0.6014476452607481",
         "IASLC Grade"
        ],
        [
         "14",
         "4",
         "0.000212095088792",
         "Train",
         "0.5872655238624812",
         "IASLC Grade"
        ],
        [
         "15",
         "0",
         "0.0003088843596477",
         "Train",
         "0.5908014623294058",
         "IASLC Grade"
        ],
        [
         "16",
         "1",
         "0.0003088843596477",
         "Train",
         "0.5814361688192607",
         "IASLC Grade"
        ],
        [
         "17",
         "2",
         "0.0003088843596477",
         "Train",
         "0.566436592595798",
         "IASLC Grade"
        ],
        [
         "18",
         "3",
         "0.0003088843596477",
         "Train",
         "0.6014476452607481",
         "IASLC Grade"
        ],
        [
         "19",
         "4",
         "0.0003088843596477",
         "Train",
         "0.5872655238624812",
         "IASLC Grade"
        ],
        [
         "20",
         "0",
         "0.0004498432668969",
         "Train",
         "0.5908014623294058",
         "IASLC Grade"
        ],
        [
         "21",
         "1",
         "0.0004498432668969",
         "Train",
         "0.5814361688192607",
         "IASLC Grade"
        ],
        [
         "22",
         "2",
         "0.0004498432668969",
         "Train",
         "0.566436592595798",
         "IASLC Grade"
        ],
        [
         "23",
         "3",
         "0.0004498432668969",
         "Train",
         "0.6014476452607481",
         "IASLC Grade"
        ],
        [
         "24",
         "4",
         "0.0004498432668969",
         "Train",
         "0.5872655238624812",
         "IASLC Grade"
        ],
        [
         "25",
         "0",
         "0.0006551285568595",
         "Train",
         "0.5908014623294058",
         "IASLC Grade"
        ],
        [
         "26",
         "1",
         "0.0006551285568595",
         "Train",
         "0.5814361688192607",
         "IASLC Grade"
        ],
        [
         "27",
         "2",
         "0.0006551285568595",
         "Train",
         "0.566436592595798",
         "IASLC Grade"
        ],
        [
         "28",
         "3",
         "0.0006551285568595",
         "Train",
         "0.6014476452607481",
         "IASLC Grade"
        ],
        [
         "29",
         "4",
         "0.0006551285568595",
         "Train",
         "0.5872655238624812",
         "IASLC Grade"
        ],
        [
         "30",
         "0",
         "0.0009540954763499",
         "Train",
         "0.5908014623294058",
         "IASLC Grade"
        ],
        [
         "31",
         "1",
         "0.0009540954763499",
         "Train",
         "0.5814361688192607",
         "IASLC Grade"
        ],
        [
         "32",
         "2",
         "0.0009540954763499",
         "Train",
         "0.566436592595798",
         "IASLC Grade"
        ],
        [
         "33",
         "3",
         "0.0009540954763499",
         "Train",
         "0.6014476452607481",
         "IASLC Grade"
        ],
        [
         "34",
         "4",
         "0.0009540954763499",
         "Train",
         "0.5872655238624812",
         "IASLC Grade"
        ],
        [
         "35",
         "0",
         "0.0013894954943731",
         "Train",
         "0.5908014623294058",
         "IASLC Grade"
        ],
        [
         "36",
         "1",
         "0.0013894954943731",
         "Train",
         "0.5814361688192607",
         "IASLC Grade"
        ],
        [
         "37",
         "2",
         "0.0013894954943731",
         "Train",
         "0.566436592595798",
         "IASLC Grade"
        ],
        [
         "38",
         "3",
         "0.0013894954943731",
         "Train",
         "0.6014476452607481",
         "IASLC Grade"
        ],
        [
         "39",
         "4",
         "0.0013894954943731",
         "Train",
         "0.5872655238624812",
         "IASLC Grade"
        ],
        [
         "40",
         "0",
         "0.0020235896477251",
         "Train",
         "0.5908014623294058",
         "IASLC Grade"
        ],
        [
         "41",
         "1",
         "0.0020235896477251",
         "Train",
         "0.5814361688192607",
         "IASLC Grade"
        ],
        [
         "42",
         "2",
         "0.0020235896477251",
         "Train",
         "0.566436592595798",
         "IASLC Grade"
        ],
        [
         "43",
         "3",
         "0.0020235896477251",
         "Train",
         "0.6014476452607481",
         "IASLC Grade"
        ],
        [
         "44",
         "4",
         "0.0020235896477251",
         "Train",
         "0.5872655238624812",
         "IASLC Grade"
        ],
        [
         "45",
         "0",
         "0.0029470517025518",
         "Train",
         "0.5908014623294058",
         "IASLC Grade"
        ],
        [
         "46",
         "1",
         "0.0029470517025518",
         "Train",
         "0.5814361688192607",
         "IASLC Grade"
        ],
        [
         "47",
         "2",
         "0.0029470517025518",
         "Train",
         "0.566436592595798",
         "IASLC Grade"
        ],
        [
         "48",
         "3",
         "0.0029470517025518",
         "Train",
         "0.6014476452607481",
         "IASLC Grade"
        ],
        [
         "49",
         "4",
         "0.0029470517025518",
         "Train",
         "0.5872655238624812",
         "IASLC Grade"
        ]
       ],
       "shape": {
        "columns": 5,
        "rows": 4500
       }
      },
      "text/html": [
       "<div>\n",
       "<style scoped>\n",
       "    .dataframe tbody tr th:only-of-type {\n",
       "        vertical-align: middle;\n",
       "    }\n",
       "\n",
       "    .dataframe tbody tr th {\n",
       "        vertical-align: top;\n",
       "    }\n",
       "\n",
       "    .dataframe thead th {\n",
       "        text-align: right;\n",
       "    }\n",
       "</style>\n",
       "<table border=\"1\" class=\"dataframe\">\n",
       "  <thead>\n",
       "    <tr style=\"text-align: right;\">\n",
       "      <th></th>\n",
       "      <th>fold</th>\n",
       "      <th>alpha</th>\n",
       "      <th>Set</th>\n",
       "      <th>c_index</th>\n",
       "      <th>model</th>\n",
       "    </tr>\n",
       "  </thead>\n",
       "  <tbody>\n",
       "    <tr>\n",
       "      <th>0</th>\n",
       "      <td>0</td>\n",
       "      <td>0.0001</td>\n",
       "      <td>Train</td>\n",
       "      <td>0.590801</td>\n",
       "      <td>IASLC Grade</td>\n",
       "    </tr>\n",
       "    <tr>\n",
       "      <th>1</th>\n",
       "      <td>1</td>\n",
       "      <td>0.0001</td>\n",
       "      <td>Train</td>\n",
       "      <td>0.581436</td>\n",
       "      <td>IASLC Grade</td>\n",
       "    </tr>\n",
       "    <tr>\n",
       "      <th>2</th>\n",
       "      <td>2</td>\n",
       "      <td>0.0001</td>\n",
       "      <td>Train</td>\n",
       "      <td>0.566437</td>\n",
       "      <td>IASLC Grade</td>\n",
       "    </tr>\n",
       "    <tr>\n",
       "      <th>3</th>\n",
       "      <td>3</td>\n",
       "      <td>0.0001</td>\n",
       "      <td>Train</td>\n",
       "      <td>0.601448</td>\n",
       "      <td>IASLC Grade</td>\n",
       "    </tr>\n",
       "    <tr>\n",
       "      <th>4</th>\n",
       "      <td>4</td>\n",
       "      <td>0.0001</td>\n",
       "      <td>Train</td>\n",
       "      <td>0.587266</td>\n",
       "      <td>IASLC Grade</td>\n",
       "    </tr>\n",
       "    <tr>\n",
       "      <th>...</th>\n",
       "      <td>...</td>\n",
       "      <td>...</td>\n",
       "      <td>...</td>\n",
       "      <td>...</td>\n",
       "      <td>...</td>\n",
       "    </tr>\n",
       "    <tr>\n",
       "      <th>745</th>\n",
       "      <td>0</td>\n",
       "      <td>10000.0000</td>\n",
       "      <td>TCGA</td>\n",
       "      <td>0.625803</td>\n",
       "      <td>$HPL_{Stroma}$+\\nIASLC Grade</td>\n",
       "    </tr>\n",
       "    <tr>\n",
       "      <th>746</th>\n",
       "      <td>1</td>\n",
       "      <td>10000.0000</td>\n",
       "      <td>TCGA</td>\n",
       "      <td>0.618039</td>\n",
       "      <td>$HPL_{Stroma}$+\\nIASLC Grade</td>\n",
       "    </tr>\n",
       "    <tr>\n",
       "      <th>747</th>\n",
       "      <td>2</td>\n",
       "      <td>10000.0000</td>\n",
       "      <td>TCGA</td>\n",
       "      <td>0.623161</td>\n",
       "      <td>$HPL_{Stroma}$+\\nIASLC Grade</td>\n",
       "    </tr>\n",
       "    <tr>\n",
       "      <th>748</th>\n",
       "      <td>3</td>\n",
       "      <td>10000.0000</td>\n",
       "      <td>TCGA</td>\n",
       "      <td>0.624380</td>\n",
       "      <td>$HPL_{Stroma}$+\\nIASLC Grade</td>\n",
       "    </tr>\n",
       "    <tr>\n",
       "      <th>749</th>\n",
       "      <td>4</td>\n",
       "      <td>10000.0000</td>\n",
       "      <td>TCGA</td>\n",
       "      <td>0.626697</td>\n",
       "      <td>$HPL_{Stroma}$+\\nIASLC Grade</td>\n",
       "    </tr>\n",
       "  </tbody>\n",
       "</table>\n",
       "<p>4500 rows × 5 columns</p>\n",
       "</div>"
      ],
      "text/plain": [
       "     fold       alpha    Set   c_index                         model\n",
       "0       0      0.0001  Train  0.590801                   IASLC Grade\n",
       "1       1      0.0001  Train  0.581436                   IASLC Grade\n",
       "2       2      0.0001  Train  0.566437                   IASLC Grade\n",
       "3       3      0.0001  Train  0.601448                   IASLC Grade\n",
       "4       4      0.0001  Train  0.587266                   IASLC Grade\n",
       "..    ...         ...    ...       ...                           ...\n",
       "745     0  10000.0000   TCGA  0.625803  $HPL_{Stroma}$+\\nIASLC Grade\n",
       "746     1  10000.0000   TCGA  0.618039  $HPL_{Stroma}$+\\nIASLC Grade\n",
       "747     2  10000.0000   TCGA  0.623161  $HPL_{Stroma}$+\\nIASLC Grade\n",
       "748     3  10000.0000   TCGA  0.624380  $HPL_{Stroma}$+\\nIASLC Grade\n",
       "749     4  10000.0000   TCGA  0.626697  $HPL_{Stroma}$+\\nIASLC Grade\n",
       "\n",
       "[4500 rows x 5 columns]"
      ]
     },
     "execution_count": 5,
     "metadata": {},
     "output_type": "execute_result"
    }
   ],
   "source": [
    "c_ind_frame = pd.concat([iaslc_grade, tumour, stroma, tum_stroma, tumour_grade, stroma_grade])\n",
    "# c_ind_frame = pd.concat([iaslc_grade, tumour, stroma, tum_stroma, tumour_grade, stroma_grade, all_hpl_grade])\n",
    "c_ind_frame['Set'] = c_ind_frame['Set'].apply(lambda x: x.capitalize())\n",
    "c_ind_frame = c_ind_frame.replace({'Additional':'TCGA'})\n",
    "\n",
    "c_ind_frame"
   ]
  },
  {
   "cell_type": "code",
   "execution_count": 12,
   "metadata": {},
   "outputs": [
    {
     "name": "stderr",
     "output_type": "stream",
     "text": [
      "/tmp/ipykernel_2370394/1516088875.py:5: UserWarning: set_ticklabels() should only be used with a fixed number of ticks, i.e. after set_ticks() or using a FixedLocator.\n",
      "  ax.set_xticklabels(ax.get_xticklabels(), rotation=30)\n"
     ]
    },
    {
     "data": {
      "image/png": "[encoded data removed]",
      "text/plain": [
       "<Figure size 900x432 with 1 Axes>"
      ]
     },
     "metadata": {
      "needs_background": "light"
     },
     "output_type": "display_data"
    }
   ],
   "source": [
    "sns.set_context(\"paper\", font_scale=2.0)\n",
    "fig, ax = plt.subplots(figsize=(12.5,6))\n",
    "sns.barplot(data = c_ind_frame, x = 'model', y = 'c_index', hue = 'Set', ax=ax)\n",
    "# sns.pointplot(data = c_ind_frame, x = 'model', y = 'c_index', hue = 'Set', join=False, dodge=0.5, scale=2.0, capsize=0.2, errwidth=4.0, errorbar='sd', ax=ax)\n",
    "ax.set_xticklabels(ax.get_xticklabels(), rotation=30)\n",
    "ax.set_ylim([0.5,0.7])\n",
    "ax.set_ylabel('C-index')\n",
    "ax.set_xlabel('Model')\n",
    "plt.savefig('/nfs/home/users/krakovic/sharedscratch/notebooks/latticea_he/final_figures/survival/250707_barplot_c_index.pdf', dpi=300, bbox_inches='tight', pad_inches=0.1)"
   ]
  },
  {
   "cell_type": "code",
   "execution_count": 6,
   "metadata": {},
   "outputs": [
    {
     "data": {
      "text/html": [
       "<div>\n",
       "<style scoped>\n",
       "    .dataframe tbody tr th:only-of-type {\n",
       "        vertical-align: middle;\n",
       "    }\n",
       "\n",
       "    .dataframe tbody tr th {\n",
       "        vertical-align: top;\n",
       "    }\n",
       "\n",
       "    .dataframe thead th {\n",
       "        text-align: right;\n",
       "    }\n",
       "</style>\n",
       "<table border=\"1\" class=\"dataframe\">\n",
       "  <thead>\n",
       "    <tr style=\"text-align: right;\">\n",
       "      <th></th>\n",
       "      <th>fold</th>\n",
       "      <th>alpha</th>\n",
       "      <th>Set</th>\n",
       "      <th>c_index</th>\n",
       "      <th>model</th>\n",
       "    </tr>\n",
       "  </thead>\n",
       "  <tbody>\n",
       "    <tr>\n",
       "      <th>0</th>\n",
       "      <td>0</td>\n",
       "      <td>0.0001</td>\n",
       "      <td>Train</td>\n",
       "      <td>0.590801</td>\n",
       "      <td>IASLC Grade</td>\n",
       "    </tr>\n",
       "    <tr>\n",
       "      <th>1</th>\n",
       "      <td>1</td>\n",
       "      <td>0.0001</td>\n",
       "      <td>Train</td>\n",
       "      <td>0.581436</td>\n",
       "      <td>IASLC Grade</td>\n",
       "    </tr>\n",
       "    <tr>\n",
       "      <th>2</th>\n",
       "      <td>2</td>\n",
       "      <td>0.0001</td>\n",
       "      <td>Train</td>\n",
       "      <td>0.566437</td>\n",
       "      <td>IASLC Grade</td>\n",
       "    </tr>\n",
       "    <tr>\n",
       "      <th>3</th>\n",
       "      <td>3</td>\n",
       "      <td>0.0001</td>\n",
       "      <td>Train</td>\n",
       "      <td>0.601448</td>\n",
       "      <td>IASLC Grade</td>\n",
       "    </tr>\n",
       "    <tr>\n",
       "      <th>4</th>\n",
       "      <td>4</td>\n",
       "      <td>0.0001</td>\n",
       "      <td>Train</td>\n",
       "      <td>0.587266</td>\n",
       "      <td>IASLC Grade</td>\n",
       "    </tr>\n",
       "    <tr>\n",
       "      <th>...</th>\n",
       "      <td>...</td>\n",
       "      <td>...</td>\n",
       "      <td>...</td>\n",
       "      <td>...</td>\n",
       "      <td>...</td>\n",
       "    </tr>\n",
       "    <tr>\n",
       "      <th>745</th>\n",
       "      <td>0</td>\n",
       "      <td>10000.0000</td>\n",
       "      <td>TCGA</td>\n",
       "      <td>0.625803</td>\n",
       "      <td>$HPL_{Stroma}$+\\nIASLC Grade</td>\n",
       "    </tr>\n",
       "    <tr>\n",
       "      <th>746</th>\n",
       "      <td>1</td>\n",
       "      <td>10000.0000</td>\n",
       "      <td>TCGA</td>\n",
       "      <td>0.618039</td>\n",
       "      <td>$HPL_{Stroma}$+\\nIASLC Grade</td>\n",
       "    </tr>\n",
       "    <tr>\n",
       "      <th>747</th>\n",
       "      <td>2</td>\n",
       "      <td>10000.0000</td>\n",
       "      <td>TCGA</td>\n",
       "      <td>0.623161</td>\n",
       "      <td>$HPL_{Stroma}$+\\nIASLC Grade</td>\n",
       "    </tr>\n",
       "    <tr>\n",
       "      <th>748</th>\n",
       "      <td>3</td>\n",
       "      <td>10000.0000</td>\n",
       "      <td>TCGA</td>\n",
       "      <td>0.624380</td>\n",
       "      <td>$HPL_{Stroma}$+\\nIASLC Grade</td>\n",
       "    </tr>\n",
       "    <tr>\n",
       "      <th>749</th>\n",
       "      <td>4</td>\n",
       "      <td>10000.0000</td>\n",
       "      <td>TCGA</td>\n",
       "      <td>0.626697</td>\n",
       "      <td>$HPL_{Stroma}$+\\nIASLC Grade</td>\n",
       "    </tr>\n",
       "  </tbody>\n",
       "</table>\n",
       "<p>4500 rows × 5 columns</p>\n",
       "</div>"
      ],
      "text/plain": [
       "     fold       alpha    Set   c_index                         model\n",
       "0       0      0.0001  Train  0.590801                   IASLC Grade\n",
       "1       1      0.0001  Train  0.581436                   IASLC Grade\n",
       "2       2      0.0001  Train  0.566437                   IASLC Grade\n",
       "3       3      0.0001  Train  0.601448                   IASLC Grade\n",
       "4       4      0.0001  Train  0.587266                   IASLC Grade\n",
       "..    ...         ...    ...       ...                           ...\n",
       "745     0  10000.0000   TCGA  0.625803  $HPL_{Stroma}$+\\nIASLC Grade\n",
       "746     1  10000.0000   TCGA  0.618039  $HPL_{Stroma}$+\\nIASLC Grade\n",
       "747     2  10000.0000   TCGA  0.623161  $HPL_{Stroma}$+\\nIASLC Grade\n",
       "748     3  10000.0000   TCGA  0.624380  $HPL_{Stroma}$+\\nIASLC Grade\n",
       "749     4  10000.0000   TCGA  0.626697  $HPL_{Stroma}$+\\nIASLC Grade\n",
       "\n",
       "[4500 rows x 5 columns]"
      ]
     },
     "execution_count": 6,
     "metadata": {},
     "output_type": "execute_result"
    }
   ],
   "source": [
    "c_ind_frame"
   ]
  },
  {
   "cell_type": "code",
   "execution_count": 11,
   "metadata": {},
   "outputs": [
    {
     "name": "stderr",
     "output_type": "stream",
     "text": [
      "/tmp/ipykernel_1237220/454930728.py:6: UserWarning: \n",
      "\n",
      "The `scale` parameter is deprecated and will be removed in v0.15.0. You can now control the size of each plot element using matplotlib `Line2D` parameters (e.g., `linewidth`, `markersize`, etc.).\n",
      "\n",
      "  sns.pointplot(data = c_ind_frame_tum_only, x = 'model', y = 'c_index', hue = 'Set', join=False, dodge=0.5, scale=2.0, capsize=0.2, errwidth=4.0, errorbar='sd', ax=ax)\n",
      "/tmp/ipykernel_1237220/454930728.py:6: UserWarning: \n",
      "\n",
      "The `join` parameter is deprecated and will be removed in v0.15.0. You can remove the line between points with `linestyle='none'`.\n",
      "\n",
      "  sns.pointplot(data = c_ind_frame_tum_only, x = 'model', y = 'c_index', hue = 'Set', join=False, dodge=0.5, scale=2.0, capsize=0.2, errwidth=4.0, errorbar='sd', ax=ax)\n",
      "/tmp/ipykernel_1237220/454930728.py:6: FutureWarning: \n",
      "\n",
      "The `errwidth` parameter is deprecated. And will be removed in v0.15.0. Pass `err_kws={'linewidth': 4.0}` instead.\n",
      "\n",
      "  sns.pointplot(data = c_ind_frame_tum_only, x = 'model', y = 'c_index', hue = 'Set', join=False, dodge=0.5, scale=2.0, capsize=0.2, errwidth=4.0, errorbar='sd', ax=ax)\n",
      "/tmp/ipykernel_1237220/454930728.py:7: UserWarning: set_ticklabels() should only be used with a fixed number of ticks, i.e. after set_ticks() or using a FixedLocator.\n",
      "  ax.set_xticklabels(ax.get_xticklabels(), rotation=30)\n"
     ]
    },
    {
     "data": {
      "text/plain": [
       "Text(0.5, 0, '')"
      ]
     },
     "execution_count": 11,
     "metadata": {},
     "output_type": "execute_result"
    },
    {
     "data": {
      "image/png": "[encoded data removed]",
      "text/plain": [
       "<Figure size 432x432 with 1 Axes>"
      ]
     },
     "metadata": {
      "needs_background": "light"
     },
     "output_type": "display_data"
    }
   ],
   "source": [
    "c_ind_frame_tum_only = c_ind_frame[c_ind_frame['model'].isin(['IASLC Grade', r'$HPL_{Tumour}$'])]\n",
    "c_ind_frame_tum_only = c_ind_frame_tum_only.replace({r'$HPL_{Tumour}$':'HPL'})\n",
    "\n",
    "sns.set_context(\"paper\", font_scale=2.0)\n",
    "fig, ax = plt.subplots(figsize=(6,6))\n",
    "sns.pointplot(data = c_ind_frame_tum_only, x = 'model', y = 'c_index', hue = 'Set', join=False, dodge=0.5, scale=2.0, capsize=0.2, errwidth=4.0, errorbar='sd', ax=ax)\n",
    "ax.set_xticklabels(ax.get_xticklabels(), rotation=30)\n",
    "ax.set_ylim([0.5,0.7])\n",
    "ax.set_ylabel('C-index')\n",
    "ax.set_xlabel(None)"
   ]
  },
  {
   "cell_type": "code",
   "execution_count": 23,
   "metadata": {},
   "outputs": [
    {
     "data": {
      "text/html": [
       "<div>\n",
       "<style scoped>\n",
       "    .dataframe tbody tr th:only-of-type {\n",
       "        vertical-align: middle;\n",
       "    }\n",
       "\n",
       "    .dataframe tbody tr th {\n",
       "        vertical-align: top;\n",
       "    }\n",
       "\n",
       "    .dataframe thead th {\n",
       "        text-align: right;\n",
       "    }\n",
       "</style>\n",
       "<table border=\"1\" class=\"dataframe\">\n",
       "  <thead>\n",
       "    <tr style=\"text-align: right;\">\n",
       "      <th></th>\n",
       "      <th>Model</th>\n",
       "      <th>Train</th>\n",
       "      <th>Test</th>\n",
       "      <th>TCGA</th>\n",
       "    </tr>\n",
       "  </thead>\n",
       "  <tbody>\n",
       "    <tr>\n",
       "      <th>0</th>\n",
       "      <td>IASLC Grade</td>\n",
       "      <td>0.585</td>\n",
       "      <td>0.586</td>\n",
       "      <td>0.555</td>\n",
       "    </tr>\n",
       "    <tr>\n",
       "      <th>1</th>\n",
       "      <td>$HPL_{Tumour}$</td>\n",
       "      <td>0.647</td>\n",
       "      <td>0.636</td>\n",
       "      <td>0.608</td>\n",
       "    </tr>\n",
       "    <tr>\n",
       "      <th>2</th>\n",
       "      <td>$HPL_{Stroma}$</td>\n",
       "      <td>0.62</td>\n",
       "      <td>0.606</td>\n",
       "      <td>0.607</td>\n",
       "    </tr>\n",
       "    <tr>\n",
       "      <th>3</th>\n",
       "      <td>$HPL_{Tumour + Stroma}$</td>\n",
       "      <td>0.655</td>\n",
       "      <td>0.638</td>\n",
       "      <td>0.619</td>\n",
       "    </tr>\n",
       "    <tr>\n",
       "      <th>4</th>\n",
       "      <td>$HPL_{Tumour}$+\\nIASLC Grade</td>\n",
       "      <td>0.653</td>\n",
       "      <td>0.641</td>\n",
       "      <td>0.608</td>\n",
       "    </tr>\n",
       "    <tr>\n",
       "      <th>5</th>\n",
       "      <td>$HPL_{Stroma}$+\\nIASLC Grade</td>\n",
       "      <td>0.64</td>\n",
       "      <td>0.628</td>\n",
       "      <td>0.62</td>\n",
       "    </tr>\n",
       "  </tbody>\n",
       "</table>\n",
       "</div>"
      ],
      "text/plain": [
       "                          Model  Train   Test   TCGA\n",
       "0                   IASLC Grade  0.585  0.586  0.555\n",
       "1                $HPL_{Tumour}$  0.647  0.636  0.608\n",
       "2                $HPL_{Stroma}$   0.62  0.606  0.607\n",
       "3       $HPL_{Tumour + Stroma}$  0.655  0.638  0.619\n",
       "4  $HPL_{Tumour}$+\\nIASLC Grade  0.653  0.641  0.608\n",
       "5  $HPL_{Stroma}$+\\nIASLC Grade   0.64  0.628   0.62"
      ]
     },
     "execution_count": 23,
     "metadata": {},
     "output_type": "execute_result"
    }
   ],
   "source": [
    "avg_ci_frame = pd.DataFrame(index = c_ind_frame['model'].unique(), columns=['Train', 'Test', 'Additional'])\n",
    "\n",
    "for model in c_ind_frame['model'].unique():\n",
    "    model_frame = c_ind_frame[c_ind_frame['model'] == model]\n",
    "    avg_ci_frame.loc[model, 'Train'] = np.round(model_frame.groupby('Set')['c_index'].mean().loc['Train'], 3)\n",
    "    avg_ci_frame.loc[model, 'Test'] = np.round(model_frame.groupby('Set')['c_index'].mean().loc['Test'], 3)\n",
    "    avg_ci_frame.loc[model, 'Additional'] = np.round(model_frame.groupby('Set')['c_index'].mean().loc['Additional'], 3)\n",
    "\n",
    "avg_ci_frame = avg_ci_frame.rename(columns={'Additional':'TCGA'}).reset_index()\n",
    "avg_ci_frame = avg_ci_frame.rename(columns={'index':'Model'})\n",
    "avg_ci_frame"
   ]
  },
  {
   "cell_type": "code",
   "execution_count": 28,
   "metadata": {},
   "outputs": [
    {
     "data": {
      "text/html": [
       "<div id=\"mpnbhsepgx\" style=\"padding-left:0px;padding-right:0px;padding-top:10px;padding-bottom:10px;overflow-x:auto;overflow-y:auto;width:auto;height:auto;\">\n",
       "<style>\n",
       "#mpnbhsepgx table {\n",
       "          font-family: -apple-system, BlinkMacSystemFont, 'Segoe UI', Roboto, Oxygen, Ubuntu, Cantarell, 'Helvetica Neue', 'Fira Sans', 'Droid Sans', Arial, sans-serif;\n",
       "          -webkit-font-smoothing: antialiased;\n",
       "          -moz-osx-font-smoothing: grayscale;\n",
       "        }\n",
       "\n",
       "#mpnbhsepgx thead, tbody, tfoot, tr, td, th { border-style: none; }\n",
       " tr { background-color: transparent; }\n",
       "#mpnbhsepgx p { margin: 0; padding: 0; }\n",
       " #mpnbhsepgx .gt_table { display: table; border-collapse: collapse; line-height: normal; margin-left: auto; margin-right: auto; color: #333333; font-size: 16px; font-weight: normal; font-style: normal; background-color: #FFFFFF; width: auto; border-top-style: solid; border-top-width: 2px; border-top-color: #A8A8A8; border-right-style: none; border-right-width: 2px; border-right-color: #D3D3D3; border-bottom-style: solid; border-bottom-width: 2px; border-bottom-color: #A8A8A8; border-left-style: none; border-left-width: 2px; border-left-color: #D3D3D3; }\n",
       " #mpnbhsepgx .gt_caption { padding-top: 4px; padding-bottom: 4px; }\n",
       " #mpnbhsepgx .gt_title { color: #333333; font-size: 125%; font-weight: initial; padding-top: 4px; padding-bottom: 4px; padding-left: 5px; padding-right: 5px; border-bottom-color: #FFFFFF; border-bottom-width: 0; }\n",
       " #mpnbhsepgx .gt_subtitle { color: #333333; font-size: 85%; font-weight: initial; padding-top: 3px; padding-bottom: 5px; padding-left: 5px; padding-right: 5px; border-top-color: #FFFFFF; border-top-width: 0; }\n",
       " #mpnbhsepgx .gt_heading { background-color: #FFFFFF; text-align: center; border-bottom-color: #FFFFFF; border-left-style: none; border-left-width: 1px; border-left-color: #D3D3D3; border-right-style: none; border-right-width: 1px; border-right-color: #D3D3D3; }\n",
       " #mpnbhsepgx .gt_bottom_border { border-bottom-style: solid; border-bottom-width: 2px; border-bottom-color: #D3D3D3; }\n",
       " #mpnbhsepgx .gt_col_headings { border-top-style: solid; border-top-width: 2px; border-top-color: #D3D3D3; border-bottom-style: solid; border-bottom-width: 2px; border-bottom-color: #D3D3D3; border-left-style: none; border-left-width: 1px; border-left-color: #D3D3D3; border-right-style: none; border-right-width: 1px; border-right-color: #D3D3D3; }\n",
       " #mpnbhsepgx .gt_col_heading { color: #333333; background-color: #FFFFFF; font-size: 100%; font-weight: normal; text-transform: inherit; border-left-style: none; border-left-width: 1px; border-left-color: #D3D3D3; border-right-style: none; border-right-width: 1px; border-right-color: #D3D3D3; vertical-align: bottom; padding-top: 5px; padding-bottom: 5px; padding-left: 5px; padding-right: 5px; overflow-x: hidden; }\n",
       " #mpnbhsepgx .gt_column_spanner_outer { color: #333333; background-color: #FFFFFF; font-size: 100%; font-weight: normal; text-transform: inherit; padding-top: 0; padding-bottom: 0; padding-left: 4px; padding-right: 4px; }\n",
       " #mpnbhsepgx .gt_column_spanner_outer:first-child { padding-left: 0; }\n",
       " #mpnbhsepgx .gt_column_spanner_outer:last-child { padding-right: 0; }\n",
       " #mpnbhsepgx .gt_column_spanner { border-bottom-style: solid; border-bottom-width: 2px; border-bottom-color: #D3D3D3; vertical-align: bottom; padding-top: 5px; padding-bottom: 5px; overflow-x: hidden; display: inline-block; width: 100%; }\n",
       " #mpnbhsepgx .gt_spanner_row { border-bottom-style: hidden; }\n",
       " #mpnbhsepgx .gt_group_heading { padding-top: 8px; padding-bottom: 8px; padding-left: 5px; padding-right: 5px; color: #333333; background-color: #FFFFFF; font-size: 100%; font-weight: initial; text-transform: inherit; border-top-style: solid; border-top-width: 2px; border-top-color: #D3D3D3; border-bottom-style: solid; border-bottom-width: 2px; border-bottom-color: #D3D3D3; border-left-style: none; border-left-width: 1px; border-left-color: #D3D3D3; border-right-style: none; border-right-width: 1px; border-right-color: #D3D3D3; vertical-align: middle; text-align: left; }\n",
       " #mpnbhsepgx .gt_empty_group_heading { padding: 0.5px; color: #333333; background-color: #FFFFFF; font-size: 100%; font-weight: initial; border-top-style: solid; border-top-width: 2px; border-top-color: #D3D3D3; border-bottom-style: solid; border-bottom-width: 2px; border-bottom-color: #D3D3D3; vertical-align: middle; }\n",
       " #mpnbhsepgx .gt_from_md> :first-child { margin-top: 0; }\n",
       " #mpnbhsepgx .gt_from_md> :last-child { margin-bottom: 0; }\n",
       " #mpnbhsepgx .gt_row { padding-top: 8px; padding-bottom: 8px; padding-left: 5px; padding-right: 5px; margin: 10px; border-top-style: solid; border-top-width: 1px; border-top-color: #D3D3D3; border-left-style: none; border-left-width: 1px; border-left-color: #D3D3D3; border-right-style: none; border-right-width: 1px; border-right-color: #D3D3D3; vertical-align: middle; overflow-x: hidden; }\n",
       " #mpnbhsepgx .gt_stub { color: #333333; background-color: #FFFFFF; font-size: 100%; font-weight: initial; text-transform: inherit; border-right-style: solid; border-right-width: 2px; border-right-color: #D3D3D3; padding-left: 5px; padding-right: 5px; }\n",
       " #mpnbhsepgx .gt_stub_row_group { color: #333333; background-color: #FFFFFF; font-size: 100%; font-weight: 1000; text-transform: inherit; border-right-style: solid; border-right-width: 2px; border-right-color: #D3D3D3; padding-left: 5px; padding-right: 5px; vertical-align: top; }\n",
       " #mpnbhsepgx .gt_row_group_first td { border-top-width: 2px; }\n",
       " #mpnbhsepgx .gt_row_group_first th { border-top-width: 2px; }\n",
       " #mpnbhsepgx .gt_striped { background-color: rgba(128,128,128,0.05); }\n",
       " #mpnbhsepgx .gt_table_body { border-top-style: solid; border-top-width: 2px; border-top-color: #D3D3D3; border-bottom-style: solid; border-bottom-width: 2px; border-bottom-color: #D3D3D3; }\n",
       " #mpnbhsepgx .gt_sourcenotes { color: #333333; background-color: #FFFFFF; border-bottom-style: none; border-bottom-width: 2px; border-bottom-color: #D3D3D3; border-left-style: none; border-left-width: 2px; border-left-color: #D3D3D3; border-right-style: none; border-right-width: 2px; border-right-color: #D3D3D3; }\n",
       " #mpnbhsepgx .gt_sourcenote { font-size: 90%; padding-top: 4px; padding-bottom: 4px; padding-left: 5px; padding-right: 5px; text-align: left; }\n",
       " #mpnbhsepgx .gt_left { text-align: left; }\n",
       " #mpnbhsepgx .gt_center { text-align: center; }\n",
       " #mpnbhsepgx .gt_right { text-align: right; font-variant-numeric: tabular-nums; }\n",
       " #mpnbhsepgx .gt_font_normal { font-weight: normal; }\n",
       " #mpnbhsepgx .gt_font_bold { font-weight: bold; }\n",
       " #mpnbhsepgx .gt_font_italic { font-style: italic; }\n",
       " #mpnbhsepgx .gt_super { font-size: 65%; }\n",
       " #mpnbhsepgx .gt_footnote_marks { font-size: 75%; vertical-align: 0.4em; position: initial; }\n",
       " #mpnbhsepgx .gt_asterisk { font-size: 100%; vertical-align: 0; }\n",
       " \n",
       "</style>\n",
       "<table class=\"gt_table\" data-quarto-disable-processing=\"false\" data-quarto-bootstrap=\"false\">\n",
       "<thead>\n",
       "\n",
       "  <tr class=\"gt_heading\">\n",
       "    <td colspan=\"4\" class=\"gt_heading gt_title gt_font_normal\">Mean C-index across folds</td>\n",
       "  </tr>\n",
       "<tr class=\"gt_col_headings\">\n",
       "  <th class=\"gt_col_heading gt_columns_bottom_border gt_left\" rowspan=\"1\" colspan=\"1\" scope=\"col\" id=\"Model\">Model</th>\n",
       "  <th class=\"gt_col_heading gt_columns_bottom_border gt_right\" rowspan=\"1\" colspan=\"1\" scope=\"col\" id=\"Train\">Train</th>\n",
       "  <th class=\"gt_col_heading gt_columns_bottom_border gt_right\" rowspan=\"1\" colspan=\"1\" scope=\"col\" id=\"Test\">Test</th>\n",
       "  <th class=\"gt_col_heading gt_columns_bottom_border gt_right\" rowspan=\"1\" colspan=\"1\" scope=\"col\" id=\"TCGA\">TCGA</th>\n",
       "</tr>\n",
       "</thead>\n",
       "<tbody class=\"gt_table_body\">\n",
       "  <tr>\n",
       "    <td class=\"gt_row gt_left\">IASLC Grade</td>\n",
       "    <td class=\"gt_row gt_right\">0.585</td>\n",
       "    <td class=\"gt_row gt_right\">0.586</td>\n",
       "    <td class=\"gt_row gt_right\">0.555</td>\n",
       "  </tr>\n",
       "  <tr>\n",
       "    <td class=\"gt_row gt_left\">$HPL_{Tumour}$</td>\n",
       "    <td class=\"gt_row gt_right\">0.647</td>\n",
       "    <td class=\"gt_row gt_right\">0.636</td>\n",
       "    <td class=\"gt_row gt_right\">0.608</td>\n",
       "  </tr>\n",
       "  <tr>\n",
       "    <td class=\"gt_row gt_left\">$HPL_{Stroma}$</td>\n",
       "    <td class=\"gt_row gt_right\">0.62</td>\n",
       "    <td class=\"gt_row gt_right\">0.606</td>\n",
       "    <td class=\"gt_row gt_right\">0.607</td>\n",
       "  </tr>\n",
       "  <tr>\n",
       "    <td class=\"gt_row gt_left\">$HPL_{Tumour + Stroma}$</td>\n",
       "    <td class=\"gt_row gt_right\">0.655</td>\n",
       "    <td class=\"gt_row gt_right\">0.638</td>\n",
       "    <td class=\"gt_row gt_right\">0.619</td>\n",
       "  </tr>\n",
       "  <tr>\n",
       "    <td class=\"gt_row gt_left\">$HPL_{Tumour}$+\n",
       "IASLC Grade</td>\n",
       "    <td class=\"gt_row gt_right\">0.653</td>\n",
       "    <td class=\"gt_row gt_right\">0.641</td>\n",
       "    <td class=\"gt_row gt_right\">0.608</td>\n",
       "  </tr>\n",
       "  <tr>\n",
       "    <td class=\"gt_row gt_left\">$HPL_{Stroma}$+\n",
       "IASLC Grade</td>\n",
       "    <td class=\"gt_row gt_right\">0.64</td>\n",
       "    <td class=\"gt_row gt_right\">0.628</td>\n",
       "    <td class=\"gt_row gt_right\">0.62</td>\n",
       "  </tr>\n",
       "</tbody>\n",
       "\n",
       "\n",
       "</table>\n",
       "\n",
       "</div>\n",
       "        "
      ],
      "text/plain": [
       "GT(_tbl_data=                          Model  Train   Test   TCGA\n",
       "0                   IASLC Grade  0.585  0.586  0.555\n",
       "1                $HPL_{Tumour}$  0.647  0.636  0.608\n",
       "2                $HPL_{Stroma}$   0.62  0.606  0.607\n",
       "3       $HPL_{Tumour + Stroma}$  0.655  0.638  0.619\n",
       "4  $HPL_{Tumour}$+\\nIASLC Grade  0.653  0.641  0.608\n",
       "5  $HPL_{Stroma}$+\\nIASLC Grade   0.64  0.628   0.62, _body=<great_tables._gt_data.Body object at 0x7ff3fc3f75e0>, _boxhead=Boxhead([ColInfo(var='Model', type=<ColInfoTypeEnum.default: 1>, column_label='Model', column_align='left', column_width=None), ColInfo(var='Train', type=<ColInfoTypeEnum.default: 1>, column_label='Train', column_align='right', column_width=None), ColInfo(var='Test', type=<ColInfoTypeEnum.default: 1>, column_label='Test', column_align='right', column_width=None), ColInfo(var='TCGA', type=<ColInfoTypeEnum.default: 1>, column_label='TCGA', column_align='right', column_width=None)]), _stub=<great_tables._gt_data.Stub object at 0x7ff3fc53bf70>, _spanners=Spanners([]), _heading=Heading(title='Mean C-index across folds', subtitle=None, preheader=None), _stubhead='Model', _source_notes=[], _footnotes=[], _styles=[], _locale=<great_tables._gt_data.Locale object at 0x7ff3fc3f4670>, _formats=[], _substitutions=[], _options=Options(table_id=OptionsInfo(scss=False, category='table', type='value', value=None), table_caption=OptionsInfo(scss=False, category='table', type='value', value=None), table_width=OptionsInfo(scss=True, category='table', type='px', value='auto'), table_layout=OptionsInfo(scss=True, category='table', type='value', value='fixed'), table_margin_left=OptionsInfo(scss=True, category='table', type='px', value='auto'), table_margin_right=OptionsInfo(scss=True, category='table', type='px', value='auto'), table_background_color=OptionsInfo(scss=True, category='table', type='value', value='#FFFFFF'), table_additional_css=OptionsInfo(scss=False, category='table', type='values', value=[]), table_font_names=OptionsInfo(scss=False, category='table', type='values', value=['-apple-system', 'BlinkMacSystemFont', 'Segoe UI', 'Roboto', 'Oxygen', 'Ubuntu', 'Cantarell', 'Helvetica Neue', 'Fira Sans', 'Droid Sans', 'Arial', 'sans-serif']), table_font_size=OptionsInfo(scss=True, category='table', type='px', value='16px'), table_font_weight=OptionsInfo(scss=True, category='table', type='value', value='normal'), table_font_style=OptionsInfo(scss=True, category='table', type='value', value='normal'), table_font_color=OptionsInfo(scss=True, category='table', type='value', value='#333333'), table_font_color_light=OptionsInfo(scss=True, category='table', type='value', value='#FFFFFF'), table_border_top_include=OptionsInfo(scss=False, category='table', type='boolean', value=True), table_border_top_style=OptionsInfo(scss=True, category='table', type='value', value='solid'), table_border_top_width=OptionsInfo(scss=True, category='table', type='px', value='2px'), table_border_top_color=OptionsInfo(scss=True, category='table', type='value', value='#A8A8A8'), table_border_right_style=OptionsInfo(scss=True, category='table', type='value', value='none'), table_border_right_width=OptionsInfo(scss=True, category='table', type='px', value='2px'), table_border_right_color=OptionsInfo(scss=True, category='table', type='value', value='#D3D3D3'), table_border_bottom_include=OptionsInfo(scss=False, category='table', type='boolean', value=True), table_border_bottom_style=OptionsInfo(scss=True, category='table', type='value', value='solid'), table_border_bottom_width=OptionsInfo(scss=True, category='table', type='px', value='2px'), table_border_bottom_color=OptionsInfo(scss=True, category='table', type='value', value='#A8A8A8'), table_border_left_style=OptionsInfo(scss=True, category='table', type='value', value='none'), table_border_left_width=OptionsInfo(scss=True, category='table', type='px', value='2px'), table_border_left_color=OptionsInfo(scss=True, category='table', type='value', value='#D3D3D3'), heading_background_color=OptionsInfo(scss=True, category='heading', type='value', value=None), heading_align=OptionsInfo(scss=True, category='heading', type='value', value='center'), heading_title_font_size=OptionsInfo(scss=True, category='heading', type='px', value='125%'), heading_title_font_weight=OptionsInfo(scss=True, category='heading', type='value', value='initial'), heading_subtitle_font_size=OptionsInfo(scss=True, category='heading', type='px', value='85%'), heading_subtitle_font_weight=OptionsInfo(scss=True, category='heading', type='value', value='initial'), heading_padding=OptionsInfo(scss=True, category='heading', type='px', value='4px'), heading_padding_horizontal=OptionsInfo(scss=True, category='heading', type='px', value='5px'), heading_border_bottom_style=OptionsInfo(scss=True, category='heading', type='value', value='solid'), heading_border_bottom_width=OptionsInfo(scss=True, category='heading', type='px', value='2px'), heading_border_bottom_color=OptionsInfo(scss=True, category='heading', type='value', value='#D3D3D3'), heading_border_lr_style=OptionsInfo(scss=True, category='heading', type='value', value='none'), heading_border_lr_width=OptionsInfo(scss=True, category='heading', type='px', value='1px'), heading_border_lr_color=OptionsInfo(scss=True, category='heading', type='value', value='#D3D3D3'), column_labels_background_color=OptionsInfo(scss=True, category='column_labels', type='value', value=None), column_labels_font_size=OptionsInfo(scss=True, category='column_labels', type='px', value='100%'), column_labels_font_weight=OptionsInfo(scss=True, category='column_labels', type='value', value='normal'), column_labels_text_transform=OptionsInfo(scss=True, category='column_labels', type='value', value='inherit'), column_labels_padding=OptionsInfo(scss=True, category='column_labels', type='px', value='5px'), column_labels_padding_horizontal=OptionsInfo(scss=True, category='column_labels', type='px', value='5px'), column_labels_vlines_style=OptionsInfo(scss=True, category='table_body', type='value', value='none'), column_labels_vlines_width=OptionsInfo(scss=True, category='table_body', type='px', value='1px'), column_labels_vlines_color=OptionsInfo(scss=True, category='table_body', type='value', value='#D3D3D3'), column_labels_border_top_style=OptionsInfo(scss=True, category='column_labels', type='value', value='solid'), column_labels_border_top_width=OptionsInfo(scss=True, category='column_labels', type='px', value='2px'), column_labels_border_top_color=OptionsInfo(scss=True, category='column_labels', type='value', value='#D3D3D3'), column_labels_border_bottom_style=OptionsInfo(scss=True, category='column_labels', type='value', value='solid'), column_labels_border_bottom_width=OptionsInfo(scss=True, category='column_labels', type='px', value='2px'), column_labels_border_bottom_color=OptionsInfo(scss=True, category='column_labels', type='value', value='#D3D3D3'), column_labels_border_lr_style=OptionsInfo(scss=True, category='column_labels', type='value', value='none'), column_labels_border_lr_width=OptionsInfo(scss=True, category='column_labels', type='px', value='1px'), column_labels_border_lr_color=OptionsInfo(scss=True, category='column_labels', type='value', value='#D3D3D3'), column_labels_hidden=OptionsInfo(scss=False, category='column_labels', type='boolean', value=False), row_group_background_color=OptionsInfo(scss=True, category='row_group', type='value', value=None), row_group_font_size=OptionsInfo(scss=True, category='row_group', type='px', value='100%'), row_group_font_weight=OptionsInfo(scss=True, category='row_group', type='value', value='initial'), row_group_text_transform=OptionsInfo(scss=True, category='row_group', type='value', value='inherit'), row_group_padding=OptionsInfo(scss=True, category='row_group', type='px', value='8px'), row_group_padding_horizontal=OptionsInfo(scss=True, category='row_group', type='px', value='5px'), row_group_border_top_style=OptionsInfo(scss=True, category='row_group', type='value', value='solid'), row_group_border_top_width=OptionsInfo(scss=True, category='row_group', type='px', value='2px'), row_group_border_top_color=OptionsInfo(scss=True, category='row_group', type='value', value='#D3D3D3'), row_group_border_right_style=OptionsInfo(scss=True, category='row_group', type='value', value='none'), row_group_border_right_width=OptionsInfo(scss=True, category='row_group', type='px', value='1px'), row_group_border_right_color=OptionsInfo(scss=True, category='row_group', type='value', value='#D3D3D3'), row_group_border_bottom_style=OptionsInfo(scss=True, category='row_group', type='value', value='solid'), row_group_border_bottom_width=OptionsInfo(scss=True, category='row_group', type='px', value='2px'), row_group_border_bottom_color=OptionsInfo(scss=True, category='row_group', type='value', value='#D3D3D3'), row_group_border_left_style=OptionsInfo(scss=True, category='row_group', type='value', value='none'), row_group_border_left_width=OptionsInfo(scss=True, category='row_group', type='px', value='1px'), row_group_border_left_color=OptionsInfo(scss=True, category='row_group', type='value', value='#D3D3D3'), row_group_as_column=OptionsInfo(scss=False, category='row_group', type='boolean', value=False), table_body_hlines_style=OptionsInfo(scss=True, category='table_body', type='value', value='solid'), table_body_hlines_width=OptionsInfo(scss=True, category='table_body', type='px', value='1px'), table_body_hlines_color=OptionsInfo(scss=True, category='table_body', type='value', value='#D3D3D3'), table_body_vlines_style=OptionsInfo(scss=True, category='table_body', type='value', value='none'), table_body_vlines_width=OptionsInfo(scss=True, category='table_body', type='px', value='1px'), table_body_vlines_color=OptionsInfo(scss=True, category='table_body', type='value', value='#D3D3D3'), table_body_border_top_style=OptionsInfo(scss=True, category='table_body', type='value', value='solid'), table_body_border_top_width=OptionsInfo(scss=True, category='table_body', type='px', value='2px'), table_body_border_top_color=OptionsInfo(scss=True, category='table_body', type='value', value='#D3D3D3'), table_body_border_bottom_style=OptionsInfo(scss=True, category='table_body', type='value', value='solid'), table_body_border_bottom_width=OptionsInfo(scss=True, category='table_body', type='px', value='2px'), table_body_border_bottom_color=OptionsInfo(scss=True, category='table_body', type='value', value='#D3D3D3'), data_row_padding=OptionsInfo(scss=True, category='data_row', type='px', value='8px'), data_row_padding_horizontal=OptionsInfo(scss=True, category='data_row', type='px', value='5px'), stub_background_color=OptionsInfo(scss=True, category='stub', type='value', value=None), stub_font_size=OptionsInfo(scss=True, category='stub', type='px', value='100%'), stub_font_weight=OptionsInfo(scss=True, category='stub', type='value', value='initial'), stub_text_transform=OptionsInfo(scss=True, category='stub', type='value', value='inherit'), stub_border_style=OptionsInfo(scss=True, category='stub', type='value', value='solid'), stub_border_width=OptionsInfo(scss=True, category='stub', type='px', value='2px'), stub_border_color=OptionsInfo(scss=True, category='stub', type='value', value='#D3D3D3'), stub_row_group_background_color=OptionsInfo(scss=True, category='stub', type='value', value=None), stub_row_group_font_size=OptionsInfo(scss=True, category='stub', type='px', value='100%'), stub_row_group_font_weight=OptionsInfo(scss=True, category='stub', type='value', value=1000), stub_row_group_text_transform=OptionsInfo(scss=True, category='stub', type='value', value='inherit'), stub_row_group_border_style=OptionsInfo(scss=True, category='stub', type='value', value='solid'), stub_row_group_border_width=OptionsInfo(scss=True, category='stub', type='px', value='2px'), stub_row_group_border_color=OptionsInfo(scss=True, category='stub', type='value', value='#D3D3D3'), source_notes_padding=OptionsInfo(scss=True, category='source_notes', type='px', value='4px'), source_notes_padding_horizontal=OptionsInfo(scss=True, category='source_notes', type='px', value='5px'), source_notes_background_color=OptionsInfo(scss=True, category='source_notes', type='value', value=None), source_notes_font_size=OptionsInfo(scss=True, category='source_notes', type='px', value='90%'), source_notes_border_bottom_style=OptionsInfo(scss=True, category='source_notes', type='value', value='none'), source_notes_border_bottom_width=OptionsInfo(scss=True, category='source_notes', type='px', value='2px'), source_notes_border_bottom_color=OptionsInfo(scss=True, category='source_notes', type='value', value='#D3D3D3'), source_notes_border_lr_style=OptionsInfo(scss=True, category='source_notes', type='value', value='none'), source_notes_border_lr_width=OptionsInfo(scss=True, category='source_notes', type='px', value='2px'), source_notes_border_lr_color=OptionsInfo(scss=True, category='source_notes', type='value', value='#D3D3D3'), source_notes_multiline=OptionsInfo(scss=False, category='source_notes', type='boolean', value=True), source_notes_sep=OptionsInfo(scss=False, category='source_notes', type='value', value=' '), row_striping_background_color=OptionsInfo(scss=True, category='row', type='value', value='rgba(128,128,128,0.05)'), row_striping_include_stub=OptionsInfo(scss=False, category='row', type='boolean', value=False), row_striping_include_table_body=OptionsInfo(scss=False, category='row', type='boolean', value=False), container_width=OptionsInfo(scss=False, category='container', type='px', value='auto'), container_height=OptionsInfo(scss=False, category='container', type='px', value='auto'), container_padding_x=OptionsInfo(scss=False, category='container', type='px', value='0px'), container_padding_y=OptionsInfo(scss=False, category='container', type='px', value='10px'), container_overflow_x=OptionsInfo(scss=False, category='container', type='overflow', value='auto'), container_overflow_y=OptionsInfo(scss=False, category='container', type='overflow', value='auto'), quarto_disable_processing=OptionsInfo(scss=False, category='quarto', type='logical', value=False), quarto_use_bootstrap=OptionsInfo(scss=False, category='quarto', type='logical', value=False)), _has_built=False)"
      ]
     },
     "execution_count": 28,
     "metadata": {},
     "output_type": "execute_result"
    }
   ],
   "source": [
    "from great_tables import GT\n",
    "\n",
    "summary_gt = (\n",
    "    GT(avg_ci_frame)\n",
    "    # .tab_stub(rowname_col='Characteristic', groupname_col='group')\n",
    "    .tab_stubhead(label='Model')\n",
    "    .tab_header(title='Mean C-index across folds')\n",
    "    .tab_options(stub_row_group_font_weight=1000)\n",
    ")\n",
    "\n",
    "summary_gt"
   ]
  },
  {
   "cell_type": "code",
   "execution_count": 25,
   "metadata": {},
   "outputs": [
    {
     "name": "stdout",
     "output_type": "stream",
     "text": [
      "\\begin{table}[!t]\n",
      "\\caption*{\n",
      "{\\large Mean C-index across folds}\n",
      "} \n",
      "\n",
      "\\fontsize{12.0pt}{14.4pt}\\selectfont\n",
      "\n",
      "\\begin{tabular*}{\\linewidth}{@{\\extracolsep{\\fill}}lrrr}\n",
      "\\toprule\n",
      "Model & Train & Test & TCGA \\\\ \n",
      "\\midrule\\addlinespace[2.5pt]\n",
      "IASLC Grade & 0.585 & 0.586 & 0.555 \\\\\n",
      "\\$HPL\\_\\{Tumour\\}\\$ & 0.647 & 0.636 & 0.608 \\\\\n",
      "\\$HPL\\_\\{Stroma\\}\\$ & 0.62 & 0.606 & 0.607 \\\\\n",
      "\\$HPL\\_\\{Tumour + Stroma\\}\\$ & 0.655 & 0.638 & 0.619 \\\\\n",
      "\\$HPL\\_\\{Tumour\\}\\$+\n",
      "IASLC Grade & 0.653 & 0.641 & 0.608 \\\\\n",
      "\\$HPL\\_\\{Stroma\\}\\$+\n",
      "IASLC Grade & 0.64 & 0.628 & 0.62 \\\\\n",
      "\\bottomrule\n",
      "\\end{tabular*}\n",
      "\n",
      "\\end{table}\n",
      "\n"
     ]
    }
   ],
   "source": [
    "# print(summary_gt.as_raw_html())\n",
    "# print(summary_gt.as_latex(use_longtable=True))\n",
    "print(summary_gt.as_latex())"
   ]
  }
 ],
 "metadata": {
  "kernelspec": {
   "display_name": "scpy",
   "language": "python",
   "name": "python3"
  },
  "language_info": {
   "codemirror_mode": {
    "name": "ipython",
    "version": 3
   },
   "file_extension": ".py",
   "mimetype": "text/x-python",
   "name": "python",
   "nbconvert_exporter": "python",
   "pygments_lexer": "ipython3",
   "version": "3.10.13"
  }
 },
 "nbformat": 4,
 "nbformat_minor": 2
}
