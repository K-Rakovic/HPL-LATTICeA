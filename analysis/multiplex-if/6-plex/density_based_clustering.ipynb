{
 "cells": [
  {
   "cell_type": "code",
   "execution_count": 1,
   "metadata": {},
   "outputs": [],
   "source": [
    "import anndata as ad\n",
    "import matplotlib.pyplot as plt\n",
    "import numpy as np\n",
    "import pandas as pd\n",
    "import scanpy as sc\n",
    "import seaborn as sns\n",
    "from sklearn.cluster import DBSCAN\n",
    "from sklearn.cluster import HDBSCAN\n",
    "\n",
    "import sys\n",
    "sys.path.append('/nfs/home/users/krakovic/sharedscratch/notebooks/latticea_he/libraries/')\n",
    "from clinical import load_clinical\n",
    "from data_processing import *"
   ]
  },
  {
   "cell_type": "code",
   "execution_count": 2,
   "metadata": {},
   "outputs": [
    {
     "name": "stderr",
     "output_type": "stream",
     "text": [
      "/mnt/cephfs/home/users/krakovic/.conda/envs/scpy/lib/python3.10/site-packages/anndata/_core/anndata.py:183: ImplicitModificationWarning: Transforming to str index.\n",
      "  warnings.warn(\"Transforming to str index.\", ImplicitModificationWarning)\n",
      "/nfs/home/users/krakovic/sharedscratch/notebooks/latticea_he/libraries/clinical.py:7: DtypeWarning: Columns (2,10,30,37,38,52,67,84,85,110,118,134,135,136,137,138,148,149,150,217,219,221,223,224,225,226,236,242,243,244,245,248,249,250,251,252,253,254,255,256,257,261,262,263,264,265,266,267,268,269,270,271,280,282,283,285,288,289,294,295,298,299,310,311,312,313,314,315,316,317,340,374,440,441,442,443,446,447,448,449,450,451,452,453,454,455,459,460,461,462,463,464,465,466,467,468,469,481,487,508,509,510,511,512,513,514,515,538,572,638,639,640,641,644,645,646,647,648,649,650,651,652,653,657,658,659,660,661,662,663,664,665,666,667,679,685,706,707,708,709,710,711,712,713,736,770,834,835,836,839,863,887) have mixed types. Specify dtype option on import or set low_memory=False.\n",
      "  clinpath = pd.read_csv('/mnt/cephfs/home/users/krakovic/sharedscratch/datasets/LATTICeA/latticea_master_clinicopathological.csv')\n"
     ]
    }
   ],
   "source": [
    "adata = ad.read_h5ad('/nfs/home/users/krakovic/sharedscratch/notebooks/latticea_he/bioclavis/00_data/2410_Bioclavis_filtered_negative_with_annotations.h5ad')\n",
    "clinpath, survival, patterns = load_clinical()\n",
    "core_areas = pd.read_csv('/nfs/home/users/krakovic/sharedscratch/notebooks/latticea_he/bioclavis/00_data/processed_core_areas.csv')\n",
    "adata.obs = match_cores_to_samples(adata.obs, col_to_map='core', recipient_col='samples')"
   ]
  },
  {
   "cell_type": "code",
   "execution_count": 3,
   "metadata": {},
   "outputs": [
    {
     "data": {
      "text/plain": [
       "2661"
      ]
     },
     "execution_count": 3,
     "metadata": {},
     "output_type": "execute_result"
    }
   ],
   "source": [
    "adata.obs['core'].nunique()"
   ]
  },
  {
   "cell_type": "code",
   "execution_count": 4,
   "metadata": {},
   "outputs": [
    {
     "data": {
      "application/vnd.microsoft.datawrangler.viewer.v0+json": {
       "columns": [
        {
         "name": "index",
         "rawType": "int64",
         "type": "integer"
        },
        {
         "name": "TMA",
         "rawType": "category",
         "type": "unknown"
        },
        {
         "name": "core",
         "rawType": "object",
         "type": "string"
        },
        {
         "name": "compartment",
         "rawType": "category",
         "type": "unknown"
        },
        {
         "name": "CellX",
         "rawType": "float64",
         "type": "float"
        },
        {
         "name": "CellY",
         "rawType": "float64",
         "type": "float"
        },
        {
         "name": "leiden_0.2",
         "rawType": "category",
         "type": "unknown"
        },
        {
         "name": "leiden_0.3",
         "rawType": "category",
         "type": "unknown"
        },
        {
         "name": "leiden_0.5",
         "rawType": "category",
         "type": "unknown"
        },
        {
         "name": "cell_lineage",
         "rawType": "category",
         "type": "unknown"
        },
        {
         "name": "ki67_positive",
         "rawType": "category",
         "type": "unknown"
        },
        {
         "name": "CellX_norm",
         "rawType": "float64",
         "type": "float"
        },
        {
         "name": "CellY_norm",
         "rawType": "float64",
         "type": "float"
        },
        {
         "name": "tiles",
         "rawType": "category",
         "type": "unknown"
        },
        {
         "name": "samples",
         "rawType": "category",
         "type": "unknown"
        },
        {
         "name": "leiden_2.5",
         "rawType": "float64",
         "type": "float"
        },
        {
         "name": "HPC",
         "rawType": "object",
         "type": "string"
        }
       ],
       "conversionMethod": "pd.DataFrame",
       "ref": "48edca9a-eb14-4013-8291-ab61ae70ddde",
       "rows": [
        [
         "0",
         "22",
         "22-05-J",
         "Tumour",
         "8526.37529406345",
         "-47209.29496135911",
         "14",
         "15",
         "12",
         "CKPAN+",
         "0",
         "0.17337043162491028",
         "0.8825748877680155",
         "1_1.jpeg",
         "ACA_1067",
         "46.0",
         "HPC 46"
        ],
        [
         "1",
         "22",
         "22-05-J",
         "Tumour",
         "8502.78053438878",
         "-47222.466136379095",
         "14",
         "7",
         "27",
         "CKPAN+",
         "0",
         "0.15330963877741066",
         "0.8706253358622078",
         "1_1.jpeg",
         "ACA_1067",
         "46.0",
         "HPC 46"
        ],
        [
         "2",
         "22",
         "22-05-J",
         "Tumour",
         "8510.929661627413",
         "-47224.07493459816",
         "14",
         "7",
         "19",
         "CKPAN+",
         "1",
         "0.1602382091750849",
         "0.869165753266465",
         "1_1.jpeg",
         "ACA_1067",
         "46.0",
         "HPC 46"
        ],
        [
         "3",
         "22",
         "22-05-J",
         "Tumour",
         "8517.62325577115",
         "-47224.49631337216",
         "14",
         "15",
         "8",
         "SMA+",
         "0",
         "0.16592925275315906",
         "0.8687834572659696",
         "1_1.jpeg",
         "ACA_1067",
         "46.0",
         "HPC 46"
        ],
        [
         "4",
         "22",
         "22-05-J",
         "Stroma",
         "8522.685444914372",
         "-47229.07691191669",
         "4",
         "4",
         "1",
         "CKPAN+",
         "0",
         "0.17023323928055945",
         "0.8646277080648233",
         "1_1.jpeg",
         "ACA_1067",
         "46.0",
         "HPC 46"
        ],
        [
         "5",
         "22",
         "22-05-J",
         "Tumour",
         "8498.360039300378",
         "-47231.731189326536",
         "14",
         "7",
         "27",
         "CKPAN+",
         "0",
         "0.14955123489983269",
         "0.86221961420582",
         "1_1.jpeg",
         "ACA_1067",
         "46.0",
         "HPC 46"
        ],
        [
         "6",
         "22",
         "22-05-J",
         "Stroma",
         "8516.669041124096",
         "-47233.101261696895",
         "14",
         "7",
         "12",
         "CKPAN+",
         "0",
         "0.16511795810000152",
         "0.8609766156973748",
         "1_1.jpeg",
         "ACA_1067",
         "46.0",
         "HPC 46"
        ],
        [
         "7",
         "22",
         "22-05-J",
         "Tumour",
         "8508.528520422207",
         "-47237.42492883921",
         "14",
         "15",
         "12",
         "CKPAN+",
         "0",
         "0.15819670517252682",
         "0.8570539675766042",
         "1_1.jpeg",
         "ACA_1067",
         "46.0",
         "HPC 46"
        ],
        [
         "8",
         "22",
         "22-05-J",
         "Tumour",
         "8524.138224077995",
         "-47236.86610504323",
         "3",
         "9",
         "29",
         "SMA+",
         "0",
         "0.1714684246461431",
         "0.8575609606084456",
         "1_1.jpeg",
         "ACA_1067",
         "46.0",
         "HPC 46"
        ],
        [
         "9",
         "22",
         "22-05-J",
         "Tumour",
         "8496.751215926186",
         "-47241.7648521233",
         "8",
         "13",
         "34",
         "CKPAN+",
         "0",
         "0.14818337725335073",
         "0.8531165710670479",
         "1_1.jpeg",
         "ACA_1067",
         "46.0",
         "HPC 46"
        ],
        [
         "10",
         "22",
         "22-05-J",
         "Tumour",
         "8518.621715624948",
         "-47247.7630373313",
         "15",
         "17",
         "5",
         "CKPAN+",
         "0",
         "0.16677816567152526",
         "0.8476747160028637",
         "1_1.jpeg",
         "ACA_1067",
         "46.0",
         "HPC 46"
        ],
        [
         "11",
         "22",
         "22-05-J",
         "Tumour",
         "8504.010777517908",
         "-47247.3511995753",
         "8",
         "13",
         "34",
         "CKPAN+",
         "0",
         "0.1543556190249653",
         "0.84804835591234",
         "1_1.jpeg",
         "ACA_1067",
         "46.0",
         "HPC 46"
        ],
        [
         "12",
         "22",
         "22-05-J",
         "Tumour",
         "8498.163235824613",
         "-47256.10752719976",
         "4",
         "10",
         "1",
         "CKPAN+",
         "0",
         "0.14938390817926273",
         "0.84010417543535",
         "1_1.jpeg",
         "ACA_1067",
         "46.0",
         "HPC 46"
        ],
        [
         "13",
         "22",
         "22-05-J",
         "Tumour",
         "8509.866884763005",
         "-47254.25019075012",
         "4",
         "13",
         "34",
         "CKPAN+",
         "0",
         "0.1593346124945514",
         "0.8417892444043531",
         "1_1.jpeg",
         "ACA_1067",
         "46.0",
         "HPC 46"
        ],
        [
         "14",
         "22",
         "22-05-J",
         "Tumour",
         "8510.529255480167",
         "-47266.04946588538",
         "8",
         "13",
         "34",
         "CKPAN+",
         "0",
         "0.1598977749055468",
         "0.8310843490198678",
         "1_1.jpeg",
         "ACA_1067",
         "46.0",
         "HPC 46"
        ],
        [
         "15",
         "22",
         "22-05-J",
         "Tumour",
         "8476.183472642588",
         "-47272.37257152832",
         "8",
         "13",
         "34",
         "CKPAN+",
         "0",
         "0.1306962215017391",
         "0.8253477098079784",
         "1_1.jpeg",
         "ACA_1067",
         "46.0",
         "HPC 46"
        ],
        [
         "16",
         "22",
         "22-05-J",
         "Tumour",
         "8523.87485556263",
         "-47272.43584894647",
         "15",
         "17",
         "5",
         "CKPAN+",
         "0",
         "0.17124450283883696",
         "0.8252903013541797",
         "1_1.jpeg",
         "ACA_1067",
         "46.0",
         "HPC 46"
        ],
        [
         "17",
         "22",
         "22-05-J",
         "Tumour",
         "8487.624234937819",
         "-47281.7145142738",
         "14",
         "7",
         "12",
         "CKPAN+",
         "0",
         "0.14042341370825717",
         "0.8168722298626605",
         "1_1.jpeg",
         "ACA_1067",
         "46.0",
         "HPC 46"
        ],
        [
         "18",
         "22",
         "22-05-J",
         "Tumour",
         "8513.833747654924",
         "-47278.70208349935",
         "15",
         "17",
         "5",
         "CKPAN+",
         "0",
         "0.16270732812405875",
         "0.8196052584533007",
         "1_1.jpeg",
         "ACA_1067",
         "46.0",
         "HPC 46"
        ],
        [
         "19",
         "22",
         "22-05-J",
         "Tumour",
         "8463.195903347007",
         "-47282.06043677564",
         "14",
         "15",
         "12",
         "CKPAN+",
         "0",
         "0.11965389935802584",
         "0.8165583915843868",
         "1_1.jpeg",
         "ACA_1067",
         "46.0",
         "HPC 46"
        ],
        [
         "20",
         "22",
         "22-05-J",
         "Tumour",
         "8474.19098825104",
         "-47286.15940134225",
         "8",
         "10",
         "11",
         "CKPAN+",
         "0",
         "0.12900216666999498",
         "0.8128396049328899",
         "1_1.jpeg",
         "ACA_1067",
         "46.0",
         "HPC 46"
        ],
        [
         "21",
         "22",
         "22-05-J",
         "Tumour",
         "8525.067801793817",
         "-47283.84986971424",
         "15",
         "17",
         "2",
         "CKPAN+",
         "0",
         "0.172258772428866",
         "0.8149349280931375",
         "1_1.jpeg",
         "ACA_1067",
         "46.0",
         "HPC 46"
        ],
        [
         "22",
         "22",
         "22-05-J",
         "Tumour",
         "8510.377752823972",
         "-47288.53504659412",
         "8",
         "10",
         "11",
         "CKPAN+",
         "0",
         "0.15976896395584017",
         "0.810684300170486",
         "1_1.jpeg",
         "ACA_1067",
         "46.0",
         "HPC 46"
        ],
        [
         "23",
         "22",
         "22-05-J",
         "Tumour",
         "8499.91418685333",
         "-47295.24171137288",
         "8",
         "10",
         "11",
         "CKPAN+",
         "0",
         "0.15087260593916874",
         "0.8045996768345276",
         "1_1.jpeg",
         "ACA_1067",
         "46.0",
         "HPC 46"
        ],
        [
         "24",
         "22",
         "22-05-J",
         "Tumour",
         "8521.070012504602",
         "-47289.68943420624",
         "15",
         "17",
         "2",
         "CKPAN+",
         "0",
         "0.16885976248408596",
         "0.809636981714128",
         "1_1.jpeg",
         "ACA_1067",
         "46.0",
         "HPC 46"
        ],
        [
         "25",
         "22",
         "22-05-J",
         "Tumour",
         "8458.89717029403",
         "-47293.28841452353",
         "8",
         "10",
         "11",
         "CKPAN+",
         "0",
         "0.1159990202886263",
         "0.8063718059007172",
         "1_1.jpeg",
         "ACA_1067",
         "46.0",
         "HPC 46"
        ],
        [
         "26",
         "22",
         "22-05-J",
         "Tumour",
         "8742.773200894886",
         "-47095.09010188903",
         "14",
         "7",
         "27",
         "CKPAN+",
         "0",
         "0.35735677611132477",
         "0.9861872757336201",
         "None",
         "ACA_1067",
         null,
         "HPC 46"
        ],
        [
         "27",
         "22",
         "22-05-J",
         "Tumour",
         "8733.49873490003",
         "-47095.23979824352",
         "14",
         "13",
         "12",
         "CKPAN+",
         "0",
         "0.3494714175122402",
         "0.9860514636777182",
         "None",
         "ACA_1067",
         null,
         "HPC 46"
        ],
        [
         "28",
         "22",
         "22-05-J",
         "Tumour",
         "8725.386079646754",
         "-47099.97100006957",
         "14",
         "7",
         "27",
         "CKPAN+",
         "0",
         "0.34257385641294835",
         "0.9817590796108888",
         "None",
         "ACA_1067",
         null,
         "HPC 46"
        ],
        [
         "29",
         "22",
         "22-05-J",
         "Tumour",
         "8732.694222236303",
         "-47103.156256351744",
         "9",
         "15",
         "19",
         "CKPAN+",
         "1",
         "0.3487874028364075",
         "0.9788692550341551",
         "None",
         "ACA_1067",
         null,
         "HPC 46"
        ],
        [
         "30",
         "22",
         "22-05-J",
         "Stroma",
         "8717.496148637263",
         "-47105.99269338559",
         "14",
         "15",
         "12",
         "CKPAN+",
         "0",
         "0.33586566045143673",
         "0.9762958968096953",
         "None",
         "ACA_1067",
         null,
         "HPC 46"
        ],
        [
         "31",
         "22",
         "22-05-J",
         "Stroma",
         "8741.66306150608",
         "-47104.76162153177",
         "15",
         "17",
         "2",
         "CKPAN+",
         "0",
         "0.35641291075233195",
         "0.9774127870639617",
         "None",
         "ACA_1067",
         null,
         "HPC 46"
        ],
        [
         "32",
         "22",
         "22-05-J",
         "Stroma",
         "8707.674837212908",
         "-47107.33312553167",
         "0",
         "9",
         "25",
         "SMA+",
         "0",
         "0.32751536162697814",
         "0.975079789402308",
         "None",
         "ACA_1067",
         null,
         "HPC 46"
        ],
        [
         "33",
         "22",
         "22-05-J",
         "Stroma",
         "8715.736746437482",
         "-47118.903187332086",
         "0",
         "9",
         "29",
         "SMA+",
         "0",
         "0.33436977731671114",
         "0.9645828478744889",
         "None",
         "ACA_1067",
         null,
         "HPC 46"
        ],
        [
         "34",
         "22",
         "22-05-J",
         "Stroma",
         "8679.705248671673",
         "-47120.37278427435",
         "15",
         "10",
         "0",
         "CD4+",
         "0",
         "0.3037349913459506",
         "0.963249555672725",
         "None",
         "ACA_1067",
         null,
         "HPC 46"
        ],
        [
         "35",
         "22",
         "22-05-J",
         "Stroma",
         "8692.24303675365",
         "-47123.13344133981",
         "1",
         "18",
         "16",
         "CD68+",
         "0",
         "0.3143948994334407",
         "0.960744948843967",
         "None",
         "ACA_1067",
         null,
         "HPC 46"
        ],
        [
         "36",
         "22",
         "22-05-J",
         "Stroma",
         "8660.661109461034",
         "-47129.60353466684",
         "4",
         "18",
         "16",
         "CD68+",
         "0",
         "0.2875432378832654",
         "0.9548749550180844",
         "None",
         "ACA_1067",
         null,
         "HPC 46"
        ],
        [
         "37",
         "22",
         "22-05-J",
         "Tumour",
         "8724.306212445996",
         "-47128.407797511565",
         "10",
         "11",
         "35",
         "CD4+",
         "0",
         "0.3416557291458808",
         "0.9559597878580561",
         "None",
         "ACA_1067",
         null,
         "HPC 46"
        ],
        [
         "38",
         "22",
         "22-05-J",
         "Stroma",
         "8625.48573327446",
         "-47133.6969166457",
         "9",
         "15",
         "12",
         "CKPAN+",
         "0",
         "0.25763634564357485",
         "0.9511612331707653",
         "None",
         "ACA_1067",
         null,
         "HPC 46"
        ],
        [
         "39",
         "22",
         "22-05-J",
         "Stroma",
         "8700.689083259009",
         "-47133.16628843359",
         "1",
         "17",
         "36",
         "CKPAN+",
         "0",
         "0.3215759172382642",
         "0.9516426457519245",
         "None",
         "ACA_1067",
         null,
         "HPC 46"
        ],
        [
         "40",
         "22",
         "22-05-J",
         "Tumour",
         "8613.962399835009",
         "-47134.482742473534",
         "9",
         "14",
         "19",
         "CKPAN+",
         "1",
         "0.24783894960187425",
         "0.950448292487458",
         "None",
         "ACA_1067",
         null,
         "HPC 46"
        ],
        [
         "41",
         "22",
         "22-05-J",
         "Stroma",
         "8646.487119151001",
         "-47135.08303565153",
         "15",
         "17",
         "6",
         "CKPAN+",
         "1",
         "0.27549219403485914",
         "0.9499036763481854",
         "None",
         "ACA_1067",
         null,
         "HPC 46"
        ],
        [
         "42",
         "22",
         "22-05-J",
         "Tumour",
         "8729.251015423224",
         "-47136.46034480119",
         "7",
         "16",
         "3",
         "CD4+",
         "0",
         "0.34585991132724736",
         "0.948654112269864",
         "None",
         "ACA_1067",
         null,
         "HPC 46"
        ],
        [
         "43",
         "22",
         "22-05-J",
         "Stroma",
         "8629.327127497318",
         "-47141.50725054926",
         "14",
         "7",
         "27",
         "CKPAN+",
         "0",
         "0.26090238500201135",
         "0.9440753057390268",
         "None",
         "ACA_1067",
         null,
         "HPC 46"
        ],
        [
         "44",
         "22",
         "22-05-J",
         "Stroma",
         "8698.372039922606",
         "-47146.93256467104",
         "1",
         "18",
         "16",
         "CD68+",
         "0",
         "0.31960591512630554",
         "0.9391531881143536",
         "None",
         "ACA_1067",
         null,
         "HPC 46"
        ],
        [
         "45",
         "22",
         "22-05-J",
         "Stroma",
         "8731.29106452506",
         "-47148.65186957187",
         "1",
         "18",
         "14",
         "CD8+",
         "0",
         "0.34759440674042086",
         "0.9375933483033094",
         "None",
         "ACA_1067",
         null,
         "HPC 46"
        ],
        [
         "46",
         "22",
         "22-05-J",
         "Stroma",
         "8619.159728828534",
         "-47150.790513322485",
         "15",
         "18",
         "36",
         "CKPAN+",
         "0",
         "0.25225783505512744",
         "0.9356530632135431",
         "None",
         "ACA_1067",
         null,
         "HPC 46"
        ],
        [
         "47",
         "22",
         "22-05-J",
         "Stroma",
         "8716.754311706478",
         "-47152.70625158375",
         "7",
         "8",
         "17",
         "CD4+",
         "0",
         "0.3352349340867562",
         "0.9339150091859949",
         "None",
         "ACA_1067",
         null,
         "HPC 46"
        ],
        [
         "48",
         "22",
         "22-05-J",
         "Stroma",
         "8610.954749410883",
         "-47153.515410297216",
         "14",
         "15",
         "12",
         "CKPAN+",
         "0",
         "0.24528177788459438",
         "0.933180899736243",
         "None",
         "ACA_1067",
         null,
         "HPC 46"
        ],
        [
         "49",
         "22",
         "22-05-J",
         "Stroma",
         "8673.963910754148",
         "-47153.2275495229",
         "12",
         "19",
         "16",
         "CD68+",
         "0",
         "0.29885357732779383",
         "0.9334420614973737",
         "None",
         "ACA_1067",
         null,
         "HPC 46"
        ]
       ],
       "shape": {
        "columns": 16,
        "rows": 3833721
       }
      },
      "text/html": [
       "<div>\n",
       "<style scoped>\n",
       "    .dataframe tbody tr th:only-of-type {\n",
       "        vertical-align: middle;\n",
       "    }\n",
       "\n",
       "    .dataframe tbody tr th {\n",
       "        vertical-align: top;\n",
       "    }\n",
       "\n",
       "    .dataframe thead th {\n",
       "        text-align: right;\n",
       "    }\n",
       "</style>\n",
       "<table border=\"1\" class=\"dataframe\">\n",
       "  <thead>\n",
       "    <tr style=\"text-align: right;\">\n",
       "      <th></th>\n",
       "      <th>TMA</th>\n",
       "      <th>core</th>\n",
       "      <th>compartment</th>\n",
       "      <th>CellX</th>\n",
       "      <th>CellY</th>\n",
       "      <th>leiden_0.2</th>\n",
       "      <th>leiden_0.3</th>\n",
       "      <th>leiden_0.5</th>\n",
       "      <th>cell_lineage</th>\n",
       "      <th>ki67_positive</th>\n",
       "      <th>CellX_norm</th>\n",
       "      <th>CellY_norm</th>\n",
       "      <th>tiles</th>\n",
       "      <th>samples</th>\n",
       "      <th>leiden_2.5</th>\n",
       "      <th>HPC</th>\n",
       "    </tr>\n",
       "  </thead>\n",
       "  <tbody>\n",
       "    <tr>\n",
       "      <th>0</th>\n",
       "      <td>22</td>\n",
       "      <td>22-05-J</td>\n",
       "      <td>Tumour</td>\n",
       "      <td>8526.375294</td>\n",
       "      <td>-47209.294961</td>\n",
       "      <td>14</td>\n",
       "      <td>15</td>\n",
       "      <td>12</td>\n",
       "      <td>CKPAN+</td>\n",
       "      <td>0</td>\n",
       "      <td>0.173370</td>\n",
       "      <td>0.882575</td>\n",
       "      <td>1_1.jpeg</td>\n",
       "      <td>ACA_1067</td>\n",
       "      <td>46.0</td>\n",
       "      <td>HPC 46</td>\n",
       "    </tr>\n",
       "    <tr>\n",
       "      <th>1</th>\n",
       "      <td>22</td>\n",
       "      <td>22-05-J</td>\n",
       "      <td>Tumour</td>\n",
       "      <td>8502.780534</td>\n",
       "      <td>-47222.466136</td>\n",
       "      <td>14</td>\n",
       "      <td>7</td>\n",
       "      <td>27</td>\n",
       "      <td>CKPAN+</td>\n",
       "      <td>0</td>\n",
       "      <td>0.153310</td>\n",
       "      <td>0.870625</td>\n",
       "      <td>1_1.jpeg</td>\n",
       "      <td>ACA_1067</td>\n",
       "      <td>46.0</td>\n",
       "      <td>HPC 46</td>\n",
       "    </tr>\n",
       "    <tr>\n",
       "      <th>2</th>\n",
       "      <td>22</td>\n",
       "      <td>22-05-J</td>\n",
       "      <td>Tumour</td>\n",
       "      <td>8510.929662</td>\n",
       "      <td>-47224.074935</td>\n",
       "      <td>14</td>\n",
       "      <td>7</td>\n",
       "      <td>19</td>\n",
       "      <td>CKPAN+</td>\n",
       "      <td>1</td>\n",
       "      <td>0.160238</td>\n",
       "      <td>0.869166</td>\n",
       "      <td>1_1.jpeg</td>\n",
       "      <td>ACA_1067</td>\n",
       "      <td>46.0</td>\n",
       "      <td>HPC 46</td>\n",
       "    </tr>\n",
       "    <tr>\n",
       "      <th>3</th>\n",
       "      <td>22</td>\n",
       "      <td>22-05-J</td>\n",
       "      <td>Tumour</td>\n",
       "      <td>8517.623256</td>\n",
       "      <td>-47224.496313</td>\n",
       "      <td>14</td>\n",
       "      <td>15</td>\n",
       "      <td>8</td>\n",
       "      <td>SMA+</td>\n",
       "      <td>0</td>\n",
       "      <td>0.165929</td>\n",
       "      <td>0.868783</td>\n",
       "      <td>1_1.jpeg</td>\n",
       "      <td>ACA_1067</td>\n",
       "      <td>46.0</td>\n",
       "      <td>HPC 46</td>\n",
       "    </tr>\n",
       "    <tr>\n",
       "      <th>4</th>\n",
       "      <td>22</td>\n",
       "      <td>22-05-J</td>\n",
       "      <td>Stroma</td>\n",
       "      <td>8522.685445</td>\n",
       "      <td>-47229.076912</td>\n",
       "      <td>4</td>\n",
       "      <td>4</td>\n",
       "      <td>1</td>\n",
       "      <td>CKPAN+</td>\n",
       "      <td>0</td>\n",
       "      <td>0.170233</td>\n",
       "      <td>0.864628</td>\n",
       "      <td>1_1.jpeg</td>\n",
       "      <td>ACA_1067</td>\n",
       "      <td>46.0</td>\n",
       "      <td>HPC 46</td>\n",
       "    </tr>\n",
       "    <tr>\n",
       "      <th>...</th>\n",
       "      <td>...</td>\n",
       "      <td>...</td>\n",
       "      <td>...</td>\n",
       "      <td>...</td>\n",
       "      <td>...</td>\n",
       "      <td>...</td>\n",
       "      <td>...</td>\n",
       "      <td>...</td>\n",
       "      <td>...</td>\n",
       "      <td>...</td>\n",
       "      <td>...</td>\n",
       "      <td>...</td>\n",
       "      <td>...</td>\n",
       "      <td>...</td>\n",
       "      <td>...</td>\n",
       "      <td>...</td>\n",
       "    </tr>\n",
       "    <tr>\n",
       "      <th>3833716</th>\n",
       "      <td>7</td>\n",
       "      <td>07-02-E</td>\n",
       "      <td>Stroma</td>\n",
       "      <td>16662.507831</td>\n",
       "      <td>-61368.284781</td>\n",
       "      <td>8</td>\n",
       "      <td>13</td>\n",
       "      <td>34</td>\n",
       "      <td>CKPAN+</td>\n",
       "      <td>0</td>\n",
       "      <td>0.812154</td>\n",
       "      <td>0.133889</td>\n",
       "      <td>0_0.jpeg</td>\n",
       "      <td>ACA_0411</td>\n",
       "      <td>13.0</td>\n",
       "      <td>HPC 13</td>\n",
       "    </tr>\n",
       "    <tr>\n",
       "      <th>3833717</th>\n",
       "      <td>7</td>\n",
       "      <td>07-02-E</td>\n",
       "      <td>Stroma</td>\n",
       "      <td>16629.507339</td>\n",
       "      <td>-61369.369176</td>\n",
       "      <td>1</td>\n",
       "      <td>22</td>\n",
       "      <td>14</td>\n",
       "      <td>CD8+</td>\n",
       "      <td>0</td>\n",
       "      <td>0.783851</td>\n",
       "      <td>0.132901</td>\n",
       "      <td>0_0.jpeg</td>\n",
       "      <td>ACA_0411</td>\n",
       "      <td>13.0</td>\n",
       "      <td>HPC 13</td>\n",
       "    </tr>\n",
       "    <tr>\n",
       "      <th>3833718</th>\n",
       "      <td>7</td>\n",
       "      <td>07-02-E</td>\n",
       "      <td>Stroma</td>\n",
       "      <td>16588.451347</td>\n",
       "      <td>-61369.921865</td>\n",
       "      <td>2</td>\n",
       "      <td>1</td>\n",
       "      <td>10</td>\n",
       "      <td>CD8+</td>\n",
       "      <td>0</td>\n",
       "      <td>0.748640</td>\n",
       "      <td>0.132398</td>\n",
       "      <td>0_0.jpeg</td>\n",
       "      <td>ACA_0411</td>\n",
       "      <td>13.0</td>\n",
       "      <td>HPC 13</td>\n",
       "    </tr>\n",
       "    <tr>\n",
       "      <th>3833719</th>\n",
       "      <td>7</td>\n",
       "      <td>07-02-E</td>\n",
       "      <td>Stroma</td>\n",
       "      <td>16574.006478</td>\n",
       "      <td>-61368.974251</td>\n",
       "      <td>13</td>\n",
       "      <td>16</td>\n",
       "      <td>18</td>\n",
       "      <td>CD4+</td>\n",
       "      <td>0</td>\n",
       "      <td>0.736252</td>\n",
       "      <td>0.133261</td>\n",
       "      <td>0_0.jpeg</td>\n",
       "      <td>ACA_0411</td>\n",
       "      <td>13.0</td>\n",
       "      <td>HPC 13</td>\n",
       "    </tr>\n",
       "    <tr>\n",
       "      <th>3833720</th>\n",
       "      <td>7</td>\n",
       "      <td>07-02-E</td>\n",
       "      <td>Stroma</td>\n",
       "      <td>16642.091466</td>\n",
       "      <td>-61370.966531</td>\n",
       "      <td>11</td>\n",
       "      <td>20</td>\n",
       "      <td>9</td>\n",
       "      <td>CD4+</td>\n",
       "      <td>1</td>\n",
       "      <td>0.794644</td>\n",
       "      <td>0.131447</td>\n",
       "      <td>0_0.jpeg</td>\n",
       "      <td>ACA_0411</td>\n",
       "      <td>13.0</td>\n",
       "      <td>HPC 13</td>\n",
       "    </tr>\n",
       "  </tbody>\n",
       "</table>\n",
       "<p>3833721 rows × 16 columns</p>\n",
       "</div>"
      ],
      "text/plain": [
       "        TMA     core compartment         CellX         CellY leiden_0.2  \\\n",
       "0        22  22-05-J      Tumour   8526.375294 -47209.294961         14   \n",
       "1        22  22-05-J      Tumour   8502.780534 -47222.466136         14   \n",
       "2        22  22-05-J      Tumour   8510.929662 -47224.074935         14   \n",
       "3        22  22-05-J      Tumour   8517.623256 -47224.496313         14   \n",
       "4        22  22-05-J      Stroma   8522.685445 -47229.076912          4   \n",
       "...      ..      ...         ...           ...           ...        ...   \n",
       "3833716   7  07-02-E      Stroma  16662.507831 -61368.284781          8   \n",
       "3833717   7  07-02-E      Stroma  16629.507339 -61369.369176          1   \n",
       "3833718   7  07-02-E      Stroma  16588.451347 -61369.921865          2   \n",
       "3833719   7  07-02-E      Stroma  16574.006478 -61368.974251         13   \n",
       "3833720   7  07-02-E      Stroma  16642.091466 -61370.966531         11   \n",
       "\n",
       "        leiden_0.3 leiden_0.5 cell_lineage ki67_positive  CellX_norm  \\\n",
       "0               15         12       CKPAN+             0    0.173370   \n",
       "1                7         27       CKPAN+             0    0.153310   \n",
       "2                7         19       CKPAN+             1    0.160238   \n",
       "3               15          8         SMA+             0    0.165929   \n",
       "4                4          1       CKPAN+             0    0.170233   \n",
       "...            ...        ...          ...           ...         ...   \n",
       "3833716         13         34       CKPAN+             0    0.812154   \n",
       "3833717         22         14         CD8+             0    0.783851   \n",
       "3833718          1         10         CD8+             0    0.748640   \n",
       "3833719         16         18         CD4+             0    0.736252   \n",
       "3833720         20          9         CD4+             1    0.794644   \n",
       "\n",
       "         CellY_norm     tiles   samples  leiden_2.5     HPC  \n",
       "0          0.882575  1_1.jpeg  ACA_1067        46.0  HPC 46  \n",
       "1          0.870625  1_1.jpeg  ACA_1067        46.0  HPC 46  \n",
       "2          0.869166  1_1.jpeg  ACA_1067        46.0  HPC 46  \n",
       "3          0.868783  1_1.jpeg  ACA_1067        46.0  HPC 46  \n",
       "4          0.864628  1_1.jpeg  ACA_1067        46.0  HPC 46  \n",
       "...             ...       ...       ...         ...     ...  \n",
       "3833716    0.133889  0_0.jpeg  ACA_0411        13.0  HPC 13  \n",
       "3833717    0.132901  0_0.jpeg  ACA_0411        13.0  HPC 13  \n",
       "3833718    0.132398  0_0.jpeg  ACA_0411        13.0  HPC 13  \n",
       "3833719    0.133261  0_0.jpeg  ACA_0411        13.0  HPC 13  \n",
       "3833720    0.131447  0_0.jpeg  ACA_0411        13.0  HPC 13  \n",
       "\n",
       "[3833721 rows x 16 columns]"
      ]
     },
     "execution_count": 4,
     "metadata": {},
     "output_type": "execute_result"
    }
   ],
   "source": [
    "pure_cores_counts = pd.read_csv('/nfs/home/users/krakovic/sharedscratch/notebooks/latticea_he/bioclavis/00_data/pure_cores_densities_with_annotations.csv', index_col=0)\n",
    "pure_cores_counts = pure_cores_counts.rename(columns={'cluster':'HPC'})\n",
    "\n",
    "adata_df = adata.obs.copy(deep=True)\n",
    "adata_df = adata_df[adata_df['core'].isin(pure_cores_counts['core'])].merge(pure_cores_counts[['core', 'HPC']], on='core')\n",
    "adata_df"
   ]
  },
  {
   "cell_type": "code",
   "execution_count": null,
   "metadata": {},
   "outputs": [],
   "source": [
    "leiden_clusters, malignant_clusters, stromal_clusters = load_topography()"
   ]
  },
  {
   "cell_type": "code",
   "execution_count": 6,
   "metadata": {},
   "outputs": [
    {
     "data": {
      "text/plain": [
       "Index(['CKPAN_z', 'CD4_z', 'CD8_z', 'CD68_z', 'SMA_z', 'Ki67_z'], dtype='object')"
      ]
     },
     "execution_count": 6,
     "metadata": {},
     "output_type": "execute_result"
    }
   ],
   "source": [
    "adata.var_names"
   ]
  },
  {
   "cell_type": "markdown",
   "metadata": {},
   "source": [
    "### Define the DBSCAN function"
   ]
  },
  {
   "cell_type": "code",
   "execution_count": 7,
   "metadata": {},
   "outputs": [],
   "source": [
    "def get_core_noise_prop(core_df, x_col, y_col, phenotype_col, phenotype, eps, min_samples):\n",
    "    points = core_df[core_df[phenotype_col] == phenotype][[x_col, y_col]].values\n",
    "\n",
    "    clusters = DBSCAN(eps=eps, min_samples=min_samples, n_jobs=10).fit_predict(points)\n",
    "    total_cells = clusters.shape[0]\n",
    "    noise_cells = clusters[clusters == -1].shape[0]\n",
    "    prop_noise = noise_cells / total_cells\n",
    "\n",
    "    # Reassign labels -- merge all clusters (comparison is cohesive vs not)\n",
    "    clusters[clusters != -1] = 1\n",
    "\n",
    "    return clusters, prop_noise\n",
    "\n",
    "# get_core_noise_prop(core_df=core_df, x_col='CellX', y_col='CellY', phenotype_col='cell_lineage', phenotype='CKPAN+', eps=15, min_samples=5)"
   ]
  },
  {
   "cell_type": "markdown",
   "metadata": {},
   "source": [
    "### Visual exemplar figure"
   ]
  },
  {
   "cell_type": "code",
   "execution_count": 8,
   "metadata": {},
   "outputs": [],
   "source": [
    "# import random\n",
    "\n",
    "# fig, axs = plt.subplots(nrows=10, ncols=2, figsize=(20,100))\n",
    "\n",
    "# indices = np.array([random.randint(0, adata_df[adata_df['HPC'] == 'cluster_27']['core'].nunique()) for _ in range(10)])\n",
    "# cores = adata_df[adata_df['HPC'] == 'cluster_27']['core'].unique()\n",
    "\n",
    "# for i, idx in enumerate(indices):\n",
    "#     core_df = adata_df.loc[(adata_df['core'] == cores[idx]) & (adata_df['cell_lineage'] == 'CKPAN+')]\n",
    "#     cluster_id = core_df['HPC'].values[0]\n",
    "#     clusters, noise = get_core_noise_prop(core_df=core_df, x_col='CellX', y_col='CellY', phenotype_col='cell_lineage', phenotype='CKPAN+', eps=25, min_samples=5)\n",
    "#     core_df['dbscan'] = clusters\n",
    "#     sns.scatterplot(data=core_df, x='CellX', y='CellY', hue='dbscan', s=24, ax=axs[i, 0])\n",
    "#     axs[i, 0].set_title(f'{cores[idx]}, {cluster_id}, {noise:.2f}')\n",
    "#     sns.scatterplot(data=core_df, x='CellX', y='CellY', hue='cell_lineage', s=24, ax=axs[i, 1])"
   ]
  },
  {
   "cell_type": "code",
   "execution_count": 9,
   "metadata": {},
   "outputs": [
    {
     "name": "stderr",
     "output_type": "stream",
     "text": [
      "/tmp/ipykernel_391971/4252763382.py:8: SettingWithCopyWarning: \n",
      "A value is trying to be set on a copy of a slice from a DataFrame.\n",
      "Try using .loc[row_indexer,col_indexer] = value instead\n",
      "\n",
      "See the caveats in the documentation: https://pandas.pydata.org/pandas-docs/stable/user_guide/indexing.html#returning-a-view-versus-a-copy\n",
      "  core_df['dbscan'] = clusters\n",
      "/tmp/ipykernel_391971/4252763382.py:11: UserWarning: Numpy array is not a supported type for `palette`. Please convert your palette to a list. This will become an error in v0.14\n",
      "  sns.scatterplot(data=core_df, x='CellX', y='CellY', hue='cell_lineage', s=24, ax=axs[0], palette=custom_colors, legend=False)\n",
      "/tmp/ipykernel_391971/4252763382.py:11: UserWarning: The palette list has more values (600) than needed (5), which may not be intended.\n",
      "  sns.scatterplot(data=core_df, x='CellX', y='CellY', hue='cell_lineage', s=24, ax=axs[0], palette=custom_colors, legend=False)\n"
     ]
    },
    {
     "data": {
      "image/png": "[encoded data removed]",
      "text/plain": [
       "<Figure size 1440x720 with 2 Axes>"
      ]
     },
     "metadata": {},
     "output_type": "display_data"
    }
   ],
   "source": [
    "fig, axs = plt.subplots(nrows=1, ncols=2, figsize=(20,10))\n",
    "axs = axs.flatten()\n",
    "\n",
    "core_df = adata_df.loc[(adata_df['core'] == '23-02-C') & (adata_df['cell_lineage'] == 'CKPAN+')]\n",
    "\n",
    "cluster_id = core_df['HPC'].values[0]\n",
    "clusters, noise = get_core_noise_prop(core_df=core_df, x_col='CellX', y_col='CellY', phenotype_col='cell_lineage', phenotype='CKPAN+', eps=25, min_samples=5)\n",
    "core_df['dbscan'] = clusters\n",
    "\n",
    "custom_colors = np.where(core_df['cell_lineage'] == \"CKPAN+\", \"lime\", np.where(core_df['cell_lineage'] != \"CKPAN+\", \"red\", \"red\"))\n",
    "sns.scatterplot(data=core_df, x='CellX', y='CellY', hue='cell_lineage', s=24, ax=axs[0], palette=custom_colors, legend=False)\n",
    "\n",
    "sns.scatterplot(data=core_df, x='CellX', y='CellY', hue='dbscan', s=24, ax=axs[1], legend=False, palette={1:'lime', -1:'white'})\n",
    "# axs[i, 0].set_title(f'{cores[idx]}, {cluster_id}, {noise:.2f}')\n",
    "\n",
    "axs[0].axis('off')\n",
    "axs[1].axis('off')\n",
    "\n",
    "fig.patch.set_facecolor('black')"
   ]
  },
  {
   "cell_type": "code",
   "execution_count": 10,
   "metadata": {},
   "outputs": [
    {
     "name": "stderr",
     "output_type": "stream",
     "text": [
      "/tmp/ipykernel_391971/3721338981.py:7: SettingWithCopyWarning: \n",
      "A value is trying to be set on a copy of a slice from a DataFrame.\n",
      "Try using .loc[row_indexer,col_indexer] = value instead\n",
      "\n",
      "See the caveats in the documentation: https://pandas.pydata.org/pandas-docs/stable/user_guide/indexing.html#returning-a-view-versus-a-copy\n",
      "  core_df['dbscan'] = clusters\n",
      "/tmp/ipykernel_391971/3721338981.py:10: UserWarning: Numpy array is not a supported type for `palette`. Please convert your palette to a list. This will become an error in v0.14\n",
      "  sns.scatterplot(data=core_df, x='CellX', y='CellY', hue='cell_lineage', s=24, ax=ax, palette=custom_colors, legend=False)\n",
      "/tmp/ipykernel_391971/3721338981.py:10: UserWarning: The palette list has more values (600) than needed (5), which may not be intended.\n",
      "  sns.scatterplot(data=core_df, x='CellX', y='CellY', hue='cell_lineage', s=24, ax=ax, palette=custom_colors, legend=False)\n"
     ]
    },
    {
     "data": {
      "image/png": "[encoded data removed]",
      "text/plain": [
       "<Figure size 720x720 with 1 Axes>"
      ]
     },
     "metadata": {},
     "output_type": "display_data"
    }
   ],
   "source": [
    "fig, ax = plt.subplots(nrows=1, ncols=1, figsize=(10,10))\n",
    "# axs = axs.flatten()\n",
    "\n",
    "core_df = adata_df.loc[(adata_df['core'] == '23-02-C') & (adata_df['cell_lineage'] == 'CKPAN+')]\n",
    "cluster_id = core_df['HPC'].values[0]\n",
    "clusters, noise = get_core_noise_prop(core_df=core_df, x_col='CellX', y_col='CellY', phenotype_col='cell_lineage', phenotype='CKPAN+', eps=25, min_samples=5)\n",
    "core_df['dbscan'] = clusters\n",
    "\n",
    "custom_colors = np.where(core_df['cell_lineage'] == \"CKPAN+\", \"lime\", np.where(core_df['cell_lineage'] != \"CKPAN+\", \"red\", \"red\"))\n",
    "sns.scatterplot(data=core_df, x='CellX', y='CellY', hue='cell_lineage', s=24, ax=ax, palette=custom_colors, legend=False)\n",
    "\n",
    "# sns.scatterplot(data=core_df, x='CellX', y='CellY', hue='dbscan', s=24, ax=axs[1], legend=False, palette={1:'lime', -1:'white'})\n",
    "# axs[i, 0].set_title(f'{cores[idx]}, {cluster_id}, {noise:.2f}')\n",
    "\n",
    "ax.axis('off')\n",
    "# axs[1].axis('off')\n",
    "\n",
    "fig.patch.set_facecolor('black')\n",
    "plt.savefig('/nfs/home/users/krakovic/sharedscratch/notebooks/latticea_he/final_figures/bioclavis/core_23_2_C_CKPAN_scatter_black_bkg.tiff', dpi=300, bbox_inches='tight', pad_inches=0.1)"
   ]
  },
  {
   "cell_type": "code",
   "execution_count": 11,
   "metadata": {},
   "outputs": [
    {
     "name": "stderr",
     "output_type": "stream",
     "text": [
      "/tmp/ipykernel_391971/3320213990.py:7: SettingWithCopyWarning: \n",
      "A value is trying to be set on a copy of a slice from a DataFrame.\n",
      "Try using .loc[row_indexer,col_indexer] = value instead\n",
      "\n",
      "See the caveats in the documentation: https://pandas.pydata.org/pandas-docs/stable/user_guide/indexing.html#returning-a-view-versus-a-copy\n",
      "  core_df['dbscan'] = clusters\n"
     ]
    },
    {
     "data": {
      "image/png": "[encoded data removed]",
      "text/plain": [
       "<Figure size 720x720 with 1 Axes>"
      ]
     },
     "metadata": {},
     "output_type": "display_data"
    }
   ],
   "source": [
    "fig, ax = plt.subplots(nrows=1, ncols=1, figsize=(10,10))\n",
    "# axs = axs.flatten()\n",
    "\n",
    "core_df = adata_df.loc[(adata_df['core'] == '23-02-C') & (adata_df['cell_lineage'] == 'CKPAN+')]\n",
    "cluster_id = core_df['HPC'].values[0]\n",
    "clusters, noise = get_core_noise_prop(core_df=core_df, x_col='CellX', y_col='CellY', phenotype_col='cell_lineage', phenotype='CKPAN+', eps=25, min_samples=5)\n",
    "core_df['dbscan'] = clusters\n",
    "\n",
    "custom_colors = np.where(core_df['cell_lineage'] == \"CKPAN+\", \"lime\", np.where(core_df['cell_lineage'] != \"CKPAN+\", \"red\", \"red\"))\n",
    "# sns.scatterplot(data=core_df, x='CellX', y='CellY', hue='cell_lineage', s=24, ax=ax, palette=custom_colors, legend=False)\n",
    "\n",
    "sns.scatterplot(data=core_df, x='CellX', y='CellY', hue='dbscan', s=24, ax=ax, legend=False, palette={1:'lime', -1:'white'})\n",
    "# axs[i, 0].set_title(f'{cores[idx]}, {cluster_id}, {noise:.2f}')\n",
    "\n",
    "ax.axis('off')\n",
    "# axs[1].axis('off')\n",
    "\n",
    "fig.patch.set_facecolor('black')\n",
    "plt.savefig('/nfs/home/users/krakovic/sharedscratch/notebooks/latticea_he/final_figures/bioclavis/core_23_2_C_CKPAN_scatter_white_noise_DBSCAN_black_bkg.tiff', dpi=300, bbox_inches='tight', pad_inches=0.1)"
   ]
  },
  {
   "cell_type": "markdown",
   "metadata": {},
   "source": [
    "### Analysis -- CKPAN only"
   ]
  },
  {
   "cell_type": "code",
   "execution_count": null,
   "metadata": {},
   "outputs": [],
   "source": [
    "dbscan_noise_dict = dict()\n",
    "dbscan_noise_list = list()\n",
    "\n",
    "cores = adata_df['core'].unique()\n",
    "\n",
    "for i, core in enumerate(cores):\n",
    "    core_df = adata_df.loc[(adata_df['core'] == core) & (adata_df['cell_lineage'] == 'CKPAN+')]\n",
    "    cluster_id = core_df['HPC'].values[0]\n",
    "    clusters, noise = get_core_noise_prop(core_df=core_df, x_col='CellX', y_col='CellY', phenotype_col='cell_lineage', phenotype='CKPAN+', eps=25, min_samples=5)\n",
    "    core_df['dbscan'] = clusters;\n",
    "    try:\n",
    "        dbscan_noise_dict[cluster_id].append((core, clusters, noise, core_df))\n",
    "    except:\n",
    "        dbscan_noise_dict[cluster_id] = list()\n",
    "        dbscan_noise_dict[cluster_id].append((core, clusters, noise, core_df))\n",
    "    dbscan_noise_list.append((core, cluster_id, noise))\n",
    "    "
   ]
  },
  {
   "cell_type": "code",
   "execution_count": null,
   "metadata": {},
   "outputs": [
    {
     "data": {
      "application/vnd.microsoft.datawrangler.viewer.v0+json": {
       "columns": [
        {
         "name": "index",
         "rawType": "int64",
         "type": "integer"
        },
        {
         "name": "core",
         "rawType": "object",
         "type": "string"
        },
        {
         "name": "HPC",
         "rawType": "object",
         "type": "string"
        },
        {
         "name": "noise",
         "rawType": "float64",
         "type": "float"
        }
       ],
       "conversionMethod": "pd.DataFrame",
       "ref": "63026eec-bded-4991-a059-475cfdf1d13a",
       "rows": [
        [
         "1",
         "22-10-B",
         "HPC 48",
         "0.07014388489208633"
        ],
        [
         "3",
         "22-06-D",
         "HPC 27",
         "0.08044692737430167"
        ],
        [
         "4",
         "22-04-C",
         "HPC 64",
         "0.11858407079646018"
        ],
        [
         "5",
         "22-06-J",
         "HPC 17",
         "0.017598343685300208"
        ],
        [
         "7",
         "22-02-F",
         "HPC 11",
         "0.03958333333333333"
        ],
        [
         "9",
         "22-05-A",
         "HPC 48",
         "0.09076175040518639"
        ],
        [
         "10",
         "22-13-G",
         "HPC 68",
         "0.020930232558139535"
        ],
        [
         "11",
         "22-02-C",
         "HPC 27",
         "0.19298245614035087"
        ],
        [
         "12",
         "22-02-I",
         "HPC 11",
         "0.15407703851925963"
        ],
        [
         "14",
         "22-13-C",
         "HPC 11",
         "0.016676773802304427"
        ],
        [
         "15",
         "22-03-C",
         "HPC 64",
         "0.4074803149606299"
        ],
        [
         "16",
         "22-09-C",
         "HPC 50",
         "0.09009740259740259"
        ],
        [
         "17",
         "22-06-C",
         "HPC 50",
         "0.043842034805890225"
        ],
        [
         "18",
         "22-13-A",
         "HPC 16",
         "0.1277139208173691"
        ],
        [
         "19",
         "20-13-A",
         "HPC 64",
         "0.09129511677282377"
        ],
        [
         "21",
         "20-15-G",
         "HPC 47",
         "0.05564784053156146"
        ],
        [
         "22",
         "20-02-B",
         "HPC 5",
         "0.05851800554016621"
        ],
        [
         "23",
         "20-10-G",
         "HPC 11",
         "0.006493506493506494"
        ],
        [
         "24",
         "20-02-D",
         "HPC 68",
         "0.11647173489278752"
        ],
        [
         "26",
         "20-05-B",
         "HPC 27",
         "0.33639705882352944"
        ],
        [
         "27",
         "20-15-E",
         "HPC 48",
         "0.05396039603960396"
        ],
        [
         "29",
         "20-10-E",
         "HPC 44",
         "0.007980652962515114"
        ],
        [
         "30",
         "20-02-E",
         "HPC 64",
         "0.09605070697220867"
        ],
        [
         "31",
         "20-11-F",
         "HPC 50",
         "0.008278662917838176"
        ],
        [
         "32",
         "20-06-J",
         "HPC 17",
         "0.001750291715285881"
        ],
        [
         "33",
         "20-13-B",
         "HPC 31",
         "0.07528230865746549"
        ],
        [
         "34",
         "20-05-A",
         "HPC 44",
         "0.16182117388919365"
        ],
        [
         "38",
         "20-07-F",
         "HPC 48",
         "0.13686440677966102"
        ],
        [
         "39",
         "20-11-E",
         "HPC 44",
         "0.005956813104988831"
        ],
        [
         "41",
         "20-07-J",
         "HPC 17",
         "0.007067137809187279"
        ],
        [
         "42",
         "20-06-C",
         "HPC 28",
         "0.08652312599681021"
        ],
        [
         "43",
         "20-11-G",
         "HPC 67",
         "0.012996389891696752"
        ],
        [
         "44",
         "20-13-G",
         "HPC 11",
         "0.09865196078431372"
        ],
        [
         "46",
         "13-13-F",
         "HPC 44",
         "0.04467465199093558"
        ],
        [
         "47",
         "13-09-I",
         "HPC 44",
         "0.08104125736738703"
        ],
        [
         "48",
         "13-05-J",
         "HPC 68",
         "0.11483870967741935"
        ],
        [
         "50",
         "13-04-A",
         "HPC 67",
         "0.1279748540637629"
        ],
        [
         "51",
         "13-09-B",
         "HPC 17",
         "0.03786434214110596"
        ],
        [
         "52",
         "13-09-H",
         "HPC 69",
         "0.02485207100591716"
        ],
        [
         "53",
         "13-10-B",
         "HPC 17",
         "0.014382402707275803"
        ],
        [
         "54",
         "13-11-H",
         "HPC 67",
         "0.1579754601226994"
        ],
        [
         "56",
         "13-15-C",
         "HPC 28",
         "0.5503597122302158"
        ],
        [
         "59",
         "13-13-I",
         "HPC 0",
         "0.004420526619258121"
        ],
        [
         "60",
         "13-03-F",
         "HPC 27",
         "0.05287662121715996"
        ],
        [
         "61",
         "13-03-J",
         "HPC 67",
         "0.07597535934291581"
        ],
        [
         "63",
         "13-07-A",
         "HPC 11",
         "0.18097826086956523"
        ],
        [
         "64",
         "13-15-F",
         "HPC 47",
         "0.005786428195686481"
        ],
        [
         "65",
         "13-13-C",
         "HPC 50",
         "0.09057225195553725"
        ],
        [
         "66",
         "13-10-G",
         "HPC 11",
         "0.0010861132660977503"
        ],
        [
         "68",
         "13-14-J",
         "HPC 11",
         "0.13899138991389914"
        ]
       ],
       "shape": {
        "columns": 3,
        "rows": 484
       }
      },
      "text/html": [
       "<div>\n",
       "<style scoped>\n",
       "    .dataframe tbody tr th:only-of-type {\n",
       "        vertical-align: middle;\n",
       "    }\n",
       "\n",
       "    .dataframe tbody tr th {\n",
       "        vertical-align: top;\n",
       "    }\n",
       "\n",
       "    .dataframe thead th {\n",
       "        text-align: right;\n",
       "    }\n",
       "</style>\n",
       "<table border=\"1\" class=\"dataframe\">\n",
       "  <thead>\n",
       "    <tr style=\"text-align: right;\">\n",
       "      <th></th>\n",
       "      <th>core</th>\n",
       "      <th>HPC</th>\n",
       "      <th>noise</th>\n",
       "    </tr>\n",
       "  </thead>\n",
       "  <tbody>\n",
       "    <tr>\n",
       "      <th>1</th>\n",
       "      <td>22-10-B</td>\n",
       "      <td>HPC 48</td>\n",
       "      <td>0.070144</td>\n",
       "    </tr>\n",
       "    <tr>\n",
       "      <th>3</th>\n",
       "      <td>22-06-D</td>\n",
       "      <td>HPC 27</td>\n",
       "      <td>0.080447</td>\n",
       "    </tr>\n",
       "    <tr>\n",
       "      <th>4</th>\n",
       "      <td>22-04-C</td>\n",
       "      <td>HPC 64</td>\n",
       "      <td>0.118584</td>\n",
       "    </tr>\n",
       "    <tr>\n",
       "      <th>5</th>\n",
       "      <td>22-06-J</td>\n",
       "      <td>HPC 17</td>\n",
       "      <td>0.017598</td>\n",
       "    </tr>\n",
       "    <tr>\n",
       "      <th>7</th>\n",
       "      <td>22-02-F</td>\n",
       "      <td>HPC 11</td>\n",
       "      <td>0.039583</td>\n",
       "    </tr>\n",
       "    <tr>\n",
       "      <th>...</th>\n",
       "      <td>...</td>\n",
       "      <td>...</td>\n",
       "      <td>...</td>\n",
       "    </tr>\n",
       "    <tr>\n",
       "      <th>721</th>\n",
       "      <td>07-04-E</td>\n",
       "      <td>HPC 40</td>\n",
       "      <td>0.115385</td>\n",
       "    </tr>\n",
       "    <tr>\n",
       "      <th>722</th>\n",
       "      <td>07-04-B</td>\n",
       "      <td>HPC 10</td>\n",
       "      <td>0.349927</td>\n",
       "    </tr>\n",
       "    <tr>\n",
       "      <th>723</th>\n",
       "      <td>07-10-I</td>\n",
       "      <td>HPC 11</td>\n",
       "      <td>0.024876</td>\n",
       "    </tr>\n",
       "    <tr>\n",
       "      <th>724</th>\n",
       "      <td>07-03-C</td>\n",
       "      <td>HPC 50</td>\n",
       "      <td>0.030681</td>\n",
       "    </tr>\n",
       "    <tr>\n",
       "      <th>725</th>\n",
       "      <td>07-02-E</td>\n",
       "      <td>HPC 13</td>\n",
       "      <td>0.102088</td>\n",
       "    </tr>\n",
       "  </tbody>\n",
       "</table>\n",
       "<p>484 rows × 3 columns</p>\n",
       "</div>"
      ],
      "text/plain": [
       "        core     HPC     noise\n",
       "1    22-10-B  HPC 48  0.070144\n",
       "3    22-06-D  HPC 27  0.080447\n",
       "4    22-04-C  HPC 64  0.118584\n",
       "5    22-06-J  HPC 17  0.017598\n",
       "7    22-02-F  HPC 11  0.039583\n",
       "..       ...     ...       ...\n",
       "721  07-04-E  HPC 40  0.115385\n",
       "722  07-04-B  HPC 10  0.349927\n",
       "723  07-10-I  HPC 11  0.024876\n",
       "724  07-03-C  HPC 50  0.030681\n",
       "725  07-02-E  HPC 13  0.102088\n",
       "\n",
       "[484 rows x 3 columns]"
      ]
     },
     "execution_count": 45,
     "metadata": {},
     "output_type": "execute_result"
    }
   ],
   "source": [
    "noise_df = pd.DataFrame(dbscan_noise_list, columns=['core', 'HPC', 'noise'])\n",
    "### Filter to malignant patterns\n",
    "noise_df = noise_df[noise_df['HPC'].isin([f'HPC {c}' for c in list(malignant_clusters)+[10,16]])]\n",
    "\n",
    "### Additionally, we do not consider non-invasive patterns for this classification\n",
    "noninvasive = ['HPC 35', 'HPC 41', 'HPC 46', 'HPC 54', 'HPC 52']\n",
    "noise_df = noise_df[~noise_df['HPC'].isin(noninvasive)]\n",
    "noise_df"
   ]
  },
  {
   "cell_type": "code",
   "execution_count": 49,
   "metadata": {},
   "outputs": [
    {
     "data": {
      "text/plain": [
       "<Axes: xlabel='noise', ylabel='Density'>"
      ]
     },
     "execution_count": 49,
     "metadata": {},
     "output_type": "execute_result"
    },
    {
     "data": {
      "image/png": "[encoded data removed]",
      "text/plain": [
       "<Figure size 432x288 with 1 Axes>"
      ]
     },
     "metadata": {
      "needs_background": "light"
     },
     "output_type": "display_data"
    }
   ],
   "source": [
    "# Decide whether to use mean or median based on the distribution across the whole dataset\n",
    "fig, ax = plt.subplots(figsize=(6,4))\n",
    "sns.kdeplot(noise_df, x='noise', ax=ax)"
   ]
  },
  {
   "cell_type": "code",
   "execution_count": null,
   "metadata": {},
   "outputs": [
    {
     "data": {
      "application/vnd.microsoft.datawrangler.viewer.v0+json": {
       "columns": [
        {
         "name": "index",
         "rawType": "int64",
         "type": "integer"
        },
        {
         "name": "core",
         "rawType": "object",
         "type": "string"
        },
        {
         "name": "HPC",
         "rawType": "object",
         "type": "string"
        },
        {
         "name": "noise",
         "rawType": "float64",
         "type": "float"
        },
        {
         "name": "robust_z_score",
         "rawType": "float64",
         "type": "float"
        }
       ],
       "conversionMethod": "pd.DataFrame",
       "ref": "367628f3-ce30-4b7b-877f-12a877a400d6",
       "rows": [
        [
         "651",
         "04-13-J",
         "HPC 0",
         "0.06187624750499002",
         "0.22460139730306095"
        ],
        [
         "194",
         "17-02-B",
         "HPC 0",
         "0.01208617971623752",
         "-0.7618776688776612"
        ],
        [
         "634",
         "04-09-H",
         "HPC 0",
         "0.008998200359928014",
         "-0.8230590877245276"
        ],
        [
         "187",
         "17-13-C",
         "HPC 0",
         "0.15403422982885084",
         "2.0505061285369997"
        ],
        [
         "571",
         "03-09-B",
         "HPC 0",
         "0.030441400304414",
         "-0.39820994016137573"
        ],
        [
         "669",
         "04-16-G",
         "HPC 0",
         "0.03399765533411489",
         "-0.3277506839963878"
        ],
        [
         "555",
         "03-11-C",
         "HPC 0",
         "0.06267645398080181",
         "0.2404557026307774"
        ],
        [
         "59",
         "13-13-I",
         "HPC 0",
         "0.004420526619258121",
         "-0.913755475930614"
        ],
        [
         "578",
         "03-11-E",
         "HPC 0",
         "0.006071118820468344",
         "-0.8810526754402946"
        ],
        [
         "356",
         "14-13-B",
         "HPC 0",
         "0.08054342552159147",
         "0.5944498662020362"
        ],
        [
         "240",
         "11-07-A",
         "HPC 0",
         "0.03512575888985256",
         "-0.3053998298673914"
        ],
        [
         "552",
         "09-13-J",
         "HPC 0",
         "0.026470588235294117",
         "-0.4768827188075899"
        ],
        [
         "139",
         "05-09-C",
         "HPC 0",
         "0.047588424437299034",
         "-0.0584799276184355"
        ],
        [
         "637",
         "04-11-I",
         "HPC 0",
         "0.011996572407883462",
         "-0.7636530376970634"
        ],
        [
         "488",
         "06-13-A",
         "HPC 0",
         "0.012318029115341545",
         "-0.7572840905018878"
        ],
        [
         "433",
         "10-02-H",
         "HPC 0",
         "0.03667192429022082",
         "-0.2747660133643181"
        ],
        [
         "666",
         "04-05-I",
         "HPC 0",
         "0.040515653775322284",
         "-0.1986110924832754"
        ],
        [
         "163",
         "05-09-B",
         "HPC 0",
         "0.02883096366508689",
         "-0.4301171478166645"
        ],
        [
         "290",
         "01-18-L",
         "HPC 0",
         "0.07716535433070866",
         "0.5275209251125675"
        ],
        [
         "166",
         "05-13-I",
         "HPC 0",
         "0.024062278839348902",
         "-0.5245979943534282"
        ],
        [
         "699",
         "07-03-I",
         "HPC 0",
         "0.023060227889310905",
         "-0.5444513974388181"
        ],
        [
         "716",
         "07-09-J",
         "HPC 0",
         "0.007035419699175158",
         "-0.8619472057634924"
        ],
        [
         "687",
         "19-15-G",
         "HPC 0",
         "0.04239212717638153",
         "-0.16143296016492478"
        ],
        [
         "658",
         "04-12-D",
         "HPC 0",
         "0.1286549707602339",
         "1.5476727543670719"
        ],
        [
         "149",
         "05-05-D",
         "HPC 0",
         "0.1111111111111111",
         "1.2000803317718598"
        ],
        [
         "478",
         "06-14-A",
         "HPC 0",
         "0.004730713245997089",
         "-0.9076098202310584"
        ],
        [
         "487",
         "06-03-A",
         "HPC 0",
         "0.027875932469572047",
         "-0.44903895941013583"
        ],
        [
         "156",
         "05-12-I",
         "HPC 0",
         "0.03024662633783155",
         "-0.40206895159083955"
        ],
        [
         "78",
         "13-03-B",
         "HPC 11",
         "0.0687175389532561",
         "0.36014631818947557"
        ],
        [
         "675",
         "19-09-D",
         "HPC 11",
         "0.3692077727952167",
         "6.313689633987222"
        ],
        [
         "589",
         "03-13-G",
         "HPC 11",
         "0.06643508467216674",
         "0.31492458084695596"
        ],
        [
         "284",
         "01-11-B",
         "HPC 11",
         "0.09893617021276596",
         "0.9588610512687287"
        ],
        [
         "610",
         "23-10-E",
         "HPC 11",
         "0.011004923255140457",
         "-0.7833003523849499"
        ],
        [
         "85",
         "12-04-I",
         "HPC 11",
         "0.0028446389496717722",
         "-0.9449781728607521"
        ],
        [
         "678",
         "19-06-H",
         "HPC 11",
         "0.028143274853801168",
         "-0.44374216675133077"
        ],
        [
         "474",
         "06-09-D",
         "HPC 11",
         "0.01978933929141398",
         "-0.6092567546703949"
        ],
        [
         "220",
         "16-04-H",
         "HPC 11",
         "0.008841732979664015",
         "-0.8261591396430238"
        ],
        [
         "595",
         "03-12-F",
         "HPC 11",
         "0.0014779781259237363",
         "-0.9720555068165274"
        ],
        [
         "84",
         "12-10-A",
         "HPC 11",
         "0.028668941979522185",
         "-0.43332724589797306"
        ],
        [
         "189",
         "17-09-G",
         "HPC 11",
         "0.01078490113840623",
         "-0.78765959955802"
        ],
        [
         "635",
         "04-05-K",
         "HPC 11",
         "0.02252252252252252",
         "-0.5551048291706301"
        ],
        [
         "636",
         "04-17-B",
         "HPC 11",
         "0.00943126607602172",
         "-0.8144788571247309"
        ],
        [
         "641",
         "04-16-B",
         "HPC 11",
         "0.007462686567164179",
         "-0.8534818663963708"
        ],
        [
         "126",
         "12-11-E",
         "HPC 11",
         "0.026757046022119157",
         "-0.47120719711024456"
        ],
        [
         "70",
         "13-06-F",
         "HPC 11",
         "0.0021001050052502626",
         "-0.9597294512351651"
        ],
        [
         "607",
         "23-14-J",
         "HPC 11",
         "0.008484292593441871",
         "-0.8332410231205022"
        ],
        [
         "475",
         "06-14-I",
         "HPC 11",
         "0.1619241192411924",
         "2.206826677703114"
        ],
        [
         "66",
         "13-10-G",
         "HPC 11",
         "0.0010861132660977503",
         "-0.9798194344060678"
        ],
        [
         "425",
         "10-06-J",
         "HPC 11",
         "0.012544802867383513",
         "-0.7527910747442511"
        ],
        [
         "573",
         "03-04-I",
         "HPC 11",
         "0.011288805268109126",
         "-0.7776758638976679"
        ]
       ],
       "shape": {
        "columns": 4,
        "rows": 482
       }
      },
      "text/html": [
       "<div>\n",
       "<style scoped>\n",
       "    .dataframe tbody tr th:only-of-type {\n",
       "        vertical-align: middle;\n",
       "    }\n",
       "\n",
       "    .dataframe tbody tr th {\n",
       "        vertical-align: top;\n",
       "    }\n",
       "\n",
       "    .dataframe thead th {\n",
       "        text-align: right;\n",
       "    }\n",
       "</style>\n",
       "<table border=\"1\" class=\"dataframe\">\n",
       "  <thead>\n",
       "    <tr style=\"text-align: right;\">\n",
       "      <th></th>\n",
       "      <th>core</th>\n",
       "      <th>HPC</th>\n",
       "      <th>noise</th>\n",
       "      <th>robust_z_score</th>\n",
       "    </tr>\n",
       "  </thead>\n",
       "  <tbody>\n",
       "    <tr>\n",
       "      <th>651</th>\n",
       "      <td>04-13-J</td>\n",
       "      <td>HPC 0</td>\n",
       "      <td>0.061876</td>\n",
       "      <td>0.224601</td>\n",
       "    </tr>\n",
       "    <tr>\n",
       "      <th>194</th>\n",
       "      <td>17-02-B</td>\n",
       "      <td>HPC 0</td>\n",
       "      <td>0.012086</td>\n",
       "      <td>-0.761878</td>\n",
       "    </tr>\n",
       "    <tr>\n",
       "      <th>634</th>\n",
       "      <td>04-09-H</td>\n",
       "      <td>HPC 0</td>\n",
       "      <td>0.008998</td>\n",
       "      <td>-0.823059</td>\n",
       "    </tr>\n",
       "    <tr>\n",
       "      <th>187</th>\n",
       "      <td>17-13-C</td>\n",
       "      <td>HPC 0</td>\n",
       "      <td>0.154034</td>\n",
       "      <td>2.050506</td>\n",
       "    </tr>\n",
       "    <tr>\n",
       "      <th>571</th>\n",
       "      <td>03-09-B</td>\n",
       "      <td>HPC 0</td>\n",
       "      <td>0.030441</td>\n",
       "      <td>-0.398210</td>\n",
       "    </tr>\n",
       "    <tr>\n",
       "      <th>...</th>\n",
       "      <td>...</td>\n",
       "      <td>...</td>\n",
       "      <td>...</td>\n",
       "      <td>...</td>\n",
       "    </tr>\n",
       "    <tr>\n",
       "      <th>237</th>\n",
       "      <td>16-14-C</td>\n",
       "      <td>HPC 69</td>\n",
       "      <td>0.069986</td>\n",
       "      <td>0.385276</td>\n",
       "    </tr>\n",
       "    <tr>\n",
       "      <th>609</th>\n",
       "      <td>23-09-E</td>\n",
       "      <td>HPC 69</td>\n",
       "      <td>0.067482</td>\n",
       "      <td>0.335672</td>\n",
       "    </tr>\n",
       "    <tr>\n",
       "      <th>533</th>\n",
       "      <td>09-03-H</td>\n",
       "      <td>HPC 69</td>\n",
       "      <td>0.091366</td>\n",
       "      <td>0.808881</td>\n",
       "    </tr>\n",
       "    <tr>\n",
       "      <th>674</th>\n",
       "      <td>19-04-D</td>\n",
       "      <td>HPC 69</td>\n",
       "      <td>0.029880</td>\n",
       "      <td>-0.409339</td>\n",
       "    </tr>\n",
       "    <tr>\n",
       "      <th>373</th>\n",
       "      <td>14-05-F</td>\n",
       "      <td>HPC 69</td>\n",
       "      <td>0.095890</td>\n",
       "      <td>0.898516</td>\n",
       "    </tr>\n",
       "  </tbody>\n",
       "</table>\n",
       "<p>482 rows × 4 columns</p>\n",
       "</div>"
      ],
      "text/plain": [
       "        core     HPC     noise  robust_z_score\n",
       "651  04-13-J   HPC 0  0.061876        0.224601\n",
       "194  17-02-B   HPC 0  0.012086       -0.761878\n",
       "634  04-09-H   HPC 0  0.008998       -0.823059\n",
       "187  17-13-C   HPC 0  0.154034        2.050506\n",
       "571  03-09-B   HPC 0  0.030441       -0.398210\n",
       "..       ...     ...       ...             ...\n",
       "237  16-14-C  HPC 69  0.069986        0.385276\n",
       "609  23-09-E  HPC 69  0.067482        0.335672\n",
       "533  09-03-H  HPC 69  0.091366        0.808881\n",
       "674  19-04-D  HPC 69  0.029880       -0.409339\n",
       "373  14-05-F  HPC 69  0.095890        0.898516\n",
       "\n",
       "[482 rows x 4 columns]"
      ]
     },
     "execution_count": 103,
     "metadata": {},
     "output_type": "execute_result"
    }
   ],
   "source": [
    "# Right skew on KDE plot above means we should use the median\n",
    "\n",
    "medians = list()\n",
    "for cluster in noise_df['HPC'].unique():\n",
    "    median = np.median(noise_df[noise_df['HPC'] == cluster]['noise'].values)\n",
    "    medians.append((cluster, median))\n",
    "\n",
    "# Only n=2, omit\n",
    "noise_df = noise_df[noise_df['HPC'] != 'HPC 10']\n",
    "order = pd.DataFrame(medians, columns=['HPC', 'median']).sort_values(by='median')['HPC'].to_list()[::-1]\n",
    "\n",
    "noise_df\n"
   ]
  },
  {
   "cell_type": "code",
   "execution_count": 104,
   "metadata": {},
   "outputs": [
    {
     "data": {
      "application/vnd.microsoft.datawrangler.viewer.v0+json": {
       "columns": [
        {
         "name": "HPC",
         "rawType": "object",
         "type": "string"
        },
        {
         "name": "coef",
         "rawType": "float64",
         "type": "float"
        },
        {
         "name": "exp(coef)",
         "rawType": "float64",
         "type": "float"
        },
        {
         "name": "se(coef)",
         "rawType": "float64",
         "type": "float"
        },
        {
         "name": "coef lower 95%",
         "rawType": "float64",
         "type": "float"
        },
        {
         "name": "coef upper 95%",
         "rawType": "float64",
         "type": "float"
        },
        {
         "name": "exp(coef) lower 95%",
         "rawType": "float64",
         "type": "float"
        },
        {
         "name": "exp(coef) upper 95%",
         "rawType": "float64",
         "type": "float"
        },
        {
         "name": "z",
         "rawType": "float64",
         "type": "float"
        },
        {
         "name": "p",
         "rawType": "float64",
         "type": "float"
        },
        {
         "name": "-log2(p)",
         "rawType": "float64",
         "type": "float"
        },
        {
         "name": "se",
         "rawType": "float64",
         "type": "float"
        }
       ],
       "conversionMethod": "pd.DataFrame",
       "ref": "b15eec38-8dd4-4a31-b3c4-d822b7ae44d4",
       "rows": [
        [
         "HPC 0",
         "-0.0484400873895762",
         "0.95274899229973",
         "0.0314151102944008",
         "-0.1101501741842585",
         "0.013269999405106",
         "0.8958833115751027",
         "1.0132411905659462",
         "-1.536970189495863",
         "0.0207672313502836",
         "3.03646068923554",
         "0.0314853807193423"
        ],
        [
         "HPC 11",
         "-0.012830052326254",
         "0.9873268749729412",
         "0.0174236630729261",
         "-0.0568280602402644",
         "0.0311679555877563",
         "0.9548250488996016",
         "1.02172379967759",
         "-0.4439290868757984",
         "0.9018461757526364",
         "0.6977199867217935",
         "0.0224484213524818"
        ],
        [
         "HPC 13",
         "0.0530360613125408",
         "1.0544993745990856",
         "0.0343819719236179",
         "-0.0144032696811206",
         "0.1204753923062023",
         "0.9857965846986364",
         "1.1279982151516812",
         "1.550618468903222",
         "0.0181444200300329",
         "3.095077422631208",
         "0.0344085241503201"
        ],
        [
         "HPC 16",
         "-0.0142622441891022",
         "0.9859343673105816",
         "0.0355054064944081",
         "-0.0920496171578932",
         "0.0635251287796886",
         "0.9204840547759872",
         "1.0573276917931802",
         "-0.3139454418824084",
         "0.9778896024958222",
         "0.4532526982182315",
         "0.0396882451523454"
        ],
        [
         "HPC 17",
         "0.0048505618520564",
         "1.0048747847417725",
         "0.0172421758375777",
         "-0.0387580110123256",
         "0.0484591347164385",
         "0.9717494559538896",
         "1.0399179559887002",
         "0.1705118046180946",
         "0.9987234593865312",
         "0.2255713996643876",
         "0.0222497259456224"
        ],
        [
         "HPC 21",
         "0.0120252203058563",
         "1.0121704986667863",
         "0.0188182179989828",
         "-0.035565241101817",
         "0.0596156817135297",
         "0.9756682006171482",
         "1.0509853712550157",
         "0.3820278042456213",
         "0.9458359217928546",
         "0.5818706570438672",
         "0.0242813431945924"
        ],
        [
         "HPC 27",
         "0.1053409198953804",
         "1.1111615610025032",
         "0.041356797270052",
         "0.0241768147227643",
         "0.1865050250679965",
         "1.0246805305304212",
         "1.2049620889167458",
         "2.5607123028939967",
         "1.3530867078616472e-06",
         "6.656536281419082",
         "0.0414111028656789"
        ],
        [
         "HPC 28",
         "-1.8787326699564712e-08",
         "0.9999999812148908",
         "5.3585735186623584e-05",
         "-0.0001067382595688",
         "0.0001067006849154",
         "0.9998949607999424",
         "1.0001050130179236",
         "-0.0003092982964216",
         "1.0",
         "0.0004499725048998",
         "5.444982154847083e-05"
        ],
        [
         "HPC 30",
         "0.0413211809833934",
         "1.0422129941989269",
         "0.030015773439627",
         "-0.0175642197949394",
         "0.1002065817617263",
         "0.982679892436902",
         "1.105359976472832",
         "1.3840605195181",
         "0.0505677256996206",
         "2.635883569578449",
         "0.0300441849723121"
        ],
        [
         "HPC 31",
         "0.002199614907516",
         "1.0022051616165617",
         "0.0161140145148468",
         "-0.0476404469099638",
         "0.0520396767249959",
         "0.9716646707166",
         "1.0352440579794275",
         "0.0549309117607899",
         "0.9999954458881858",
         "0.0667449388665852",
         "0.025429121929774"
        ],
        [
         "HPC 33",
         "0.0200961086721698",
         "1.020323964261713",
         "0.0295126155434525",
         "-0.0377611265534028",
         "0.0779533438977425",
         "0.962975372196442",
         "1.0810896053132093",
         "0.6785076686411293",
         "0.7080804730898046",
         "1.0362615570021316",
         "0.0295196000048841"
        ],
        [
         "HPC 34",
         "-0.004842550946395",
         "0.9952168591808064",
         "0.0063105463059491",
         "-0.0322865245121856",
         "0.0226014226193956",
         "0.983501979559974",
         "1.0076669363367476",
         "-0.1551336603286878",
         "0.9983929713213948",
         "0.2378473941971131",
         "0.0140023130909766"
        ],
        [
         "HPC 40",
         "0.0141508951253404",
         "1.0143077768713975",
         "0.0358888470982282",
         "-0.0644117496486515",
         "0.0927135398993325",
         "0.945754509513648",
         "1.0891494427482808",
         "0.3140327279739106",
         "0.9808825122190812",
         "0.4360971614682115",
         "0.0400838000642829"
        ],
        [
         "HPC 44",
         "0.0011253148317863",
         "1.0011281859223569",
         "0.008371309099554",
         "-0.035367259395245",
         "0.0376178890588177",
         "0.9852802699381128",
         "1.0183157138838623",
         "0.0273937980881281",
         "0.9999998464734116",
         "0.0332355922841298",
         "0.0186190403003282"
        ],
        [
         "HPC 47",
         "0.0132934400955582",
         "1.0134385951255789",
         "0.0251586824265815",
         "-0.041839134365871",
         "0.0684260145569875",
         "0.9648174072644766",
         "1.0651501776596772",
         "0.4248259660014029",
         "0.9264618789705736",
         "0.637554429232307",
         "0.0281294385913127"
        ],
        [
         "HPC 48",
         "-0.02248721304038",
         "0.9778242745017176",
         "0.033856710276265",
         "-0.0889312069958572",
         "0.043956780915097",
         "0.9150253019628748",
         "1.0449450192200025",
         "-0.6772941008545827",
         "0.6827232190983915",
         "1.074307700536922",
         "0.0339006887668509"
        ],
        [
         "HPC 5",
         "0.0138793534741328",
         "1.0140376742305146",
         "0.0314800014744553",
         "-0.0551014356774931",
         "0.0828601426257589",
         "0.953610301850653",
         "1.0793104813295908",
         "0.3512054071160208",
         "0.967096706457162",
         "0.5049503761167122",
         "0.0351949984446754"
        ],
        [
         "HPC 50",
         "-1.0158880435805989e-08",
         "0.9999999898531252",
         "7.913648935290649e-05",
         "-0.0001581608534023",
         "0.0001581405356414",
         "0.9998448976914576",
         "1.0001551070260546",
         "-8.342942977422729e-05",
         "1.0",
         "0.0003675556607758",
         "8.069077660863734e-05"
        ],
        [
         "HPC 61",
         "-3.9288621179145626e-08",
         "0.9999999607153351",
         "7.204639755782349e-05",
         "-0.0001423701992131",
         "0.0001422916219707",
         "0.9998587625044356",
         "1.000141179182778",
         "-0.0005338226701136",
         "0.9999999999999996",
         "0.0006146205230919",
         "7.26192935528998e-05"
        ],
        [
         "HPC 64",
         "0.034252917237056",
         "1.0349381809462797",
         "0.0459764404254811",
         "-0.0559178442028778",
         "0.12442367867699",
         "0.9457841581841606",
         "1.1325081008179578",
         "0.751644189019417",
         "0.6007159938980462",
         "1.1957233885022795",
         "0.0460064294373017"
        ],
        [
         "HPC 67",
         "-0.0007170026050151",
         "0.9992844707307292",
         "0.0068951044234247",
         "-0.0307096520972519",
         "0.0292756468872217",
         "0.986256496994304",
         "1.0132088864656126",
         "-0.0214183035441385",
         "0.9999999568341956",
         "0.0256745337605942",
         "0.0153026844896002"
        ],
        [
         "HPC 68",
         "1.3709938781760509e-08",
         "1.000000013709974",
         "5.130403742477115e-05",
         "-0.0001052205648743",
         "0.0001052479847518",
         "0.999899465178639",
         "1.000100573314636",
         "0.0001692437215925",
         "1.0",
         "0.0003899909140612",
         "5.3692052293461154e-05"
        ],
        [
         "HPC 69",
         "-0.0294319042824566",
         "0.9710350870400168",
         "0.0601496337203963",
         "-0.1474300256381519",
         "0.0885662170732386",
         "0.8630599007185612",
         "1.092546133324665",
         "-0.4902919008797026",
         "0.9033464355631948",
         "0.6942959329373514",
         "0.0602043518009017"
        ]
       ],
       "shape": {
        "columns": 11,
        "rows": 23
       }
      },
      "text/html": [
       "<div>\n",
       "<style scoped>\n",
       "    .dataframe tbody tr th:only-of-type {\n",
       "        vertical-align: middle;\n",
       "    }\n",
       "\n",
       "    .dataframe tbody tr th {\n",
       "        vertical-align: top;\n",
       "    }\n",
       "\n",
       "    .dataframe thead th {\n",
       "        text-align: right;\n",
       "    }\n",
       "</style>\n",
       "<table border=\"1\" class=\"dataframe\">\n",
       "  <thead>\n",
       "    <tr style=\"text-align: right;\">\n",
       "      <th></th>\n",
       "      <th>coef</th>\n",
       "      <th>exp(coef)</th>\n",
       "      <th>se(coef)</th>\n",
       "      <th>coef lower 95%</th>\n",
       "      <th>coef upper 95%</th>\n",
       "      <th>exp(coef) lower 95%</th>\n",
       "      <th>exp(coef) upper 95%</th>\n",
       "      <th>z</th>\n",
       "      <th>p</th>\n",
       "      <th>-log2(p)</th>\n",
       "      <th>se</th>\n",
       "    </tr>\n",
       "    <tr>\n",
       "      <th>HPC</th>\n",
       "      <th></th>\n",
       "      <th></th>\n",
       "      <th></th>\n",
       "      <th></th>\n",
       "      <th></th>\n",
       "      <th></th>\n",
       "      <th></th>\n",
       "      <th></th>\n",
       "      <th></th>\n",
       "      <th></th>\n",
       "      <th></th>\n",
       "    </tr>\n",
       "  </thead>\n",
       "  <tbody>\n",
       "    <tr>\n",
       "      <th>HPC 0</th>\n",
       "      <td>-4.844009e-02</td>\n",
       "      <td>0.952749</td>\n",
       "      <td>0.031415</td>\n",
       "      <td>-0.110150</td>\n",
       "      <td>0.013270</td>\n",
       "      <td>0.895883</td>\n",
       "      <td>1.013241</td>\n",
       "      <td>-1.536970</td>\n",
       "      <td>0.020767</td>\n",
       "      <td>3.036461</td>\n",
       "      <td>0.031485</td>\n",
       "    </tr>\n",
       "    <tr>\n",
       "      <th>HPC 11</th>\n",
       "      <td>-1.283005e-02</td>\n",
       "      <td>0.987327</td>\n",
       "      <td>0.017424</td>\n",
       "      <td>-0.056828</td>\n",
       "      <td>0.031168</td>\n",
       "      <td>0.954825</td>\n",
       "      <td>1.021724</td>\n",
       "      <td>-0.443929</td>\n",
       "      <td>0.901846</td>\n",
       "      <td>0.697720</td>\n",
       "      <td>0.022448</td>\n",
       "    </tr>\n",
       "    <tr>\n",
       "      <th>HPC 13</th>\n",
       "      <td>5.303606e-02</td>\n",
       "      <td>1.054499</td>\n",
       "      <td>0.034382</td>\n",
       "      <td>-0.014403</td>\n",
       "      <td>0.120475</td>\n",
       "      <td>0.985797</td>\n",
       "      <td>1.127998</td>\n",
       "      <td>1.550618</td>\n",
       "      <td>0.018144</td>\n",
       "      <td>3.095077</td>\n",
       "      <td>0.034409</td>\n",
       "    </tr>\n",
       "    <tr>\n",
       "      <th>HPC 16</th>\n",
       "      <td>-1.426224e-02</td>\n",
       "      <td>0.985934</td>\n",
       "      <td>0.035505</td>\n",
       "      <td>-0.092050</td>\n",
       "      <td>0.063525</td>\n",
       "      <td>0.920484</td>\n",
       "      <td>1.057328</td>\n",
       "      <td>-0.313945</td>\n",
       "      <td>0.977890</td>\n",
       "      <td>0.453253</td>\n",
       "      <td>0.039688</td>\n",
       "    </tr>\n",
       "    <tr>\n",
       "      <th>HPC 17</th>\n",
       "      <td>4.850562e-03</td>\n",
       "      <td>1.004875</td>\n",
       "      <td>0.017242</td>\n",
       "      <td>-0.038758</td>\n",
       "      <td>0.048459</td>\n",
       "      <td>0.971749</td>\n",
       "      <td>1.039918</td>\n",
       "      <td>0.170512</td>\n",
       "      <td>0.998723</td>\n",
       "      <td>0.225571</td>\n",
       "      <td>0.022250</td>\n",
       "    </tr>\n",
       "    <tr>\n",
       "      <th>HPC 21</th>\n",
       "      <td>1.202522e-02</td>\n",
       "      <td>1.012170</td>\n",
       "      <td>0.018818</td>\n",
       "      <td>-0.035565</td>\n",
       "      <td>0.059616</td>\n",
       "      <td>0.975668</td>\n",
       "      <td>1.050985</td>\n",
       "      <td>0.382028</td>\n",
       "      <td>0.945836</td>\n",
       "      <td>0.581871</td>\n",
       "      <td>0.024281</td>\n",
       "    </tr>\n",
       "    <tr>\n",
       "      <th>HPC 27</th>\n",
       "      <td>1.053409e-01</td>\n",
       "      <td>1.111162</td>\n",
       "      <td>0.041357</td>\n",
       "      <td>0.024177</td>\n",
       "      <td>0.186505</td>\n",
       "      <td>1.024681</td>\n",
       "      <td>1.204962</td>\n",
       "      <td>2.560712</td>\n",
       "      <td>0.000001</td>\n",
       "      <td>6.656536</td>\n",
       "      <td>0.041411</td>\n",
       "    </tr>\n",
       "    <tr>\n",
       "      <th>HPC 28</th>\n",
       "      <td>-1.878733e-08</td>\n",
       "      <td>1.000000</td>\n",
       "      <td>0.000054</td>\n",
       "      <td>-0.000107</td>\n",
       "      <td>0.000107</td>\n",
       "      <td>0.999895</td>\n",
       "      <td>1.000105</td>\n",
       "      <td>-0.000309</td>\n",
       "      <td>1.000000</td>\n",
       "      <td>0.000450</td>\n",
       "      <td>0.000054</td>\n",
       "    </tr>\n",
       "    <tr>\n",
       "      <th>HPC 30</th>\n",
       "      <td>4.132118e-02</td>\n",
       "      <td>1.042213</td>\n",
       "      <td>0.030016</td>\n",
       "      <td>-0.017564</td>\n",
       "      <td>0.100207</td>\n",
       "      <td>0.982680</td>\n",
       "      <td>1.105360</td>\n",
       "      <td>1.384061</td>\n",
       "      <td>0.050568</td>\n",
       "      <td>2.635884</td>\n",
       "      <td>0.030044</td>\n",
       "    </tr>\n",
       "    <tr>\n",
       "      <th>HPC 31</th>\n",
       "      <td>2.199615e-03</td>\n",
       "      <td>1.002205</td>\n",
       "      <td>0.016114</td>\n",
       "      <td>-0.047640</td>\n",
       "      <td>0.052040</td>\n",
       "      <td>0.971665</td>\n",
       "      <td>1.035244</td>\n",
       "      <td>0.054931</td>\n",
       "      <td>0.999995</td>\n",
       "      <td>0.066745</td>\n",
       "      <td>0.025429</td>\n",
       "    </tr>\n",
       "    <tr>\n",
       "      <th>HPC 33</th>\n",
       "      <td>2.009611e-02</td>\n",
       "      <td>1.020324</td>\n",
       "      <td>0.029513</td>\n",
       "      <td>-0.037761</td>\n",
       "      <td>0.077953</td>\n",
       "      <td>0.962975</td>\n",
       "      <td>1.081090</td>\n",
       "      <td>0.678508</td>\n",
       "      <td>0.708080</td>\n",
       "      <td>1.036262</td>\n",
       "      <td>0.029520</td>\n",
       "    </tr>\n",
       "    <tr>\n",
       "      <th>HPC 34</th>\n",
       "      <td>-4.842551e-03</td>\n",
       "      <td>0.995217</td>\n",
       "      <td>0.006311</td>\n",
       "      <td>-0.032287</td>\n",
       "      <td>0.022601</td>\n",
       "      <td>0.983502</td>\n",
       "      <td>1.007667</td>\n",
       "      <td>-0.155134</td>\n",
       "      <td>0.998393</td>\n",
       "      <td>0.237847</td>\n",
       "      <td>0.014002</td>\n",
       "    </tr>\n",
       "    <tr>\n",
       "      <th>HPC 40</th>\n",
       "      <td>1.415090e-02</td>\n",
       "      <td>1.014308</td>\n",
       "      <td>0.035889</td>\n",
       "      <td>-0.064412</td>\n",
       "      <td>0.092714</td>\n",
       "      <td>0.945755</td>\n",
       "      <td>1.089149</td>\n",
       "      <td>0.314033</td>\n",
       "      <td>0.980883</td>\n",
       "      <td>0.436097</td>\n",
       "      <td>0.040084</td>\n",
       "    </tr>\n",
       "    <tr>\n",
       "      <th>HPC 44</th>\n",
       "      <td>1.125315e-03</td>\n",
       "      <td>1.001128</td>\n",
       "      <td>0.008371</td>\n",
       "      <td>-0.035367</td>\n",
       "      <td>0.037618</td>\n",
       "      <td>0.985280</td>\n",
       "      <td>1.018316</td>\n",
       "      <td>0.027394</td>\n",
       "      <td>1.000000</td>\n",
       "      <td>0.033236</td>\n",
       "      <td>0.018619</td>\n",
       "    </tr>\n",
       "    <tr>\n",
       "      <th>HPC 47</th>\n",
       "      <td>1.329344e-02</td>\n",
       "      <td>1.013439</td>\n",
       "      <td>0.025159</td>\n",
       "      <td>-0.041839</td>\n",
       "      <td>0.068426</td>\n",
       "      <td>0.964817</td>\n",
       "      <td>1.065150</td>\n",
       "      <td>0.424826</td>\n",
       "      <td>0.926462</td>\n",
       "      <td>0.637554</td>\n",
       "      <td>0.028129</td>\n",
       "    </tr>\n",
       "    <tr>\n",
       "      <th>HPC 48</th>\n",
       "      <td>-2.248721e-02</td>\n",
       "      <td>0.977824</td>\n",
       "      <td>0.033857</td>\n",
       "      <td>-0.088931</td>\n",
       "      <td>0.043957</td>\n",
       "      <td>0.915025</td>\n",
       "      <td>1.044945</td>\n",
       "      <td>-0.677294</td>\n",
       "      <td>0.682723</td>\n",
       "      <td>1.074308</td>\n",
       "      <td>0.033901</td>\n",
       "    </tr>\n",
       "    <tr>\n",
       "      <th>HPC 5</th>\n",
       "      <td>1.387935e-02</td>\n",
       "      <td>1.014038</td>\n",
       "      <td>0.031480</td>\n",
       "      <td>-0.055101</td>\n",
       "      <td>0.082860</td>\n",
       "      <td>0.953610</td>\n",
       "      <td>1.079310</td>\n",
       "      <td>0.351205</td>\n",
       "      <td>0.967097</td>\n",
       "      <td>0.504950</td>\n",
       "      <td>0.035195</td>\n",
       "    </tr>\n",
       "    <tr>\n",
       "      <th>HPC 50</th>\n",
       "      <td>-1.015888e-08</td>\n",
       "      <td>1.000000</td>\n",
       "      <td>0.000079</td>\n",
       "      <td>-0.000158</td>\n",
       "      <td>0.000158</td>\n",
       "      <td>0.999845</td>\n",
       "      <td>1.000155</td>\n",
       "      <td>-0.000083</td>\n",
       "      <td>1.000000</td>\n",
       "      <td>0.000368</td>\n",
       "      <td>0.000081</td>\n",
       "    </tr>\n",
       "    <tr>\n",
       "      <th>HPC 61</th>\n",
       "      <td>-3.928862e-08</td>\n",
       "      <td>1.000000</td>\n",
       "      <td>0.000072</td>\n",
       "      <td>-0.000142</td>\n",
       "      <td>0.000142</td>\n",
       "      <td>0.999859</td>\n",
       "      <td>1.000141</td>\n",
       "      <td>-0.000534</td>\n",
       "      <td>1.000000</td>\n",
       "      <td>0.000615</td>\n",
       "      <td>0.000073</td>\n",
       "    </tr>\n",
       "    <tr>\n",
       "      <th>HPC 64</th>\n",
       "      <td>3.425292e-02</td>\n",
       "      <td>1.034938</td>\n",
       "      <td>0.045976</td>\n",
       "      <td>-0.055918</td>\n",
       "      <td>0.124424</td>\n",
       "      <td>0.945784</td>\n",
       "      <td>1.132508</td>\n",
       "      <td>0.751644</td>\n",
       "      <td>0.600716</td>\n",
       "      <td>1.195723</td>\n",
       "      <td>0.046006</td>\n",
       "    </tr>\n",
       "    <tr>\n",
       "      <th>HPC 67</th>\n",
       "      <td>-7.170026e-04</td>\n",
       "      <td>0.999284</td>\n",
       "      <td>0.006895</td>\n",
       "      <td>-0.030710</td>\n",
       "      <td>0.029276</td>\n",
       "      <td>0.986256</td>\n",
       "      <td>1.013209</td>\n",
       "      <td>-0.021418</td>\n",
       "      <td>1.000000</td>\n",
       "      <td>0.025675</td>\n",
       "      <td>0.015303</td>\n",
       "    </tr>\n",
       "    <tr>\n",
       "      <th>HPC 68</th>\n",
       "      <td>1.370994e-08</td>\n",
       "      <td>1.000000</td>\n",
       "      <td>0.000051</td>\n",
       "      <td>-0.000105</td>\n",
       "      <td>0.000105</td>\n",
       "      <td>0.999899</td>\n",
       "      <td>1.000101</td>\n",
       "      <td>0.000169</td>\n",
       "      <td>1.000000</td>\n",
       "      <td>0.000390</td>\n",
       "      <td>0.000054</td>\n",
       "    </tr>\n",
       "    <tr>\n",
       "      <th>HPC 69</th>\n",
       "      <td>-2.943190e-02</td>\n",
       "      <td>0.971035</td>\n",
       "      <td>0.060150</td>\n",
       "      <td>-0.147430</td>\n",
       "      <td>0.088566</td>\n",
       "      <td>0.863060</td>\n",
       "      <td>1.092546</td>\n",
       "      <td>-0.490292</td>\n",
       "      <td>0.903346</td>\n",
       "      <td>0.694296</td>\n",
       "      <td>0.060204</td>\n",
       "    </tr>\n",
       "  </tbody>\n",
       "</table>\n",
       "</div>"
      ],
      "text/plain": [
       "                coef  exp(coef)  se(coef)  coef lower 95%  coef upper 95%  \\\n",
       "HPC                                                                         \n",
       "HPC 0  -4.844009e-02   0.952749  0.031415       -0.110150        0.013270   \n",
       "HPC 11 -1.283005e-02   0.987327  0.017424       -0.056828        0.031168   \n",
       "HPC 13  5.303606e-02   1.054499  0.034382       -0.014403        0.120475   \n",
       "HPC 16 -1.426224e-02   0.985934  0.035505       -0.092050        0.063525   \n",
       "HPC 17  4.850562e-03   1.004875  0.017242       -0.038758        0.048459   \n",
       "HPC 21  1.202522e-02   1.012170  0.018818       -0.035565        0.059616   \n",
       "HPC 27  1.053409e-01   1.111162  0.041357        0.024177        0.186505   \n",
       "HPC 28 -1.878733e-08   1.000000  0.000054       -0.000107        0.000107   \n",
       "HPC 30  4.132118e-02   1.042213  0.030016       -0.017564        0.100207   \n",
       "HPC 31  2.199615e-03   1.002205  0.016114       -0.047640        0.052040   \n",
       "HPC 33  2.009611e-02   1.020324  0.029513       -0.037761        0.077953   \n",
       "HPC 34 -4.842551e-03   0.995217  0.006311       -0.032287        0.022601   \n",
       "HPC 40  1.415090e-02   1.014308  0.035889       -0.064412        0.092714   \n",
       "HPC 44  1.125315e-03   1.001128  0.008371       -0.035367        0.037618   \n",
       "HPC 47  1.329344e-02   1.013439  0.025159       -0.041839        0.068426   \n",
       "HPC 48 -2.248721e-02   0.977824  0.033857       -0.088931        0.043957   \n",
       "HPC 5   1.387935e-02   1.014038  0.031480       -0.055101        0.082860   \n",
       "HPC 50 -1.015888e-08   1.000000  0.000079       -0.000158        0.000158   \n",
       "HPC 61 -3.928862e-08   1.000000  0.000072       -0.000142        0.000142   \n",
       "HPC 64  3.425292e-02   1.034938  0.045976       -0.055918        0.124424   \n",
       "HPC 67 -7.170026e-04   0.999284  0.006895       -0.030710        0.029276   \n",
       "HPC 68  1.370994e-08   1.000000  0.000051       -0.000105        0.000105   \n",
       "HPC 69 -2.943190e-02   0.971035  0.060150       -0.147430        0.088566   \n",
       "\n",
       "        exp(coef) lower 95%  exp(coef) upper 95%         z         p  \\\n",
       "HPC                                                                    \n",
       "HPC 0              0.895883             1.013241 -1.536970  0.020767   \n",
       "HPC 11             0.954825             1.021724 -0.443929  0.901846   \n",
       "HPC 13             0.985797             1.127998  1.550618  0.018144   \n",
       "HPC 16             0.920484             1.057328 -0.313945  0.977890   \n",
       "HPC 17             0.971749             1.039918  0.170512  0.998723   \n",
       "HPC 21             0.975668             1.050985  0.382028  0.945836   \n",
       "HPC 27             1.024681             1.204962  2.560712  0.000001   \n",
       "HPC 28             0.999895             1.000105 -0.000309  1.000000   \n",
       "HPC 30             0.982680             1.105360  1.384061  0.050568   \n",
       "HPC 31             0.971665             1.035244  0.054931  0.999995   \n",
       "HPC 33             0.962975             1.081090  0.678508  0.708080   \n",
       "HPC 34             0.983502             1.007667 -0.155134  0.998393   \n",
       "HPC 40             0.945755             1.089149  0.314033  0.980883   \n",
       "HPC 44             0.985280             1.018316  0.027394  1.000000   \n",
       "HPC 47             0.964817             1.065150  0.424826  0.926462   \n",
       "HPC 48             0.915025             1.044945 -0.677294  0.682723   \n",
       "HPC 5              0.953610             1.079310  0.351205  0.967097   \n",
       "HPC 50             0.999845             1.000155 -0.000083  1.000000   \n",
       "HPC 61             0.999859             1.000141 -0.000534  1.000000   \n",
       "HPC 64             0.945784             1.132508  0.751644  0.600716   \n",
       "HPC 67             0.986256             1.013209 -0.021418  1.000000   \n",
       "HPC 68             0.999899             1.000101  0.000169  1.000000   \n",
       "HPC 69             0.863060             1.092546 -0.490292  0.903346   \n",
       "\n",
       "        -log2(p)        se  \n",
       "HPC                         \n",
       "HPC 0   3.036461  0.031485  \n",
       "HPC 11  0.697720  0.022448  \n",
       "HPC 13  3.095077  0.034409  \n",
       "HPC 16  0.453253  0.039688  \n",
       "HPC 17  0.225571  0.022250  \n",
       "HPC 21  0.581871  0.024281  \n",
       "HPC 27  6.656536  0.041411  \n",
       "HPC 28  0.000450  0.000054  \n",
       "HPC 30  2.635884  0.030044  \n",
       "HPC 31  0.066745  0.025429  \n",
       "HPC 33  1.036262  0.029520  \n",
       "HPC 34  0.237847  0.014002  \n",
       "HPC 40  0.436097  0.040084  \n",
       "HPC 44  0.033236  0.018619  \n",
       "HPC 47  0.637554  0.028129  \n",
       "HPC 48  1.074308  0.033901  \n",
       "HPC 5   0.504950  0.035195  \n",
       "HPC 50  0.000368  0.000081  \n",
       "HPC 61  0.000615  0.000073  \n",
       "HPC 64  1.195723  0.046006  \n",
       "HPC 67  0.025675  0.015303  \n",
       "HPC 68  0.000390  0.000054  \n",
       "HPC 69  0.694296  0.060204  "
      ]
     },
     "execution_count": 104,
     "metadata": {},
     "output_type": "execute_result"
    }
   ],
   "source": [
    "average_HRs = load_hazard_ratios(which='all')\n",
    "average_HRs = average_HRs[average_HRs['covariate'].isin(noise_df['HPC'])]\n",
    "average_HRs = average_HRs.rename(columns={'covariate':'HPC'}).set_index('HPC')\n",
    "average_HRs = average_HRs.sort_index()\n",
    "average_HRs"
   ]
  },
  {
   "cell_type": "code",
   "execution_count": 105,
   "metadata": {},
   "outputs": [],
   "source": [
    "from matplotlib.cm import ScalarMappable\n",
    "from matplotlib.colors import Normalize, TwoSlopeNorm\n",
    "\n",
    "vmin, vmax = average_HRs['exp(coef)'].min(), average_HRs['exp(coef)'].max()\n",
    "\n",
    "norm = TwoSlopeNorm(vmin=0.95, vmax=1.05, vcenter=1)\n",
    "cmap = plt.cm.coolwarm\n",
    "sm = ScalarMappable(norm=norm, cmap=cmap)\n",
    "\n",
    "row_colors = pd.DataFrame(sm.to_rgba(average_HRs['exp(coef)']), index=average_HRs.index, columns=['R', 'G', 'B', 'A'])\n",
    "row_colors = row_colors.apply(lambda x: tuple(x), axis=1)\n",
    "row_colors.name = 'Hazard \\nRatio'"
   ]
  },
  {
   "cell_type": "code",
   "execution_count": 106,
   "metadata": {},
   "outputs": [
    {
     "data": {
      "application/vnd.microsoft.datawrangler.viewer.v0+json": {
       "columns": [
        {
         "name": "index",
         "rawType": "int64",
         "type": "integer"
        },
        {
         "name": "core",
         "rawType": "object",
         "type": "string"
        },
        {
         "name": "HPC",
         "rawType": "object",
         "type": "string"
        },
        {
         "name": "noise",
         "rawType": "float64",
         "type": "float"
        },
        {
         "name": "robust_z_score",
         "rawType": "float64",
         "type": "float"
        }
       ],
       "conversionMethod": "pd.DataFrame",
       "ref": "f2f92e63-4c5b-495f-b11c-a9e5c64be32b",
       "rows": [
        [
         "651",
         "04-13-J",
         "HPC 0",
         "0.06187624750499002",
         "0.22460139730306095"
        ],
        [
         "156",
         "05-12-I",
         "HPC 0",
         "0.03024662633783155",
         "-0.40206895159083955"
        ],
        [
         "487",
         "06-03-A",
         "HPC 0",
         "0.027875932469572047",
         "-0.44903895941013583"
        ],
        [
         "149",
         "05-05-D",
         "HPC 0",
         "0.1111111111111111",
         "1.2000803317718598"
        ],
        [
         "658",
         "04-12-D",
         "HPC 0",
         "0.1286549707602339",
         "1.5476727543670719"
        ],
        [
         "687",
         "19-15-G",
         "HPC 0",
         "0.04239212717638153",
         "-0.16143296016492478"
        ],
        [
         "716",
         "07-09-J",
         "HPC 0",
         "0.007035419699175158",
         "-0.8619472057634924"
        ],
        [
         "699",
         "07-03-I",
         "HPC 0",
         "0.023060227889310905",
         "-0.5444513974388181"
        ],
        [
         "166",
         "05-13-I",
         "HPC 0",
         "0.024062278839348902",
         "-0.5245979943534282"
        ],
        [
         "290",
         "01-18-L",
         "HPC 0",
         "0.07716535433070866",
         "0.5275209251125675"
        ],
        [
         "163",
         "05-09-B",
         "HPC 0",
         "0.02883096366508689",
         "-0.4301171478166645"
        ],
        [
         "666",
         "04-05-I",
         "HPC 0",
         "0.040515653775322284",
         "-0.1986110924832754"
        ],
        [
         "433",
         "10-02-H",
         "HPC 0",
         "0.03667192429022082",
         "-0.2747660133643181"
        ],
        [
         "488",
         "06-13-A",
         "HPC 0",
         "0.012318029115341545",
         "-0.7572840905018878"
        ],
        [
         "478",
         "06-14-A",
         "HPC 0",
         "0.004730713245997089",
         "-0.9076098202310584"
        ],
        [
         "139",
         "05-09-C",
         "HPC 0",
         "0.047588424437299034",
         "-0.0584799276184355"
        ],
        [
         "637",
         "04-11-I",
         "HPC 0",
         "0.011996572407883462",
         "-0.7636530376970634"
        ],
        [
         "194",
         "17-02-B",
         "HPC 0",
         "0.01208617971623752",
         "-0.7618776688776612"
        ],
        [
         "187",
         "17-13-C",
         "HPC 0",
         "0.15403422982885084",
         "2.0505061285369997"
        ],
        [
         "571",
         "03-09-B",
         "HPC 0",
         "0.030441400304414",
         "-0.39820994016137573"
        ],
        [
         "669",
         "04-16-G",
         "HPC 0",
         "0.03399765533411489",
         "-0.3277506839963878"
        ],
        [
         "634",
         "04-09-H",
         "HPC 0",
         "0.008998200359928014",
         "-0.8230590877245276"
        ],
        [
         "59",
         "13-13-I",
         "HPC 0",
         "0.004420526619258121",
         "-0.913755475930614"
        ],
        [
         "578",
         "03-11-E",
         "HPC 0",
         "0.006071118820468344",
         "-0.8810526754402946"
        ],
        [
         "356",
         "14-13-B",
         "HPC 0",
         "0.08054342552159147",
         "0.5944498662020362"
        ],
        [
         "240",
         "11-07-A",
         "HPC 0",
         "0.03512575888985256",
         "-0.3053998298673914"
        ],
        [
         "552",
         "09-13-J",
         "HPC 0",
         "0.026470588235294117",
         "-0.4768827188075899"
        ],
        [
         "555",
         "03-11-C",
         "HPC 0",
         "0.06267645398080181",
         "0.2404557026307774"
        ],
        [
         "14",
         "22-13-C",
         "HPC 11",
         "0.016676773802304427",
         "-0.6709252928646079"
        ],
        [
         "569",
         "03-05-A",
         "HPC 11",
         "0.032081662413415965",
         "-0.3657118073923057"
        ],
        [
         "68",
         "13-14-J",
         "HPC 11",
         "0.13899138991389914",
         "1.7524658299182487"
        ],
        [
         "512",
         "15-15-G",
         "HPC 11",
         "0.006208609271523178",
         "-0.8783286090192408"
        ],
        [
         "371",
         "14-07-B",
         "HPC 11",
         "0.006746987951807229",
         "-0.8676618370832887"
        ],
        [
         "12",
         "22-02-I",
         "HPC 11",
         "0.15407703851925963",
         "2.0513542871922166"
        ],
        [
         "454",
         "08-10-F",
         "HPC 11",
         "0.01605929586164299",
         "-0.6831592401023436"
        ],
        [
         "457",
         "08-13-G",
         "HPC 11",
         "0.05851800554016621",
         "0.1580653280708622"
        ],
        [
         "345",
         "21-02-D",
         "HPC 11",
         "0.027417027417027416",
         "-0.4581311387905806"
        ],
        [
         "23",
         "20-10-G",
         "HPC 11",
         "0.006493506493506494",
         "-0.8726840064311906"
        ],
        [
         "543",
         "09-13-A",
         "HPC 11",
         "0.021691013722886232",
         "-0.5715793201808945"
        ],
        [
         "319",
         "02-16-F",
         "HPC 11",
         "0.03563852354688163",
         "-0.29524054263398897"
        ],
        [
         "459",
         "08-02-D",
         "HPC 11",
         "0.03062381852551985",
         "-0.3945957302515934"
        ],
        [
         "723",
         "07-10-I",
         "HPC 11",
         "0.024875621890547265",
         "-0.508483417104108"
        ],
        [
         "570",
         "03-03-F",
         "HPC 11",
         "0.027205882352941177",
         "-0.4623145069782318"
        ],
        [
         "63",
         "13-07-A",
         "HPC 11",
         "0.18097826086956523",
         "2.5843419669005825"
        ],
        [
         "443",
         "08-13-A",
         "HPC 11",
         "0.04179471419791026",
         "-0.1732693649600938"
        ],
        [
         "7",
         "22-02-F",
         "HPC 11",
         "0.03958333333333333",
         "-0.2170829411840362"
        ],
        [
         "416",
         "10-04-B",
         "HPC 11",
         "0.03099361896080219",
         "-0.3872689599885299"
        ],
        [
         "44",
         "20-13-G",
         "HPC 11",
         "0.09865196078431372",
         "0.9532300757744021"
        ],
        [
         "407",
         "10-15-J",
         "HPC 11",
         "0.006789250353606789",
         "-0.8668245019175952"
        ],
        [
         "330",
         "02-02-D",
         "HPC 11",
         "0.034210526315789476",
         "-0.32353312060381983"
        ]
       ],
       "shape": {
        "columns": 4,
        "rows": 482
       }
      },
      "text/html": [
       "<div>\n",
       "<style scoped>\n",
       "    .dataframe tbody tr th:only-of-type {\n",
       "        vertical-align: middle;\n",
       "    }\n",
       "\n",
       "    .dataframe tbody tr th {\n",
       "        vertical-align: top;\n",
       "    }\n",
       "\n",
       "    .dataframe thead th {\n",
       "        text-align: right;\n",
       "    }\n",
       "</style>\n",
       "<table border=\"1\" class=\"dataframe\">\n",
       "  <thead>\n",
       "    <tr style=\"text-align: right;\">\n",
       "      <th></th>\n",
       "      <th>core</th>\n",
       "      <th>HPC</th>\n",
       "      <th>noise</th>\n",
       "      <th>robust_z_score</th>\n",
       "    </tr>\n",
       "  </thead>\n",
       "  <tbody>\n",
       "    <tr>\n",
       "      <th>651</th>\n",
       "      <td>04-13-J</td>\n",
       "      <td>HPC 0</td>\n",
       "      <td>0.061876</td>\n",
       "      <td>0.224601</td>\n",
       "    </tr>\n",
       "    <tr>\n",
       "      <th>156</th>\n",
       "      <td>05-12-I</td>\n",
       "      <td>HPC 0</td>\n",
       "      <td>0.030247</td>\n",
       "      <td>-0.402069</td>\n",
       "    </tr>\n",
       "    <tr>\n",
       "      <th>487</th>\n",
       "      <td>06-03-A</td>\n",
       "      <td>HPC 0</td>\n",
       "      <td>0.027876</td>\n",
       "      <td>-0.449039</td>\n",
       "    </tr>\n",
       "    <tr>\n",
       "      <th>149</th>\n",
       "      <td>05-05-D</td>\n",
       "      <td>HPC 0</td>\n",
       "      <td>0.111111</td>\n",
       "      <td>1.200080</td>\n",
       "    </tr>\n",
       "    <tr>\n",
       "      <th>658</th>\n",
       "      <td>04-12-D</td>\n",
       "      <td>HPC 0</td>\n",
       "      <td>0.128655</td>\n",
       "      <td>1.547673</td>\n",
       "    </tr>\n",
       "    <tr>\n",
       "      <th>...</th>\n",
       "      <td>...</td>\n",
       "      <td>...</td>\n",
       "      <td>...</td>\n",
       "      <td>...</td>\n",
       "    </tr>\n",
       "    <tr>\n",
       "      <th>442</th>\n",
       "      <td>08-07-C</td>\n",
       "      <td>HPC 69</td>\n",
       "      <td>0.051571</td>\n",
       "      <td>0.020432</td>\n",
       "    </tr>\n",
       "    <tr>\n",
       "      <th>421</th>\n",
       "      <td>10-04-E</td>\n",
       "      <td>HPC 69</td>\n",
       "      <td>0.075862</td>\n",
       "      <td>0.501699</td>\n",
       "    </tr>\n",
       "    <tr>\n",
       "      <th>674</th>\n",
       "      <td>19-04-D</td>\n",
       "      <td>HPC 69</td>\n",
       "      <td>0.029880</td>\n",
       "      <td>-0.409339</td>\n",
       "    </tr>\n",
       "    <tr>\n",
       "      <th>485</th>\n",
       "      <td>06-02-F</td>\n",
       "      <td>HPC 69</td>\n",
       "      <td>0.057578</td>\n",
       "      <td>0.139448</td>\n",
       "    </tr>\n",
       "    <tr>\n",
       "      <th>373</th>\n",
       "      <td>14-05-F</td>\n",
       "      <td>HPC 69</td>\n",
       "      <td>0.095890</td>\n",
       "      <td>0.898516</td>\n",
       "    </tr>\n",
       "  </tbody>\n",
       "</table>\n",
       "<p>482 rows × 4 columns</p>\n",
       "</div>"
      ],
      "text/plain": [
       "        core     HPC     noise  robust_z_score\n",
       "651  04-13-J   HPC 0  0.061876        0.224601\n",
       "156  05-12-I   HPC 0  0.030247       -0.402069\n",
       "487  06-03-A   HPC 0  0.027876       -0.449039\n",
       "149  05-05-D   HPC 0  0.111111        1.200080\n",
       "658  04-12-D   HPC 0  0.128655        1.547673\n",
       "..       ...     ...       ...             ...\n",
       "442  08-07-C  HPC 69  0.051571        0.020432\n",
       "421  10-04-E  HPC 69  0.075862        0.501699\n",
       "674  19-04-D  HPC 69  0.029880       -0.409339\n",
       "485  06-02-F  HPC 69  0.057578        0.139448\n",
       "373  14-05-F  HPC 69  0.095890        0.898516\n",
       "\n",
       "[482 rows x 4 columns]"
      ]
     },
     "execution_count": 106,
     "metadata": {},
     "output_type": "execute_result"
    }
   ],
   "source": [
    "noise_df['hpc_num'] = noise_df['HPC'].apply(lambda x: int(x.split(\" \")[1]))\n",
    "noise_df = noise_df[noise_df['hpc_num'].isin(list(malignant_clusters)+[10,16])]\n",
    "noise_df = noise_df.drop(labels=['hpc_num'], axis=1)\n",
    "noise_df = noise_df.sort_values('HPC')\n",
    "noise_df"
   ]
  },
  {
   "cell_type": "code",
   "execution_count": 107,
   "metadata": {},
   "outputs": [
    {
     "name": "stderr",
     "output_type": "stream",
     "text": [
      "/tmp/ipykernel_391971/2198705201.py:4: FutureWarning: \n",
      "\n",
      "Passing `palette` without assigning `hue` is deprecated and will be removed in v0.14.0. Assign the `x` variable to `hue` and set `legend=False` for the same effect.\n",
      "\n",
      "  sns.barplot(data=noise_df, x='HPC', y='noise', order=order, ax=ax, palette=dict(row_colors), estimator='median', errorbar='ci')\n"
     ]
    },
    {
     "name": "stderr",
     "output_type": "stream",
     "text": [
      "/tmp/ipykernel_391971/2198705201.py:5: UserWarning: set_ticklabels() should only be used with a fixed number of ticks, i.e. after set_ticks() or using a FixedLocator.\n",
      "  ax.set_xticklabels(ax.get_xticklabels(), rotation=90)\n"
     ]
    },
    {
     "data": {
      "image/png": "[encoded data removed]",
      "text/plain": [
       "<Figure size 1008x504 with 2 Axes>"
      ]
     },
     "metadata": {
      "needs_background": "light"
     },
     "output_type": "display_data"
    }
   ],
   "source": [
    "sns.set_context(\"paper\", font_scale=2.0)\n",
    "fig, ax = plt.subplots(figsize=(14,7))\n",
    "\n",
    "sns.barplot(data=noise_df, x='HPC', y='noise', order=order, ax=ax, palette=dict(row_colors), estimator='median', errorbar='ci')\n",
    "ax.set_xticklabels(ax.get_xticklabels(), rotation=90)\n",
    "ax.set_ylabel('Prop. as single cells and buds (<5 cells)\\n of all tumour cells')\n",
    "cbar = fig.colorbar(sm, orientation='vertical', ax=ax, aspect=20)\n",
    "cbar.set_label('Mean Hazard Ratio')\n",
    "# plt.savefig('/nfs/home/users/krakovic/sharedscratch/notebooks/latticea_he/final_figures/bioclavis/barplot_prop_cohesion_color_all_hazard_ratio.tiff', dpi=300, bbox_inches='tight', pad_inches=0.1)"
   ]
  },
  {
   "cell_type": "code",
   "execution_count": 108,
   "metadata": {},
   "outputs": [
    {
     "name": "stderr",
     "output_type": "stream",
     "text": [
      "/tmp/ipykernel_391971/954915173.py:5: UserWarning: set_ticklabels() should only be used with a fixed number of ticks, i.e. after set_ticks() or using a FixedLocator.\n",
      "  ax.set_xticklabels(ax.get_xticklabels(), rotation=90)\n"
     ]
    },
    {
     "data": {
      "text/plain": [
       "Text(0, 0.5, 'Prop. as single cells and buds (<5 cells)\\n of all tumour cells')"
      ]
     },
     "execution_count": 108,
     "metadata": {},
     "output_type": "execute_result"
    },
    {
     "data": {
      "image/png": "[encoded data removed]",
      "text/plain": [
       "<Figure size 1008x504 with 1 Axes>"
      ]
     },
     "metadata": {
      "needs_background": "light"
     },
     "output_type": "display_data"
    }
   ],
   "source": [
    "sns.set_context(\"paper\", font_scale=2.0)\n",
    "fig, ax = plt.subplots(figsize=(14,7))\n",
    "\n",
    "sns.barplot(data=noise_df, x='HPC', y='noise', order=order, ax=ax, estimator='median', errorbar='ci')\n",
    "ax.set_xticklabels(ax.get_xticklabels(), rotation=90)\n",
    "ax.set_ylabel('Prop. as single cells and buds (<5 cells)\\n of all tumour cells')\n",
    "# plt.savefig('/nfs/home/users/krakovic/sharedscratch/notebooks/latticea_he/final_figures/bioclavis/barplot_prop_cohesion_color_None.tiff', dpi=300, bbox_inches='tight', pad_inches=0.1)"
   ]
  },
  {
   "cell_type": "code",
   "execution_count": 109,
   "metadata": {},
   "outputs": [
    {
     "name": "stderr",
     "output_type": "stream",
     "text": [
      "/tmp/ipykernel_391971/2050523863.py:1: FutureWarning: The default value of numeric_only in DataFrameGroupBy.median is deprecated. In a future version, numeric_only will default to False. Either specify numeric_only or select only columns which should be valid for the function.\n",
      "  noise_df.groupby('HPC').agg('median')['noise'].to_frame()\n"
     ]
    },
    {
     "data": {
      "application/vnd.microsoft.datawrangler.viewer.v0+json": {
       "columns": [
        {
         "name": "HPC",
         "rawType": "object",
         "type": "string"
        },
        {
         "name": "noise",
         "rawType": "float64",
         "type": "float"
        }
       ],
       "conversionMethod": "pd.DataFrame",
       "ref": "3185e58e-be06-4f21-a719-5670a52ed299",
       "rows": [
        [
         "HPC 0",
         "0.030344013321122777"
        ],
        [
         "HPC 11",
         "0.02581633395633321"
        ],
        [
         "HPC 13",
         "0.08896151053013798"
        ],
        [
         "HPC 16",
         "0.21534809255406778"
        ],
        [
         "HPC 17",
         "0.008196168033667817"
        ],
        [
         "HPC 21",
         "0.024875621890547265"
        ],
        [
         "HPC 27",
         "0.15420942912123153"
        ],
        [
         "HPC 28",
         "0.08558040357811525"
        ],
        [
         "HPC 30",
         "0.08096701394435618"
        ],
        [
         "HPC 31",
         "0.06887910265113922"
        ],
        [
         "HPC 33",
         "0.023778952533425022"
        ],
        [
         "HPC 34",
         "0.022524014574362372"
        ],
        [
         "HPC 40",
         "0.15828524319868095"
        ],
        [
         "HPC 44",
         "0.04626863354037267"
        ],
        [
         "HPC 47",
         "0.032451499118165784"
        ],
        [
         "HPC 48",
         "0.08717105263157894"
        ],
        [
         "HPC 5",
         "0.11982763402390659"
        ],
        [
         "HPC 50",
         "0.03405161866323471"
        ],
        [
         "HPC 61",
         "0.16732756336659896"
        ],
        [
         "HPC 64",
         "0.0978963767019255"
        ],
        [
         "HPC 67",
         "0.03841117415975556"
        ],
        [
         "HPC 68",
         "0.04432717678100264"
        ],
        [
         "HPC 69",
         "0.07292398892146223"
        ]
       ],
       "shape": {
        "columns": 1,
        "rows": 23
       }
      },
      "text/html": [
       "<div>\n",
       "<style scoped>\n",
       "    .dataframe tbody tr th:only-of-type {\n",
       "        vertical-align: middle;\n",
       "    }\n",
       "\n",
       "    .dataframe tbody tr th {\n",
       "        vertical-align: top;\n",
       "    }\n",
       "\n",
       "    .dataframe thead th {\n",
       "        text-align: right;\n",
       "    }\n",
       "</style>\n",
       "<table border=\"1\" class=\"dataframe\">\n",
       "  <thead>\n",
       "    <tr style=\"text-align: right;\">\n",
       "      <th></th>\n",
       "      <th>noise</th>\n",
       "    </tr>\n",
       "    <tr>\n",
       "      <th>HPC</th>\n",
       "      <th></th>\n",
       "    </tr>\n",
       "  </thead>\n",
       "  <tbody>\n",
       "    <tr>\n",
       "      <th>HPC 0</th>\n",
       "      <td>0.030344</td>\n",
       "    </tr>\n",
       "    <tr>\n",
       "      <th>HPC 11</th>\n",
       "      <td>0.025816</td>\n",
       "    </tr>\n",
       "    <tr>\n",
       "      <th>HPC 13</th>\n",
       "      <td>0.088962</td>\n",
       "    </tr>\n",
       "    <tr>\n",
       "      <th>HPC 16</th>\n",
       "      <td>0.215348</td>\n",
       "    </tr>\n",
       "    <tr>\n",
       "      <th>HPC 17</th>\n",
       "      <td>0.008196</td>\n",
       "    </tr>\n",
       "    <tr>\n",
       "      <th>HPC 21</th>\n",
       "      <td>0.024876</td>\n",
       "    </tr>\n",
       "    <tr>\n",
       "      <th>HPC 27</th>\n",
       "      <td>0.154209</td>\n",
       "    </tr>\n",
       "    <tr>\n",
       "      <th>HPC 28</th>\n",
       "      <td>0.085580</td>\n",
       "    </tr>\n",
       "    <tr>\n",
       "      <th>HPC 30</th>\n",
       "      <td>0.080967</td>\n",
       "    </tr>\n",
       "    <tr>\n",
       "      <th>HPC 31</th>\n",
       "      <td>0.068879</td>\n",
       "    </tr>\n",
       "    <tr>\n",
       "      <th>HPC 33</th>\n",
       "      <td>0.023779</td>\n",
       "    </tr>\n",
       "    <tr>\n",
       "      <th>HPC 34</th>\n",
       "      <td>0.022524</td>\n",
       "    </tr>\n",
       "    <tr>\n",
       "      <th>HPC 40</th>\n",
       "      <td>0.158285</td>\n",
       "    </tr>\n",
       "    <tr>\n",
       "      <th>HPC 44</th>\n",
       "      <td>0.046269</td>\n",
       "    </tr>\n",
       "    <tr>\n",
       "      <th>HPC 47</th>\n",
       "      <td>0.032451</td>\n",
       "    </tr>\n",
       "    <tr>\n",
       "      <th>HPC 48</th>\n",
       "      <td>0.087171</td>\n",
       "    </tr>\n",
       "    <tr>\n",
       "      <th>HPC 5</th>\n",
       "      <td>0.119828</td>\n",
       "    </tr>\n",
       "    <tr>\n",
       "      <th>HPC 50</th>\n",
       "      <td>0.034052</td>\n",
       "    </tr>\n",
       "    <tr>\n",
       "      <th>HPC 61</th>\n",
       "      <td>0.167328</td>\n",
       "    </tr>\n",
       "    <tr>\n",
       "      <th>HPC 64</th>\n",
       "      <td>0.097896</td>\n",
       "    </tr>\n",
       "    <tr>\n",
       "      <th>HPC 67</th>\n",
       "      <td>0.038411</td>\n",
       "    </tr>\n",
       "    <tr>\n",
       "      <th>HPC 68</th>\n",
       "      <td>0.044327</td>\n",
       "    </tr>\n",
       "    <tr>\n",
       "      <th>HPC 69</th>\n",
       "      <td>0.072924</td>\n",
       "    </tr>\n",
       "  </tbody>\n",
       "</table>\n",
       "</div>"
      ],
      "text/plain": [
       "           noise\n",
       "HPC             \n",
       "HPC 0   0.030344\n",
       "HPC 11  0.025816\n",
       "HPC 13  0.088962\n",
       "HPC 16  0.215348\n",
       "HPC 17  0.008196\n",
       "HPC 21  0.024876\n",
       "HPC 27  0.154209\n",
       "HPC 28  0.085580\n",
       "HPC 30  0.080967\n",
       "HPC 31  0.068879\n",
       "HPC 33  0.023779\n",
       "HPC 34  0.022524\n",
       "HPC 40  0.158285\n",
       "HPC 44  0.046269\n",
       "HPC 47  0.032451\n",
       "HPC 48  0.087171\n",
       "HPC 5   0.119828\n",
       "HPC 50  0.034052\n",
       "HPC 61  0.167328\n",
       "HPC 64  0.097896\n",
       "HPC 67  0.038411\n",
       "HPC 68  0.044327\n",
       "HPC 69  0.072924"
      ]
     },
     "execution_count": 109,
     "metadata": {},
     "output_type": "execute_result"
    }
   ],
   "source": [
    "noise_df.groupby('HPC').agg('median')['noise'].to_frame()"
   ]
  },
  {
   "cell_type": "code",
   "execution_count": 110,
   "metadata": {},
   "outputs": [
    {
     "name": "stderr",
     "output_type": "stream",
     "text": [
      "/tmp/ipykernel_391971/3026363928.py:15: FutureWarning: The default value of numeric_only in DataFrameGroupBy.mean is deprecated. In a future version, numeric_only will default to False. Either specify numeric_only or select only columns which should be valid for the function.\n",
      "  z_mean_noise = noise_df.groupby('HPC').agg('mean').reset_index().sort_values(by='robust_z_score', ascending=False)\n"
     ]
    }
   ],
   "source": [
    "from scipy.stats import median_abs_deviation\n",
    "\n",
    "noise_mean = noise_df['noise'].mean()\n",
    "noise_med = noise_df['noise'].median()\n",
    "noise_std = noise_df['noise'].std()\n",
    "noise_mad = median_abs_deviation(noise_df['noise'], scale='normal')\n",
    "\n",
    "def z_score(x, x_mean, x_std):\n",
    "    return (x - x_mean) / x_std\n",
    "\n",
    "def robust_z_score(x, x_median, x_mad):\n",
    "    return (x - x_median) / x_mad\n",
    "\n",
    "noise_df['robust_z_score'] = noise_df['noise'].apply(lambda x: robust_z_score(x, noise_med, noise_mad))\n",
    "z_mean_noise = noise_df.groupby('HPC').agg('mean').reset_index().sort_values(by='robust_z_score', ascending=False)\n",
    "z_noise_order = list(z_mean_noise['HPC'])"
   ]
  },
  {
   "cell_type": "code",
   "execution_count": 111,
   "metadata": {},
   "outputs": [
    {
     "name": "stderr",
     "output_type": "stream",
     "text": [
      "/tmp/ipykernel_391971/3237796535.py:1: FutureWarning: The default value of numeric_only in DataFrameGroupBy.median is deprecated. In a future version, numeric_only will default to False. Either specify numeric_only or select only columns which should be valid for the function.\n",
      "  median_noise = noise_df.groupby('HPC').agg('median').reset_index().sort_values(by='noise')\n"
     ]
    },
    {
     "data": {
      "application/vnd.microsoft.datawrangler.viewer.v0+json": {
       "columns": [
        {
         "name": "index",
         "rawType": "int64",
         "type": "integer"
        },
        {
         "name": "HPC",
         "rawType": "object",
         "type": "string"
        },
        {
         "name": "noise",
         "rawType": "float64",
         "type": "float"
        },
        {
         "name": "robust_z_score",
         "rawType": "float64",
         "type": "float"
        },
        {
         "name": "median",
         "rawType": "int64",
         "type": "integer"
        }
       ],
       "conversionMethod": "pd.DataFrame",
       "ref": "c0199b6f-5bbc-4d16-aea2-4ec6a0ef03ac",
       "rows": [
        [
         "4",
         "HPC 17",
         "0.008196168033667817",
         "-0.8421814759792459",
         "0"
        ],
        [
         "11",
         "HPC 34",
         "0.022524014574362372",
         "-0.5551788532535702",
         "0"
        ],
        [
         "10",
         "HPC 33",
         "0.023778952533425022",
         "-0.5300410571035336",
         "0"
        ],
        [
         "5",
         "HPC 21",
         "0.024875621890547265",
         "-0.5080735562049856",
         "0"
        ],
        [
         "1",
         "HPC 11",
         "0.02581633395633321",
         "-0.4892300524486167",
         "0"
        ],
        [
         "0",
         "HPC 0",
         "0.030344013321122777",
         "-0.3985356240245854",
         "0"
        ],
        [
         "14",
         "HPC 47",
         "0.032451499118165784",
         "-0.35632035117178634",
         "0"
        ],
        [
         "17",
         "HPC 50",
         "0.03405161866323471",
         "-0.324268185844286",
         "0"
        ],
        [
         "20",
         "HPC 67",
         "0.03841117415975556",
         "-0.23694146456304538",
         "0"
        ],
        [
         "21",
         "HPC 68",
         "0.04432717678100264",
         "-0.11843738486569431",
         "0"
        ],
        [
         "13",
         "HPC 44",
         "0.04626863354037267",
         "-0.07954785738052077",
         "0"
        ],
        [
         "9",
         "HPC 31",
         "0.06887910265113922",
         "0.37336486173723327",
         "1"
        ],
        [
         "22",
         "HPC 69",
         "0.07292398892146223",
         "0.4543884101757626",
         "1"
        ],
        [
         "8",
         "HPC 30",
         "0.08096701394435618",
         "0.6154991025371355",
         "1"
        ],
        [
         "7",
         "HPC 28",
         "0.08558040357811525",
         "0.7079104025035093",
         "1"
        ],
        [
         "15",
         "HPC 48",
         "0.08717105263157894",
         "0.739772863403238",
         "1"
        ],
        [
         "2",
         "HPC 13",
         "0.08896151053013798",
         "0.7756377165971107",
         "1"
        ],
        [
         "19",
         "HPC 64",
         "0.0978963767019255",
         "0.9546129741644369",
         "1"
        ],
        [
         "16",
         "HPC 5",
         "0.11982763402390659",
         "1.3939203294744507",
         "1"
        ],
        [
         "6",
         "HPC 27",
         "0.15420942912123153",
         "2.082625735337256",
         "1"
        ],
        [
         "12",
         "HPC 40",
         "0.15828524319868095",
         "2.1642688019800893",
         "1"
        ],
        [
         "18",
         "HPC 61",
         "0.16732756336659896",
         "2.3453964820084052",
         "1"
        ],
        [
         "3",
         "HPC 16",
         "0.21534809255406778",
         "3.3073008255770038",
         "1"
        ]
       ],
       "shape": {
        "columns": 4,
        "rows": 23
       }
      },
      "text/html": [
       "<div>\n",
       "<style scoped>\n",
       "    .dataframe tbody tr th:only-of-type {\n",
       "        vertical-align: middle;\n",
       "    }\n",
       "\n",
       "    .dataframe tbody tr th {\n",
       "        vertical-align: top;\n",
       "    }\n",
       "\n",
       "    .dataframe thead th {\n",
       "        text-align: right;\n",
       "    }\n",
       "</style>\n",
       "<table border=\"1\" class=\"dataframe\">\n",
       "  <thead>\n",
       "    <tr style=\"text-align: right;\">\n",
       "      <th></th>\n",
       "      <th>HPC</th>\n",
       "      <th>noise</th>\n",
       "      <th>robust_z_score</th>\n",
       "      <th>median</th>\n",
       "    </tr>\n",
       "  </thead>\n",
       "  <tbody>\n",
       "    <tr>\n",
       "      <th>4</th>\n",
       "      <td>HPC 17</td>\n",
       "      <td>0.008196</td>\n",
       "      <td>-0.842181</td>\n",
       "      <td>0</td>\n",
       "    </tr>\n",
       "    <tr>\n",
       "      <th>11</th>\n",
       "      <td>HPC 34</td>\n",
       "      <td>0.022524</td>\n",
       "      <td>-0.555179</td>\n",
       "      <td>0</td>\n",
       "    </tr>\n",
       "    <tr>\n",
       "      <th>10</th>\n",
       "      <td>HPC 33</td>\n",
       "      <td>0.023779</td>\n",
       "      <td>-0.530041</td>\n",
       "      <td>0</td>\n",
       "    </tr>\n",
       "    <tr>\n",
       "      <th>5</th>\n",
       "      <td>HPC 21</td>\n",
       "      <td>0.024876</td>\n",
       "      <td>-0.508074</td>\n",
       "      <td>0</td>\n",
       "    </tr>\n",
       "    <tr>\n",
       "      <th>1</th>\n",
       "      <td>HPC 11</td>\n",
       "      <td>0.025816</td>\n",
       "      <td>-0.489230</td>\n",
       "      <td>0</td>\n",
       "    </tr>\n",
       "    <tr>\n",
       "      <th>0</th>\n",
       "      <td>HPC 0</td>\n",
       "      <td>0.030344</td>\n",
       "      <td>-0.398536</td>\n",
       "      <td>0</td>\n",
       "    </tr>\n",
       "    <tr>\n",
       "      <th>14</th>\n",
       "      <td>HPC 47</td>\n",
       "      <td>0.032451</td>\n",
       "      <td>-0.356320</td>\n",
       "      <td>0</td>\n",
       "    </tr>\n",
       "    <tr>\n",
       "      <th>17</th>\n",
       "      <td>HPC 50</td>\n",
       "      <td>0.034052</td>\n",
       "      <td>-0.324268</td>\n",
       "      <td>0</td>\n",
       "    </tr>\n",
       "    <tr>\n",
       "      <th>20</th>\n",
       "      <td>HPC 67</td>\n",
       "      <td>0.038411</td>\n",
       "      <td>-0.236941</td>\n",
       "      <td>0</td>\n",
       "    </tr>\n",
       "    <tr>\n",
       "      <th>21</th>\n",
       "      <td>HPC 68</td>\n",
       "      <td>0.044327</td>\n",
       "      <td>-0.118437</td>\n",
       "      <td>0</td>\n",
       "    </tr>\n",
       "    <tr>\n",
       "      <th>13</th>\n",
       "      <td>HPC 44</td>\n",
       "      <td>0.046269</td>\n",
       "      <td>-0.079548</td>\n",
       "      <td>0</td>\n",
       "    </tr>\n",
       "    <tr>\n",
       "      <th>9</th>\n",
       "      <td>HPC 31</td>\n",
       "      <td>0.068879</td>\n",
       "      <td>0.373365</td>\n",
       "      <td>1</td>\n",
       "    </tr>\n",
       "    <tr>\n",
       "      <th>22</th>\n",
       "      <td>HPC 69</td>\n",
       "      <td>0.072924</td>\n",
       "      <td>0.454388</td>\n",
       "      <td>1</td>\n",
       "    </tr>\n",
       "    <tr>\n",
       "      <th>8</th>\n",
       "      <td>HPC 30</td>\n",
       "      <td>0.080967</td>\n",
       "      <td>0.615499</td>\n",
       "      <td>1</td>\n",
       "    </tr>\n",
       "    <tr>\n",
       "      <th>7</th>\n",
       "      <td>HPC 28</td>\n",
       "      <td>0.085580</td>\n",
       "      <td>0.707910</td>\n",
       "      <td>1</td>\n",
       "    </tr>\n",
       "    <tr>\n",
       "      <th>15</th>\n",
       "      <td>HPC 48</td>\n",
       "      <td>0.087171</td>\n",
       "      <td>0.739773</td>\n",
       "      <td>1</td>\n",
       "    </tr>\n",
       "    <tr>\n",
       "      <th>2</th>\n",
       "      <td>HPC 13</td>\n",
       "      <td>0.088962</td>\n",
       "      <td>0.775638</td>\n",
       "      <td>1</td>\n",
       "    </tr>\n",
       "    <tr>\n",
       "      <th>19</th>\n",
       "      <td>HPC 64</td>\n",
       "      <td>0.097896</td>\n",
       "      <td>0.954613</td>\n",
       "      <td>1</td>\n",
       "    </tr>\n",
       "    <tr>\n",
       "      <th>16</th>\n",
       "      <td>HPC 5</td>\n",
       "      <td>0.119828</td>\n",
       "      <td>1.393920</td>\n",
       "      <td>1</td>\n",
       "    </tr>\n",
       "    <tr>\n",
       "      <th>6</th>\n",
       "      <td>HPC 27</td>\n",
       "      <td>0.154209</td>\n",
       "      <td>2.082626</td>\n",
       "      <td>1</td>\n",
       "    </tr>\n",
       "    <tr>\n",
       "      <th>12</th>\n",
       "      <td>HPC 40</td>\n",
       "      <td>0.158285</td>\n",
       "      <td>2.164269</td>\n",
       "      <td>1</td>\n",
       "    </tr>\n",
       "    <tr>\n",
       "      <th>18</th>\n",
       "      <td>HPC 61</td>\n",
       "      <td>0.167328</td>\n",
       "      <td>2.345396</td>\n",
       "      <td>1</td>\n",
       "    </tr>\n",
       "    <tr>\n",
       "      <th>3</th>\n",
       "      <td>HPC 16</td>\n",
       "      <td>0.215348</td>\n",
       "      <td>3.307301</td>\n",
       "      <td>1</td>\n",
       "    </tr>\n",
       "  </tbody>\n",
       "</table>\n",
       "</div>"
      ],
      "text/plain": [
       "       HPC     noise  robust_z_score  median\n",
       "4   HPC 17  0.008196       -0.842181       0\n",
       "11  HPC 34  0.022524       -0.555179       0\n",
       "10  HPC 33  0.023779       -0.530041       0\n",
       "5   HPC 21  0.024876       -0.508074       0\n",
       "1   HPC 11  0.025816       -0.489230       0\n",
       "0    HPC 0  0.030344       -0.398536       0\n",
       "14  HPC 47  0.032451       -0.356320       0\n",
       "17  HPC 50  0.034052       -0.324268       0\n",
       "20  HPC 67  0.038411       -0.236941       0\n",
       "21  HPC 68  0.044327       -0.118437       0\n",
       "13  HPC 44  0.046269       -0.079548       0\n",
       "9   HPC 31  0.068879        0.373365       1\n",
       "22  HPC 69  0.072924        0.454388       1\n",
       "8   HPC 30  0.080967        0.615499       1\n",
       "7   HPC 28  0.085580        0.707910       1\n",
       "15  HPC 48  0.087171        0.739773       1\n",
       "2   HPC 13  0.088962        0.775638       1\n",
       "19  HPC 64  0.097896        0.954613       1\n",
       "16   HPC 5  0.119828        1.393920       1\n",
       "6   HPC 27  0.154209        2.082626       1\n",
       "12  HPC 40  0.158285        2.164269       1\n",
       "18  HPC 61  0.167328        2.345396       1\n",
       "3   HPC 16  0.215348        3.307301       1"
      ]
     },
     "execution_count": 111,
     "metadata": {},
     "output_type": "execute_result"
    }
   ],
   "source": [
    "median_noise = noise_df.groupby('HPC').agg('median').reset_index().sort_values(by='noise')\n",
    "median_noise['median'] = median_noise['noise'].apply(lambda x: 1 if x > np.median(noise_df['noise']) else 0)\n",
    "\n",
    "median_noise"
   ]
  },
  {
   "cell_type": "code",
   "execution_count": 112,
   "metadata": {},
   "outputs": [
    {
     "name": "stderr",
     "output_type": "stream",
     "text": [
      "/tmp/ipykernel_391971/2879100613.py:4: FutureWarning: \n",
      "\n",
      "Passing `palette` without assigning `hue` is deprecated and will be removed in v0.14.0. Assign the `x` variable to `hue` and set `legend=False` for the same effect.\n",
      "\n",
      "  sns.barplot(data=noise_df, x='HPC', y='robust_z_score', order=z_noise_order, ax=ax, palette=dict(row_colors))\n",
      "/tmp/ipykernel_391971/2879100613.py:5: UserWarning: set_ticklabels() should only be used with a fixed number of ticks, i.e. after set_ticks() or using a FixedLocator.\n",
      "  ax.set_xticklabels(ax.get_xticklabels(), rotation=90)\n"
     ]
    },
    {
     "data": {
      "image/png": "[encoded data removed]",
      "text/plain": [
       "<Figure size 1008x504 with 2 Axes>"
      ]
     },
     "metadata": {
      "needs_background": "light"
     },
     "output_type": "display_data"
    }
   ],
   "source": [
    "sns.set_context(\"paper\", font_scale=2.0)\n",
    "fig, ax = plt.subplots(figsize=(14,7))\n",
    "\n",
    "sns.barplot(data=noise_df, x='HPC', y='robust_z_score', order=z_noise_order, ax=ax, palette=dict(row_colors))\n",
    "ax.set_xticklabels(ax.get_xticklabels(), rotation=90)\n",
    "ax.set_ylabel('Prop. as single cells and buds (<5 cells)\\n of all tumour cells')\n",
    "cbar = fig.colorbar(sm, orientation='vertical', ax=ax, aspect=20)\n",
    "cbar.set_label('Mean Hazard Ratio')\n",
    "# plt.savefig('/nfs/home/users/krakovic/sharedscratch/notebooks/latticea_he/final_figures/bioclavis/barplot_z_score_cohesion_color_all_hazard_ratio.tiff', dpi=300, bbox_inches='tight', pad_inches=0.1)"
   ]
  },
  {
   "cell_type": "code",
   "execution_count": null,
   "metadata": {},
   "outputs": [
    {
     "name": "stderr",
     "output_type": "stream",
     "text": [
      "/tmp/ipykernel_391971/1353152389.py:15: UserWarning: set_ticklabels() should only be used with a fixed number of ticks, i.e. after set_ticks() or using a FixedLocator.\n",
      "  ax.set_xticklabels(ax.get_xticklabels(), rotation=0)\n"
     ]
    },
    {
     "data": {
      "text/plain": [
       "Text(0.5, 0, 'Discohesion Z-score')"
      ]
     },
     "execution_count": 113,
     "metadata": {},
     "output_type": "execute_result"
    },
    {
     "data": {
      "image/png": "[encoded data removed]",
      "text/plain": [
       "<Figure size 432x1152 with 1 Axes>"
      ]
     },
     "metadata": {
      "needs_background": "light"
     },
     "output_type": "display_data"
    }
   ],
   "source": [
    "sns.set_context(\"paper\", font_scale=3.0)\n",
    "fig, ax = plt.subplots(figsize=(6,16))\n",
    "\n",
    "cluster_annotations = pd.read_csv('/nfs/home/users/krakovic/sharedscratch/notebooks/latticea_he/final_figures/bioclavis/pure_by_supercluster_bioclavis_all.csv', index_col=0)\n",
    "cluster_annotations = cluster_annotations.drop(labels='core_ID', axis=1).dropna().drop_duplicates().sort_values(by='cluster').set_index('cluster')\n",
    "cluster_annotations = cluster_annotations.replace({'hot_cohesive':'Hot cohesive',\n",
    "                                                   'cold_cohesive':'Cold cohesive',\n",
    "                                                   'cold_discohesive':'Cold discohesive',\n",
    "                                                   'hot_discohesive':'Hot discohesive'})\n",
    "cluster_annotations = cluster_annotations.rename(columns={'supercluster':'Supercluster'})\n",
    "\n",
    "sns.barplot(data=noise_df[noise_df['HPC'].isin(cluster_annotations.index)], y='HPC', x='robust_z_score', estimator='median', order=median_noise['HPC'][::-1], errorbar='ci', ax=ax, orient='h')\n",
    "ax.set_xticklabels(ax.get_xticklabels(), rotation=0)\n",
    "ax.set_xlabel('Discohesion Z-score')\n",
    "plt.savefig('/nfs/home/users/krakovic/sharedscratch/notebooks/latticea_he/final_figures/bioclavis/250328_barplot_robust_z_score_cohesion_color_all_hazard_ratio_horizontal_filtered_HPCs.pdf', dpi=300, bbox_inches='tight', pad_inches=0.1)"
   ]
  },
  {
   "cell_type": "code",
   "execution_count": 122,
   "metadata": {},
   "outputs": [
    {
     "name": "stderr",
     "output_type": "stream",
     "text": [
      "/tmp/ipykernel_391971/1840001636.py:6: UserWarning: set_ticklabels() should only be used with a fixed number of ticks, i.e. after set_ticks() or using a FixedLocator.\n",
      "  ax.set_xticklabels(ax.get_xticklabels(), rotation=90)\n"
     ]
    },
    {
     "data": {
      "text/plain": [
       "Text(0, 0.5, 'Discohesion Z-score')"
      ]
     },
     "execution_count": 122,
     "metadata": {},
     "output_type": "execute_result"
    },
    {
     "data": {
      "image/png": "[encoded data removed]",
      "text/plain": [
       "<Figure size 1008x504 with 1 Axes>"
      ]
     },
     "metadata": {
      "needs_background": "light"
     },
     "output_type": "display_data"
    }
   ],
   "source": [
    "sns.set_context(\"paper\", font_scale=2.0)\n",
    "fig, ax = plt.subplots(figsize=(14,7))\n",
    "\n",
    "sns.barplot(data=noise_df[noise_df['HPC'].isin(cluster_annotations.index)], x='HPC', y='robust_z_score', estimator='median', order=median_noise['HPC'][::-1], errorbar='ci', ax=ax)\n",
    "# sns.barplot(data=noise_df, x='HPC', y='robust_z_score', order=z_noise_order, ax=ax)\n",
    "ax.set_xticklabels(ax.get_xticklabels(), rotation=90)\n",
    "ax.set_ylabel('Discohesion Z-score')\n",
    "# plt.tight_layout()\n",
    "# plt.savefig('/nfs/home/users/krakovic/sharedscratch/notebooks/latticea_he/final_figures/bioclavis/barplot_z_score_cohesion_color_None.tiff', dpi=300, bbox_inches='tight', pad_inches=0.1)"
   ]
  },
  {
   "cell_type": "code",
   "execution_count": 126,
   "metadata": {},
   "outputs": [],
   "source": [
    "noise_df.to_csv('/nfs/home/users/krakovic/sharedscratch/notebooks/latticea_he/final_figures/bioclavis/data/noise_df_per_core.csv')"
   ]
  },
  {
   "cell_type": "code",
   "execution_count": 127,
   "metadata": {},
   "outputs": [],
   "source": [
    "median_noise.to_csv('/nfs/home/users/krakovic/sharedscratch/notebooks/latticea_he/final_figures/bioclavis/data/median_noise_per_cluster.csv')"
   ]
  }
 ],
 "metadata": {
  "kernelspec": {
   "display_name": "scpy",
   "language": "python",
   "name": "scpy"
  },
  "language_info": {
   "codemirror_mode": {
    "name": "ipython",
    "version": 3
   },
   "file_extension": ".py",
   "mimetype": "text/x-python",
   "name": "python",
   "nbconvert_exporter": "python",
   "pygments_lexer": "ipython3",
   "version": "3.10.13"
  }
 },
 "nbformat": 4,
 "nbformat_minor": 2
}
